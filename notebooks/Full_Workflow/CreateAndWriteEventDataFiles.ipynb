{
 "cells": [
  {
   "cell_type": "markdown",
   "metadata": {},
   "source": [
    "# Create and Write SPECFEM3D DATA Files: CMT, STATIONS, ADJ_STATIONS \n",
    "1. Define function for making directories\n",
    "1. Create directories for each event including the special directories for run0001 "
   ]
  },
  {
   "cell_type": "markdown",
   "metadata": {},
   "source": [
    "### 1. Unpickle Project Dictionary"
   ]
  },
  {
   "cell_type": "code",
   "execution_count": null,
   "metadata": {},
   "outputs": [],
   "source": [
    "import pickle\n",
    "\n",
    "data_root_dir = '../../../data_notebooks'\n",
    "\n",
    "# Test UnPickle Project Dictionary\n",
    "f = open(data_root_dir + '/pickled/project_dict.pickle', 'rb')\n",
    "dill_project_dict = pickle.load(f)\n",
    "f.close()\n",
    "print()\n",
    "print('dill_project_dict:\\n',dill_project_dict)\n",
    "print()"
   ]
  },
  {
   "cell_type": "markdown",
   "metadata": {},
   "source": [
    "### 2. Unpickle events to be used for constructing moment tensors"
   ]
  },
  {
   "cell_type": "code",
   "execution_count": null,
   "metadata": {},
   "outputs": [],
   "source": [
    "from gnam.events.gevents import gevents as gevents\n",
    "from gnam.events.gstations import gstations as gstations\n",
    "from gnam.events.munge.knmi import correct_station_depths as csd_f\n",
    "\n",
    "#Unpickle events\n",
    "print('Unpickling Events')\n",
    "f = open('../../../data_notebooks/pickled/events.pickle', 'rb')\n",
    "dill_events = pickle.load(f)\n",
    "f.close()\n",
    "    \n",
    "\n",
    "#Unpickle stations\n",
    "print('Unpickling Station Traces')\n",
    "f = open('../../../data_notebooks/pickled/straces.pickle', 'rb')\n",
    "dill_straces = pickle.load(f)\n",
    "f.close()\n",
    "\n",
    "# This is kind of hokey, but it works for now.\n",
    "# Some of the stations depths do not follow the \n",
    "# 50, 100, 150, 200 meter depths -- possibly because\n",
    "# the boreholes are slanted. To correct for this,\n",
    "# a hard coded \"patch/update\" is applied. See the\n",
    "# code for details and update values.\n",
    "dill_straces.correct_stations(csd_f)\n",
    "\n",
    "print('Done')"
   ]
  },
  {
   "cell_type": "markdown",
   "metadata": {},
   "source": [
    "### 3. Construct moment tensors"
   ]
  },
  {
   "cell_type": "code",
   "execution_count": null,
   "metadata": {},
   "outputs": [],
   "source": [
    "from gnam.events.mtensors import mtensors\n",
    "import pandas as pd\n",
    "import numpy as np\n",
    "\n",
    "#Get model bounding box needed for adjusting strike\n",
    "gf_bbox = dill_events.getBBox()\n",
    "\n",
    "#Read moment tensors\n",
    "gf_mts = mtensors(data_root_dir + '/data/event_moments.csv',gf_bbox)\n",
    "\n",
    "    \n",
    "# get event catalog of the events withing the bounding box\n",
    "e_cat = dill_events.getIncCatalog()\n",
    "\n",
    "# This is a bit hokey, but it works. Here we update the\n",
    "# event time from the moment tensor CSV file with thouse\n",
    "# from the event catalog\n",
    "gf_mts.update_utcdatetime(e_cat)\n",
    "f.close()\n",
    "\n",
    "# Create a dictionary that maps moment tensors to events\n",
    "e2mt_dict = gf_mts.map_events_2_tensors(e_cat)\n",
    "e2mt_keys = e2mt_dict.keys()\n",
    "\n",
    "# Print a comparison of events to moment tensors\n",
    "for key in e2mt_keys:\n",
    "    print('UTC: event[%d][Date] = %s' %(key,e_cat[key].origins[0].time))\n",
    "    print('UTC:    MT[%d][Date] = %s' %(key,e2mt_dict[key]['Date']))\n",
    "    print('Mag: event[%d][Date] = %s' %(key,e_cat[key].magnitudes[0].mag))\n",
    "    print('Mag:    MT[%d][Date] = %s' %(key,e2mt_dict[key]['ML']))\n",
    "    print('Mag:    MT[%d][XC]   = %s' %(key,e2mt_dict[key]['XC']))\n",
    "    print('Mag:    MT[%d][YC]   = %s' %(key,e2mt_dict[key]['YC']))\n",
    "    print('Dict: %d' %(key),e2mt_dict[key])\n",
    "    print('Obj:  %d' %(key),gf_mts[3])\n",
    "    print()"
   ]
  },
  {
   "cell_type": "markdown",
   "metadata": {},
   "source": [
    "### 4. Unpickle Noisey (removed) and Kept Streams"
   ]
  },
  {
   "cell_type": "code",
   "execution_count": null,
   "metadata": {},
   "outputs": [],
   "source": [
    "# unpickle kept streams\n",
    "f = open(data_root_dir + '/pickled/kept_obs_data.pickle', 'rb')\n",
    "dill_kept_obs_dict = pickle.load(f)\n",
    "f.close()\n",
    "\n",
    "dill_obs_keys = dill_kept_obs_dict.keys()\n",
    "for dkey in dill_obs_keys:\n",
    "    print(len(dill_kept_obs_dict[dkey]))\n",
    "\n",
    "# unpickle removed streams\n",
    "f = open(data_root_dir + '/pickled/remo_obs_data.pickle', 'rb')\n",
    "dill_remo_obs_dict = pickle.load(f)\n",
    "f.close()\n",
    "\n",
    "dill_obs_keys = dill_remo_obs_dict.keys()\n",
    "for dkey in dill_obs_keys:\n",
    "    print(len(dill_remo_obs_dict[dkey]))"
   ]
  },
  {
   "cell_type": "markdown",
   "metadata": {},
   "source": [
    "### 5. Unpickle Event trigger dictionary"
   ]
  },
  {
   "cell_type": "code",
   "execution_count": null,
   "metadata": {},
   "outputs": [],
   "source": [
    "#test unpickle the event_trigger_dict[eid]\n",
    "f = open(data_root_dir + '/pickled/event_trigger_dict.pickle', 'rb')\n",
    "event_trigger_dict = pickle.load(f)\n",
    "f.close()\n",
    "\n",
    "trig_keys = event_trigger_dict.keys()\n",
    "for tkey in trig_keys:\n",
    "    print('tkey: %d\\n'%(tkey),event_trigger_dict[tkey])\n",
    "    print()"
   ]
  },
  {
   "cell_type": "markdown",
   "metadata": {},
   "source": [
    "### 6. CMTSOLUTION, STATIONS, STATIONS_ADJOINT, trace, and .window files for each event (run#### dirs)"
   ]
  },
  {
   "cell_type": "markdown",
   "metadata": {},
   "source": [
    "#### Define function for writing .window files used for creating adjoint sources"
   ]
  },
  {
   "cell_type": "code",
   "execution_count": null,
   "metadata": {},
   "outputs": [],
   "source": [
    "def write_window_files(fqdp,trig_dict,except_st,win=1.5):\n",
    "    \n",
    "    for key in trig_dict:\n",
    "        \n",
    "        #FIXME: ugly ugly ugly\n",
    "        skip = False\n",
    "        for tr in except_st:\n",
    "            if key == tr.stats.station:\n",
    "                skip = True\n",
    "                break\n",
    "        if skip: \n",
    "            continue\n",
    "        \n",
    "        tr_filename = 'NL.' + key + '.window'\n",
    "        \n",
    "        p_trig = trig_dict[key][0]\n",
    "        p0     = trig_dict[key][1]\n",
    "        s0     = trig_dict[key][2]\n",
    "        s_trig = trig_dict[key][3]\n",
    "        str_t0 = 'T0 = %.3f\\n' %(p_trig)\n",
    "        str_t1 = 'T1 = %.3f\\n' %(p0+win)\n",
    "        str_p0 = 'P0 = %.3f\\n' %(p0)\n",
    "        str_s0 = 'S0 = %.3f\\n' %(s0)\n",
    "        #print('T0:',str_t0)\n",
    "        #print('T1:',str_t1)\n",
    "        window_list = [str_t0,str_t1,str_p0,str_s0] \n",
    "\n",
    "        #print('Filename:', tr_filename)\n",
    "        #print('Contents:\\n', window_list)\n",
    "\n",
    "        fqpname = fqdp + '/' + tr_filename\n",
    "        f = open(fqpname, 'w')\n",
    "        f.writelines(window_list)\n",
    "        f.close()"
   ]
  },
  {
   "cell_type": "code",
   "execution_count": null,
   "metadata": {
    "scrolled": true
   },
   "outputs": [],
   "source": [
    "from gnam.specutils.write import write_cmtsolution as spec_wcmt\n",
    "from gnam.specutils.write import write_stations_except_for as spec_ws_e4\n",
    "from gnam.specutils.write import write_stream_2_spec_ascii as spec_wst2a\n",
    "from shutil import copyfile\n",
    "\n",
    "num_events = dill_project_dict['NUM_EVENTS']\n",
    "proj_name = dill_project_dict['PROJ_NAME']\n",
    "proj_root_path = dill_project_dict['PROJ_ROOT_PATH']\n",
    "proj_fqdn = proj_root_path + proj_name\n",
    "\n",
    "for e in range(num_events):\n",
    "    ekey = e + 3 #FIXME!!!\n",
    "    edir = proj_fqdn + '/run' + str(e+1).zfill(4)\n",
    "    dname = edir\n",
    "    data_dir = dname + '/Data'\n",
    "    obs_dir = dname + '/OBS'\n",
    "    \n",
    "    #Copy a starting Parfile\n",
    "    src = data_root_dir + '/SPECFEM3D' + '/Par_file_event0'\n",
    "    if e != 0:\n",
    "        src = data_root_dir + '/SPECFEM3D' + '/Par_file_eventN'\n",
    "        \n",
    "    dst = data_dir + '/Par_file'\n",
    "    copyfile(src, dst)\n",
    "    \n",
    "    #needed for excluding sations in STATION files and OBS data\n",
    "    except_st = dill_remo_obs_dict[ekey]\n",
    "    \n",
    "    #needed for .window files used for creating adj-src's\n",
    "    trig_dict = event_trigger_dict[ekey]\n",
    "    \n",
    "    #FIXME!!! used for geting stations for writing STATION Files\n",
    "    bkeys = [3,4]\n",
    "    \n",
    "    print('Writing for Experiment-%d:\\n'%(ekey), dname)\n",
    "    \n",
    "    #write moment tensors\n",
    "    mt = e2mt_dict[ekey] \n",
    "    xc = e2mt_dict[ekey]['XC']\n",
    "    yc = e2mt_dict[ekey]['YC']\n",
    "    lxy = gf_bbox.convert_extern_coords_2_local(xc,yc)\n",
    "    spec_wcmt(data_dir + '/CMTSOLUTION',mt,lxy[0],lxy[1])\n",
    "    \n",
    "    #write STATIONS\n",
    "    mt = e2mt_dict[ekey] \n",
    "    spec_ws_e4(data_dir + '/STATIONS',dill_straces,ekey,bkeys,except_st)\n",
    "    \n",
    "    src = data_dir + '/STATIONS'\n",
    "    dst = data_dir + '/STATIONS_ADJOINT'\n",
    "    copyfile(src, dst)\n",
    "    #spec_ws_e4(data_dir + '/STATIONS_ADJOINT',dill_straces,ekey,bkeys,except_st)\n",
    "    \n",
    "    #write OBS data (the actual traces)\n",
    "    obs_st = dill_kept_obs_dict[ekey]\n",
    "    spec_wst2a(obs_st,obs_dir,'FX#')\n",
    "    \n",
    "    #write .window files \n",
    "    write_window_files(obs_dir,trig_dict,except_st)"
   ]
  },
  {
   "cell_type": "markdown",
   "metadata": {},
   "source": [
    "## Finished"
   ]
  },
  {
   "cell_type": "code",
   "execution_count": null,
   "metadata": {},
   "outputs": [],
   "source": []
  }
 ],
 "metadata": {
  "kernelspec": {
   "display_name": "Python 3",
   "language": "python",
   "name": "python3"
  },
  "language_info": {
   "codemirror_mode": {
    "name": "ipython",
    "version": 3
   },
   "file_extension": ".py",
   "mimetype": "text/x-python",
   "name": "python",
   "nbconvert_exporter": "python",
   "pygments_lexer": "ipython3",
   "version": "3.6.10"
  }
 },
 "nbformat": 4,
 "nbformat_minor": 4
}
