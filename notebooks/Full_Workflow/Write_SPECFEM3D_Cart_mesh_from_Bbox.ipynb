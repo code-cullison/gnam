{
 "cells": [
  {
   "cell_type": "markdown",
   "metadata": {},
   "source": [
    "### Load libraries"
   ]
  },
  {
   "cell_type": "code",
   "execution_count": null,
   "metadata": {},
   "outputs": [],
   "source": [
    "from sys import argv\n",
    "import numpy as np\n",
    "import pandas as pd\n",
    "import scipy as sp\n",
    "from scipy import ndimage\n",
    "import matplotlib.pyplot as plt \n",
    "from matplotlib.colors import Normalize\n",
    "import shapefile as sf\n",
    "from scipy.interpolate import RegularGridInterpolator\n",
    "from gnam.model.gridmod3d import gridmod3d as gm\n",
    "from gnam.model.bbox import bbox as bb\n",
    "from shapely.geometry import Point, Polygon"
   ]
  },
  {
   "cell_type": "code",
   "execution_count": null,
   "metadata": {},
   "outputs": [],
   "source": [
    "!ls ../../../data_notebooks/pickled"
   ]
  },
  {
   "cell_type": "markdown",
   "metadata": {},
   "source": [
    "### Read in previously computed smoothed model"
   ]
  },
  {
   "cell_type": "code",
   "execution_count": null,
   "metadata": {},
   "outputs": [],
   "source": [
    "#this is a pickled dictionary with 4D ndarray, and 1D meta data arrays\n",
    "dpath = '../../../data_notebooks/pickled/'\n",
    "fname = 'smooth_z10m_sig250m_intnam_model_vp_vs_rho_Q_props.npz'\n",
    "ifilename = dpath + fname\n",
    "\n",
    "#Unpickle\n",
    "data = np.load(ifilename)\n",
    "props = data['props'] #4D ndarray\n",
    "\n",
    "#meta data arrays\n",
    "xdata = data['xd'] \n",
    "ydata = data['yd']\n",
    "zdata = data['zd']\n",
    "\n",
    "print('xd:\\n',xdata)\n",
    "print('yd:\\n',ydata)\n",
    "print('zd:\\n',zdata)\n",
    "\n",
    "# Setup Coordinate related vars\n",
    "xmin = xdata[0]\n",
    "dx   = xdata[1]\n",
    "nx   = int(xdata[2])\n",
    "xmax = xmin + (nx-1)*dx\n",
    "\n",
    "ymin = ydata[0]\n",
    "dy   = ydata[1]\n",
    "ny   = int(ydata[2])\n",
    "ymax = ymin + (ny-1)*dy\n",
    "\n",
    "zmin = zdata[0]\n",
    "dz   = zdata[1]\n",
    "nz   = int(zdata[2])\n",
    "zmax = (-zmin) + (nz-1)*dz\n",
    "\n",
    "nsub_props = props.shape[0]\n",
    "axes_order = {'X':0,'Y':1,'Z':2} #this dict keeps track of axes order\n",
    "gm3d = gm(props,nsub_props,axes_order,(nx,ny,nz),(dx,dy,dz),(xmin,ymin,zmin))\n",
    "print('gm3d:\\n',gm3d)\n",
    "\n",
    "#free up some memory\n",
    "del props "
   ]
  },
  {
   "cell_type": "code",
   "execution_count": null,
   "metadata": {},
   "outputs": [],
   "source": [
    "print('gm3d:\\n',gm3d)"
   ]
  },
  {
   "cell_type": "markdown",
   "metadata": {},
   "source": [
    "### Plot a depth slice of the smoothed model"
   ]
  },
  {
   "cell_type": "code",
   "execution_count": null,
   "metadata": {
    "scrolled": false
   },
   "outputs": [],
   "source": [
    "hires_surf = gm3d[0,:,:,200].T\n",
    "print('hires_surf.shape:',hires_surf.shape)\n",
    "gxyc = gm3d.getGlobalCoordsPointsXY()\n",
    "#get min max to normalize surface\n",
    "hires_vp_min = np.min(hires_surf)\n",
    "hires_vp_max = np.max(hires_surf)\n",
    "print('vp_min:',hires_vp_min)\n",
    "print('vp_max:',hires_vp_max)\n",
    "hires_norm = Normalize(hires_vp_min,hires_vp_max)\n",
    "\n",
    "fig, ax = plt.subplots(1,figsize=(8,6))\n",
    "sc = ax.scatter(gxyc[:,0],gxyc[:,1],s=1,c=hires_surf.flatten(),cmap=plt.cm.jet,norm=hires_norm)\n",
    "ax.set_title('Full NAM Model Surface (z=0)')\n",
    "fig.colorbar(sc)\n",
    "plt.show()"
   ]
  },
  {
   "cell_type": "markdown",
   "metadata": {},
   "source": [
    "### Subsample model"
   ]
  },
  {
   "cell_type": "code",
   "execution_count": null,
   "metadata": {},
   "outputs": [],
   "source": [
    "dx,dy,dz = gm3d.get_deltas()\n",
    "print('dx,dy,dz = %f,%f,%f' %(dx,dy,dz))\n",
    "\n",
    "gm3d.subsample(isz=10,idz=20,idx=4,idy=4) # idx=idy=2 by default\n",
    "#gm3d.subsample(idx=8,idy=8,isz=20,idz=40)\n",
    "print(gm3d)"
   ]
  },
  {
   "cell_type": "markdown",
   "metadata": {},
   "source": [
    "### Compress and Pickle Subsampled model"
   ]
  },
  {
   "cell_type": "code",
   "execution_count": null,
   "metadata": {},
   "outputs": [],
   "source": [
    "import numpy as np\n",
    "sub_props = gm3d.getNPArray()\n",
    "#ossfqn = './subsamp_smooth_z' + str(int(gm3d.get_deltas()[2])) \n",
    "#ossfqn = ossfqn + 'm_zcels_nam_model_vp_vs_rho_Q_props.npz'\n",
    "dpath = '../../../data_notebooks/pickled/'\n",
    "fname = 'subsamp_smooth_z' + str(int(gm3d.get_deltas()[2])) + 'm_zcels_nam_model_vp_vs_rho_Q_props.npz'\n",
    "ossfqn = dpath + fname\n",
    "print(ossfqn)\n",
    "\n",
    "print('xdata:',xdata)\n",
    "print('ydata:',ydata)\n",
    "print('zdata:',zdata)\n",
    "\n",
    "xdata[0] = gm3d.get_gorigin()[0]\n",
    "ydata[0] = gm3d.get_gorigin()[1]\n",
    "zdata[0] = gm3d.get_gorigin()[2]\n",
    "xdata[1] = gm3d.get_deltas()[0]\n",
    "ydata[1] = gm3d.get_deltas()[1]\n",
    "zdata[1] = gm3d.get_deltas()[2]\n",
    "xdata[2] = gm3d.get_npoints()[0]\n",
    "ydata[2] = gm3d.get_npoints()[1]\n",
    "zdata[2] = gm3d.get_npoints()[2]\n",
    "print('xdata:',xdata)\n",
    "print('ydata:',ydata)\n",
    "print('zdata:',zdata)\n",
    "np.savez_compressed(ossfqn,props=sub_props,xd=xdata,yd=ydata,zd=zdata)\n",
    "del sub_props"
   ]
  },
  {
   "cell_type": "markdown",
   "metadata": {},
   "source": [
    "### Unpickle Subsampled model"
   ]
  },
  {
   "cell_type": "code",
   "execution_count": null,
   "metadata": {},
   "outputs": [],
   "source": [
    "#this is a pickled dictionary with 4D ndarray, and 1D meta data arrays\n",
    "#ifilename = './subsamp_smooth_z100m_zcels_nam_model_vp_vs_rho_Q_props.npz'\n",
    "#ifilename = './subsamp_smooth_z100m_nam_model_vp_vs_rho_Q_props.npz'\n",
    "dpath = '../../../data_notebooks/pickled/'\n",
    "fname = 'subsamp_smooth_z' + str(int(gm3d.get_deltas()[2])) + 'm_zcels_nam_model_vp_vs_rho_Q_props.npz'\n",
    "ifilename = dpath + fname\n",
    "\n",
    "#Unpickle\n",
    "data = np.load(ifilename)\n",
    "props = data['props'] #4D ndarray\n",
    "\n",
    "#meta data arrays\n",
    "xdata = data['xd'] \n",
    "ydata = data['yd']\n",
    "zdata = data['zd']\n",
    "\n",
    "print('xd:\\n',xdata)\n",
    "print('yd:\\n',ydata)\n",
    "print('zd:\\n',zdata)\n",
    "\n",
    "# Setup Coordinate related vars\n",
    "xmin = xdata[0]\n",
    "dx   = xdata[1]\n",
    "nx   = int(xdata[2])\n",
    "xmax = xmin + (nx-1)*dx\n",
    "\n",
    "ymin = ydata[0]\n",
    "dy   = ydata[1]\n",
    "ny   = int(ydata[2])\n",
    "ymax = ymin + (ny-1)*dy\n",
    "\n",
    "zmin = zdata[0]\n",
    "dz   = zdata[1]\n",
    "nz   = int(zdata[2])\n",
    "zmax = zmin + (nz-1)*dz\n",
    "\n",
    "nsub_props = props.shape[0]\n",
    "axes_order = {'X':0,'Y':1,'Z':2} #this dict keeps track of axes order\n",
    "gm3d = gm(props,nsub_props,axes_order,(nx,ny,nz),(dx,dy,dz),(xmin,ymin,zmin))\n",
    "print('gm3d:\\n',gm3d)\n",
    "\n",
    "#free up some memory\n",
    "del props "
   ]
  },
  {
   "cell_type": "code",
   "execution_count": null,
   "metadata": {},
   "outputs": [],
   "source": [
    "!ls ../../../data_notebooks/pickled/"
   ]
  },
  {
   "cell_type": "markdown",
   "metadata": {},
   "source": [
    "### Plot a depth slice"
   ]
  },
  {
   "cell_type": "code",
   "execution_count": null,
   "metadata": {
    "scrolled": false
   },
   "outputs": [],
   "source": [
    "lores_surf = gm3d[0,:,:,10].T\n",
    "#lores_surf = gm3d[0,:,:,5].T\n",
    "print('lores_surf.shape:',lores_surf.shape)\n",
    "gxyc = gm3d.getGlobalCoordsPointsXY()\n",
    "#get min max to normalize surface\n",
    "lores_vp_min = np.min(lores_surf)\n",
    "lores_vp_max = np.max(lores_surf)\n",
    "print('vp_min:',lores_vp_min)\n",
    "print('vp_max:',lores_vp_max)\n",
    "lores_norm = Normalize(lores_vp_min,lores_vp_max)\n",
    "\n",
    "fig, ax = plt.subplots(1,figsize=(8,6))\n",
    "sc = ax.scatter(gxyc[:,0],gxyc[:,1],s=1,c=lores_surf.flatten(),cmap=plt.cm.jet,norm=lores_norm)\n",
    "ax.set_title('Full NAM Model Surface (z=0)')\n",
    "fig.colorbar(sc)\n",
    "plt.show()"
   ]
  },
  {
   "cell_type": "markdown",
   "metadata": {},
   "source": [
    "### Unpickle bounding box"
   ]
  },
  {
   "cell_type": "code",
   "execution_count": null,
   "metadata": {},
   "outputs": [],
   "source": [
    "import pickle\n",
    "\n",
    "dpath = '../../../data_notebooks/pickled/'\n",
    "fname = 'model_bbox_200m.pickle'\n",
    "ifile = dpath + fname\n",
    "print('unpickle:',ifile)\n",
    "\n",
    "f = open(ifile, 'rb')\n",
    "dill_bbox = pickle.load(f)\n",
    "f.close()\n",
    "print('bbox after pickle :\\n',dill_bbox)"
   ]
  },
  {
   "cell_type": "markdown",
   "metadata": {},
   "source": [
    "### Plot bounding box on top of surface"
   ]
  },
  {
   "cell_type": "code",
   "execution_count": null,
   "metadata": {},
   "outputs": [],
   "source": [
    "%matplotlib notebook\n",
    "fig, ax = plt.subplots(1,figsize=(8,6))\n",
    "sc = ax.scatter(gxyc[:,0],gxyc[:,1],s=1,c=lores_surf.flatten(),cmap=plt.cm.jet,norm=lores_norm,zorder=0)\n",
    "ax.plot(dill_bbox.getCLoop()[:,0],dill_bbox.getCLoop()[:,1],c='black',linestyle='dotted',zorder=4)\n",
    "ax.set_title('Full NAM Model Surface (z=0)')\n",
    "fig.colorbar(sc)\n",
    "plt.show()"
   ]
  },
  {
   "cell_type": "markdown",
   "metadata": {},
   "source": [
    "### Slice a subsurface volume by a bounding box"
   ]
  },
  {
   "cell_type": "code",
   "execution_count": null,
   "metadata": {},
   "outputs": [],
   "source": [
    "import time\n",
    "\n",
    "start_t = time.time()\n",
    "slgm3d = gm3d.slice_volume_by_bbox(dill_bbox)\n",
    "exec_time = time.time() - start_t\n",
    "print('execution time:', exec_time)\n",
    "print('slgm3d:\\n',slgm3d)"
   ]
  },
  {
   "cell_type": "markdown",
   "metadata": {},
   "source": [
    "### Compress and pickle sliced model"
   ]
  },
  {
   "cell_type": "code",
   "execution_count": null,
   "metadata": {},
   "outputs": [],
   "source": [
    "import numpy as np\n",
    "slice_props = slgm3d.getNPArray()\n",
    "print(ossfqn)\n",
    "dpath = '../../../data_notebooks/pickled/'\n",
    "fname = 'rect_rot_z' + str(int(gm3d.get_deltas()[2])) + 'm_zcels_nam_model_vp_vs_rho_Q_props.npz'\n",
    "ossfqn = dpath + fname\n",
    "print(ossfqn)\n",
    "\n",
    "xdata[0] = slgm3d.get_gorigin()[0]\n",
    "ydata[0] = slgm3d.get_gorigin()[1]\n",
    "zdata[0] = slgm3d.get_gorigin()[2]\n",
    "xdata[1] = slgm3d.get_deltas()[0]\n",
    "ydata[1] = slgm3d.get_deltas()[1]\n",
    "zdata[1] = slgm3d.get_deltas()[2]\n",
    "xdata[2] = slgm3d.get_npoints()[0]\n",
    "ydata[2] = slgm3d.get_npoints()[1]\n",
    "zdata[2] = slgm3d.get_npoints()[2]\n",
    "rotdeg   = dill_bbox.getRotDeg()\n",
    "print('xdata:',xdata)\n",
    "print('ydata:',ydata)\n",
    "print('zdata:',zdata)\n",
    "np.savez_compressed(ossfqn,props=slice_props,xd=xdata,yd=ydata,zd=zdata,rot=rotdeg)\n",
    "del slice_props"
   ]
  },
  {
   "cell_type": "markdown",
   "metadata": {},
   "source": [
    "### Unpickle Sliced model"
   ]
  },
  {
   "cell_type": "code",
   "execution_count": null,
   "metadata": {},
   "outputs": [],
   "source": [
    "#this is a pickled dictionary with 4D ndarray, and 1D meta data arrays\n",
    "#ifilename = './rect_rot_z100m_zcels_nam_model_vp_vs_rho_Q_props.npz'\n",
    "dpath = '../../../data_notebooks/pickled/'\n",
    "fname = 'rect_rot_z' + str(int(gm3d.get_deltas()[2])) + 'm_zcels_nam_model_vp_vs_rho_Q_props.npz'\n",
    "ifilename = dpath + fname\n",
    "\n",
    "#Unpickle\n",
    "data = np.load(ifilename)\n",
    "props = data['props'] #4D ndarray\n",
    "print('props.shape:',props.shape)\n",
    "\n",
    "#meta data arrays\n",
    "xdata = data['xd'] \n",
    "ydata = data['yd']\n",
    "zdata = data['zd']\n",
    "rdeg  = data['rot']\n",
    "\n",
    "print('xd:\\n',xdata)\n",
    "print('yd:\\n',ydata)\n",
    "print('zd:\\n',zdata)\n",
    "\n",
    "# Setup Coordinate related vars\n",
    "xmin = xdata[0]\n",
    "dx   = xdata[1]\n",
    "nx   = int(xdata[2])\n",
    "xmax = xmin + (nx-1)*dx\n",
    "\n",
    "ymin = ydata[0]\n",
    "dy   = ydata[1]\n",
    "ny   = int(ydata[2])\n",
    "ymax = ymin + (ny-1)*dy\n",
    "\n",
    "zmin = zdata[0]\n",
    "dz   = zdata[1]\n",
    "nz   = int(zdata[2])\n",
    "zmax = zmin + (nz-1)*dz\n",
    "\n",
    "nsub_props = props.shape[0]\n",
    "axes_order = {'X':0,'Y':1,'Z':2} #this dict keeps track of axes order\n",
    "slgm3d = gm(props,nsub_props,axes_order,(nx,ny,nz),(dx,dy,dz),(xmin,ymin,zmin),rdeg)\n",
    "print('slgm3d:\\n',slgm3d)\n",
    "\n",
    "#free up some memory\n",
    "del props "
   ]
  },
  {
   "cell_type": "markdown",
   "metadata": {},
   "source": [
    "### Plot and compare depth slice of sliced model"
   ]
  },
  {
   "cell_type": "code",
   "execution_count": null,
   "metadata": {},
   "outputs": [],
   "source": [
    "slice_surf = slgm3d[0,:,:,0].T\n",
    "\n",
    "slxy = slgm3d.getGlobalCoordsPointsXY()"
   ]
  },
  {
   "cell_type": "code",
   "execution_count": null,
   "metadata": {},
   "outputs": [],
   "source": [
    "%matplotlib notebook\n",
    "\n",
    "slice_vp_min = np.min(slice_surf)\n",
    "slice_vp_max = np.max(slice_surf)\n",
    "print('vp_min:',slice_vp_min)\n",
    "print('vp_max:',slice_vp_max)\n",
    "slice_norm = Normalize(slice_vp_min,slice_vp_max)\n",
    "\n",
    "fig, ax = plt.subplots(1,figsize=(8,6))\n",
    "sc = ax.scatter(gxyc[:,0],gxyc[:,1],s=1,c=lores_surf.flatten(),cmap=plt.cm.jet,norm=slice_norm,zorder=0)\n",
    "ax.fill(dill_bbox.getCLoop()[:,0],dill_bbox.getCLoop()[:,1],c='white',zorder=1)\n",
    "ax.scatter(slxy[:,0],slxy[:,1],s=1,c=slice_surf.flatten(),cmap=plt.cm.jet,norm=slice_norm,zorder=2)\n",
    "ax.set_title('Full NAM Model Surface (z=0)')\n",
    "fig.colorbar(sc)\n",
    "plt.show()"
   ]
  },
  {
   "cell_type": "markdown",
   "metadata": {},
   "source": [
    "### Write Specfem Mesh"
   ]
  },
  {
   "cell_type": "code",
   "execution_count": null,
   "metadata": {},
   "outputs": [],
   "source": [
    "from gnam.specutils.gmutil import gmutil\n",
    "\n",
    "dpath = '../../../data_notebooks/SPECFEM3D/project/'\n",
    "fname = 'MESH-default-200m'\n",
    "ofqfname = dpath + fname\n",
    "print('Writing Mesh to:',ofqfname)\n",
    "\n",
    "gmu = gmutil()\n",
    "gmu.writeSpecfem3DMesh(ofqfname, slgm3d)"
   ]
  },
  {
   "cell_type": "markdown",
   "metadata": {},
   "source": [
    "### Write VTK file"
   ]
  },
  {
   "cell_type": "code",
   "execution_count": null,
   "metadata": {},
   "outputs": [],
   "source": [
    "from gnam.vtkutils.write import write_vtk_gridded_model_3d\n",
    "\n",
    "dpath = '../../../data_notebooks/SPECFEM3D/project/'\n",
    "fname = 'fixed_rect_rot_z200m_sig250m'\n",
    "vtkfqpname = dpath + fname\n",
    "print('Writing Vtk to:',vtkfqpname)\n",
    "\n",
    "rs_props = slgm3d.getNPArray()\n",
    "print('rs_props.shape:',rs_props.shape)\n",
    "rxdata = np.zeros((3))\n",
    "rydata = np.zeros((3))\n",
    "rzdata = np.zeros((3))\n",
    "rxdata[1] = slgm3d.get_deltas()[0]\n",
    "rydata[1] = slgm3d.get_deltas()[1]\n",
    "rzdata[1] = slgm3d.get_deltas()[2]\n",
    "rxdata[2] = rs_props.shape[1]\n",
    "rydata[2] = rs_props.shape[2]\n",
    "rzdata[2] = rs_props.shape[3]\n",
    "rzdata[0] = slgm3d.get_gorigin()[2]\n",
    "print('rxdata:',rxdata)\n",
    "print('rydata:',rydata)\n",
    "print('rzdata:',rzdata)\n",
    "write_vtk_gridded_model_3d(vtkfqpname,rs_props,rxdata,rydata,rzdata)"
   ]
  },
  {
   "cell_type": "markdown",
   "metadata": {},
   "source": []
  }
 ],
 "metadata": {
  "kernelspec": {
   "display_name": "Python 3",
   "language": "python",
   "name": "python3"
  },
  "language_info": {
   "codemirror_mode": {
    "name": "ipython",
    "version": 3
   },
   "file_extension": ".py",
   "mimetype": "text/x-python",
   "name": "python",
   "nbconvert_exporter": "python",
   "pygments_lexer": "ipython3",
   "version": "3.6.10"
  }
 },
 "nbformat": 4,
 "nbformat_minor": 4
}
