{
 "cells": [
  {
   "cell_type": "markdown",
   "metadata": {},
   "source": [
    "# Get Events and Stations\n",
    "\n",
    "In this notebook we will get the Groningen events and stations.  We can use a Bounding box to limit the region for which we get events and stations as well.\n",
    "\n",
    "1. Open Groningen shape-file (provided by KNMI)\n",
    "1. Plot the shape-file\n",
    "1. Get all the events\n",
    "1. Plot an overlay of the events with the shape-file\n",
    "1. Make a BoundingBox. Start with the bbox for the shape-file\n",
    "1. Shrink, translate, and rotate the bbox to the desired region\n",
    "1. Get the events again, but this time only get the events within the bbox\n",
    "1. Plot the bbox region events\n",
    "1. Get the stations for each of the bbox-events that are also contained within the bbox\n",
    "1. Plot all the bbox-events and all stations with markers relating to whether or not the station is in or outside to bbox as well as if there is data for that station-event pair."
   ]
  },
  {
   "cell_type": "markdown",
   "metadata": {},
   "source": [
    "### Step 0\n",
    "\n",
    "Read in Groningen Field shapefile."
   ]
  },
  {
   "cell_type": "code",
   "execution_count": null,
   "metadata": {},
   "outputs": [],
   "source": [
    "import shapefile as sf\n",
    "\n",
    "ifqn = './data_in/GroningenFieldShapeFile/Groningen_field'\n",
    "\n",
    "gron_sf = sf.Reader(ifqn)\n",
    "print('gron_sf:',gron_sf)"
   ]
  },
  {
   "cell_type": "markdown",
   "metadata": {},
   "source": [
    "### Step 1\n",
    "\n",
    "Plot the Groningen Field shape"
   ]
  },
  {
   "cell_type": "code",
   "execution_count": null,
   "metadata": {},
   "outputs": [],
   "source": [
    "import matplotlib.pyplot as plt \n",
    "import numpy as np\n",
    "\n",
    "#get coordinates for the Shape-File\n",
    "s = gron_sf.shape(0)\n",
    "shape_xy = np.asarray(s.points)\n",
    "\n",
    "#Plot\n",
    "fig, ax = plt.subplots(1,figsize=(8,8))\n",
    "ax.scatter(shape_xy[:,0],shape_xy[:,1],s=1,c='black',zorder=0)\n",
    "title_str = 'Groningen Field'\n",
    "ax.set_title(title_str)\n",
    "plt.show()\n",
    "\n"
   ]
  },
  {
   "cell_type": "markdown",
   "metadata": {},
   "source": [
    "### Step 2\n",
    "\n",
    "Get Groningen events"
   ]
  },
  {
   "cell_type": "code",
   "execution_count": null,
   "metadata": {},
   "outputs": [],
   "source": [
    "from gnam.events.gevents import gevents as gevents\n",
    "\n",
    "# Fetch the events using FDSN\n",
    "print('Getting Events via FDSN')\n",
    "min_magnitude = 2.0\n",
    "events = gevents(min_magnitude)\n",
    "print()\n",
    "\n",
    "# Show events\n",
    "print('Events:\\n',events)"
   ]
  },
  {
   "cell_type": "markdown",
   "metadata": {},
   "source": [
    "### Step 3 \n",
    "\n",
    "Plot overlay of all the \"North\" Nederland events on the Groningen Field "
   ]
  },
  {
   "cell_type": "code",
   "execution_count": null,
   "metadata": {},
   "outputs": [],
   "source": [
    "import matplotlib.pyplot as plt \n",
    "import numpy as np\n",
    "\n",
    "#get coordinates for events withing the Bounding Box\n",
    "event_coords = events.getIncCoords()\n",
    "\n",
    "#Plot\n",
    "fig, ax = plt.subplots(1,figsize=(8,8))\n",
    "ax.scatter(shape_xy[:,0],shape_xy[:,1],s=1,c='black',zorder=0)\n",
    "ax.scatter(event_coords[:,0],event_coords[:,1],s=80,c='red',marker='*',zorder=2)\n",
    "title_str = '%d Events' %(event_coords.shape[0])\n",
    "ax.set_title(title_str)\n",
    "plt.show()\n",
    "\n"
   ]
  },
  {
   "cell_type": "markdown",
   "metadata": {},
   "source": [
    "### Step 4\n",
    "\n",
    "Use BoundingBox and then only get events within the bbox. This features allows one to work with a small model.  This bounding box can then be used to slice a volume from the model, or the bbox from a sliced model, can be used to get related events."
   ]
  },
  {
   "cell_type": "code",
   "execution_count": null,
   "metadata": {},
   "outputs": [],
   "source": [
    "from gnam.model.bbox import bbox as bb\n",
    "\n",
    "# construct a bounding box form the \"bounding box\" field in the shape-file.\n",
    "print('gron_sf.bbox:',gron_sf.bbox)\n",
    "\n",
    "c_loop = np.array([[gron_sf.bbox[0],gron_sf.bbox[1]],[gron_sf.bbox[0],gron_sf.bbox[3]],\n",
    "                   [gron_sf.bbox[2],gron_sf.bbox[3]],[gron_sf.bbox[2],gron_sf.bbox[1]],\n",
    "                   [gron_sf.bbox[0],gron_sf.bbox[1]]])\n",
    "\n",
    "gf_bbox = bb(c_loop)"
   ]
  },
  {
   "cell_type": "markdown",
   "metadata": {},
   "source": [
    "### Step 5\n",
    "\n",
    "Overlay bbox on the Groningen Field shape and will all the events"
   ]
  },
  {
   "cell_type": "code",
   "execution_count": null,
   "metadata": {},
   "outputs": [],
   "source": [
    "import matplotlib.pyplot as plt \n",
    "import numpy as np\n",
    "\n",
    "#Plot\n",
    "fig, ax = plt.subplots(1,figsize=(8,8))\n",
    "ax.scatter(shape_xy[:,0],shape_xy[:,1],s=1,c='black',zorder=0)\n",
    "ax.plot(gf_bbox.getCLoop()[:,0],gf_bbox.getCLoop()[:,1],c='blue',zorder=1)\n",
    "ax.scatter(event_coords[:,0],event_coords[:,1],s=80,c='red',marker='*',zorder=2)\n",
    "title_str = '%d Events with Bbox' %(event_coords.shape[0])\n",
    "ax.set_title(title_str)\n",
    "plt.show()\n",
    "\n"
   ]
  },
  {
   "cell_type": "markdown",
   "metadata": {},
   "source": [
    "### Step 6\n",
    "\n",
    "Resize, rotate and translate the bbox to cover a region of interest, and then plot it"
   ]
  },
  {
   "cell_type": "code",
   "execution_count": null,
   "metadata": {},
   "outputs": [],
   "source": [
    "\n",
    "# first we shrink and create x and y coordinates for a new bbox\n",
    "vl = np.array([0,0.87*(gron_sf.bbox[3]-gron_sf.bbox[1])])\n",
    "#dvl = ((0.8575*(gron_sf.bbox[3]-gron_sf.bbox[1]))**2)**0.5\n",
    "scl = (0.4)*0.8575\n",
    "dvl = ((scl*(gron_sf.bbox[3]-gron_sf.bbox[1]))**2)**0.5\n",
    "nvl = dvl//100 + 1\n",
    "y = np.arange(nvl)*100\n",
    "print('nvl:',nvl)\n",
    "\n",
    "#shrink and create x coordinates for slicing box\n",
    "vb = np.array([0.85*(gron_sf.bbox[2]-gron_sf.bbox[0]),0])\n",
    "#dvb = ((0.8625*(gron_sf.bbox[2]-gron_sf.bbox[0]))**2)**0.5\n",
    "scb = (2/3)*0.8625\n",
    "dvb = ((scb*(gron_sf.bbox[2]-gron_sf.bbox[0]))**2)**0.5\n",
    "nvb = dvb//100 + 1\n",
    "x = np.arange(nvb)*100\n",
    "print('nvb:',nvb)\n",
    "\n",
    "#create set of xy coordinates for slicing box\n",
    "xy = np.transpose([np.tile(x, len(y)), np.repeat(y, len(x))])\n",
    "print('xy.shape:',xy.shape)\n",
    "\n",
    "\n",
    "\n",
    "# Now we will create the bbox and then translate it to the origin\n",
    "#global origins\n",
    "xy_xmin = np.min(x)\n",
    "xy_xmax = np.max(x)\n",
    "xy_ymin = np.min(y)\n",
    "xy_ymax = np.max(y)\n",
    "\n",
    "sc_loop = np.array([[xy_xmin,xy_ymin],[xy_xmin,xy_ymax],\n",
    "                   [xy_xmax,xy_ymax],[xy_xmax,xy_ymin],\n",
    "                   [xy_xmin,xy_ymin]])\n",
    "\n",
    "sgf_bbox = bb(sc_loop)\n",
    "sgf_bbox.translate(gron_sf.bbox[0],gron_sf.bbox[1]) #Translate small bbox to original bbox origin\n",
    "\n",
    "\n",
    "\n",
    "# Next we will rotate the bbox \n",
    "sgf_bbox.rotate(30)\n",
    "\n",
    "\n",
    "# Next we will translate the bbox to our desired location\n",
    "xshift = 5800  \n",
    "yshift = 16800  \n",
    "sgf_bbox.translate(xshift,yshift)\n",
    "\n",
    "\n",
    "#Plot\n",
    "fig, ax = plt.subplots(1,figsize=(8,8))\n",
    "ax.scatter(shape_xy[:,0],shape_xy[:,1],s=1,c='black',zorder=0)\n",
    "ax.plot(sgf_bbox.getCLoop()[:,0],sgf_bbox.getCLoop()[:,1],c='blue',zorder=1)\n",
    "ax.scatter(event_coords[:,0],event_coords[:,1],s=80,c='red',marker='*',zorder=2)\n",
    "title_str = '%d Events with Bbox' %(event_coords.shape[0])\n",
    "ax.set_title(title_str)\n",
    "plt.show()\n",
    "\n"
   ]
  },
  {
   "cell_type": "markdown",
   "metadata": {},
   "source": [
    "### Step 7\n",
    "\n",
    "Pickle bounding box"
   ]
  },
  {
   "cell_type": "code",
   "execution_count": null,
   "metadata": {},
   "outputs": [],
   "source": [
    "from gnam.model.bbox import bbox as bb\n",
    "import pickle\n",
    "\n",
    "ofqn = './event_and_station_data/bbox_reduced_region.pickle' \n",
    "\n",
    "print('Pickling Bbox')\n",
    "f = open(ofqn, 'wb')\n",
    "pickle.dump(sgf_bbox, f)\n",
    "f.close()\n",
    "\n",
    "print('Output File:\\n',ofqn)"
   ]
  },
  {
   "cell_type": "markdown",
   "metadata": {},
   "source": [
    "### Step 8\n",
    "\n",
    "We can now used the bounding box to get events that are only within the box, and of course, we will plot them."
   ]
  },
  {
   "cell_type": "code",
   "execution_count": null,
   "metadata": {
    "scrolled": false
   },
   "outputs": [],
   "source": [
    "from gnam.events.gevents import gevents as gevents\n",
    "\n",
    "# Fetch the events using FDSN\n",
    "print('Getting Events within Bbox via FDSN')\n",
    "min_magnitude = 2.0\n",
    "bbox_events = gevents(min_magnitude,bbox=sgf_bbox)\n",
    "print()\n",
    "\n",
    "# Show events\n",
    "print('Bbox Events:\\n',bbox_events)\n",
    "print()\n",
    "\n",
    "# Get event coordinates\n",
    "event_coords = bbox_events.getIncCoords()\n",
    "\n",
    "# Plot\n",
    "fig, ax = plt.subplots(1,figsize=(8,8))\n",
    "ax.scatter(shape_xy[:,0],shape_xy[:,1],s=1,c='black',zorder=0)\n",
    "ax.plot(sgf_bbox.getCLoop()[:,0],sgf_bbox.getCLoop()[:,1],c='blue',zorder=1)\n",
    "ax.scatter(event_coords[:,0],event_coords[:,1],s=80,c='red',marker='*',zorder=2)\n",
    "title_str = '%d Events only inside of the Bbox' %(event_coords.shape[0])\n",
    "ax.set_title(title_str)\n",
    "plt.show()\n"
   ]
  },
  {
   "cell_type": "markdown",
   "metadata": {},
   "source": [
    "### Step 9\n",
    "\n",
    "Pickle the Groningen events that are within the bbox"
   ]
  },
  {
   "cell_type": "code",
   "execution_count": null,
   "metadata": {},
   "outputs": [],
   "source": [
    "from gnam.events.gevents import gevents as gevents\n",
    "import pickle\n",
    "\n",
    "ofqn = './event_and_station_data/bbox_events.pickle' \n",
    "\n",
    "print('Pickling Events')\n",
    "f = open(ofqn, 'wb')\n",
    "pickle.dump(bbox_events, f)\n",
    "f.close()\n",
    "print(ofqn)\n",
    "    "
   ]
  },
  {
   "cell_type": "markdown",
   "metadata": {},
   "source": [
    "### Step 10 \n",
    "\n",
    "Unpickle the above events"
   ]
  },
  {
   "cell_type": "code",
   "execution_count": null,
   "metadata": {
    "scrolled": true
   },
   "outputs": [],
   "source": [
    "from gnam.events.gevents import gevents as gevents\n",
    "\n",
    "ifqn = './event_and_station_data/bbox_events.pickle'\n",
    "print('Opening:',ifqn)\n",
    "print()\n",
    "\n",
    "f = open(ifqn, 'rb')\n",
    "dill_events = pickle.load(f)\n",
    "f.close()\n",
    "    \n",
    "print()\n",
    "print(events)"
   ]
  },
  {
   "cell_type": "markdown",
   "metadata": {},
   "source": [
    "### Step 11\n",
    "\n",
    "Plot the bbox and events again for QC'ing"
   ]
  },
  {
   "cell_type": "code",
   "execution_count": null,
   "metadata": {
    "scrolled": false
   },
   "outputs": [],
   "source": [
    "from gnam.events.gevents import gevents as gevents\n",
    "\n",
    "# Get event coordinates\n",
    "event_coords = dill_events.getIncCoords()\n",
    "\n",
    "# Plot\n",
    "fig, ax = plt.subplots(1,figsize=(8,8))\n",
    "ax.scatter(shape_xy[:,0],shape_xy[:,1],s=1,c='black',zorder=0)\n",
    "ax.plot(sgf_bbox.getCLoop()[:,0],sgf_bbox.getCLoop()[:,1],c='blue',zorder=1)\n",
    "ax.scatter(event_coords[:,0],event_coords[:,1],s=80,c='red',marker='*',zorder=2)\n",
    "title_str = '%d Events only inside of the Bbox' %(event_coords.shape[0])\n",
    "ax.set_title(title_str)\n",
    "plt.show()\n"
   ]
  },
  {
   "cell_type": "markdown",
   "metadata": {},
   "source": [
    "### Step 12\n",
    "\n",
    "Next we can get station data for each event withing the bounding box. The \"stations\" contain the traces for each station and all components.  For more information see the ObsPy documentation\n",
    "\n",
    "NOTE: This can take some time. (maybe 3-4 hours)"
   ]
  },
  {
   "cell_type": "code",
   "execution_count": null,
   "metadata": {
    "scrolled": true
   },
   "outputs": [],
   "source": [
    "from gnam.events.gstations import gstations as gstations\n",
    "\n",
    "print('Getting Station Traces via Events')\n",
    "# Note: that the events gathered above are used. tend = number of seconds to get\n",
    "straces = gstations(dill_events,tend=17.0) \n",
    "print()\n",
    "\n",
    "# Show events\n",
    "print('Stations:\\n',straces)\n",
    "    \n"
   ]
  },
  {
   "cell_type": "markdown",
   "metadata": {},
   "source": [
    "### Step 13\n",
    "\n",
    "Compress and pickle the stations associated with the events in the bounding box"
   ]
  },
  {
   "cell_type": "code",
   "execution_count": null,
   "metadata": {},
   "outputs": [],
   "source": [
    "from gnam.events.gstations import gstations as gstations\n",
    "\n",
    "ofqn = './event_and_station_data/bbox_stations.pickle'\n",
    "\n",
    "print('Pickling Station Traces')\n",
    "f = open(ofqn, 'wb')\n",
    "pickle.dump(straces, f)\n",
    "f.close()\n",
    "\n",
    "print()\n",
    "print('Output File:\\n',ofqn)"
   ]
  },
  {
   "cell_type": "markdown",
   "metadata": {},
   "source": [
    "### Step 14\n",
    "\n",
    "Unpickle the stations associated with the events in the bounding box"
   ]
  },
  {
   "cell_type": "code",
   "execution_count": null,
   "metadata": {},
   "outputs": [],
   "source": [
    "from gnam.events.gstations import gstations as gstations\n",
    "\n",
    "# Copy ofqn from above or use your own\n",
    "ifqn = './event_and_station_data/bbox_stations.pickle'\n",
    "print('Input File:\\n',ifqn)\n",
    "print()\n",
    "\n",
    "print('Unpickling Station Traces')\n",
    "f = open(ifqn, 'rb')\n",
    "dill_straces = pickle.load(f)\n",
    "f.close()\n",
    "\n",
    "print()\n",
    "print('Stations:\\n',dill_straces)"
   ]
  },
  {
   "cell_type": "markdown",
   "metadata": {},
   "source": [
    "### Step 15\n",
    "\n",
    "Plot event and stations within the bbox overlaid on Groningen Field"
   ]
  },
  {
   "cell_type": "code",
   "execution_count": null,
   "metadata": {
    "scrolled": false
   },
   "outputs": [],
   "source": [
    "# This is kind of hokey, but it works for now.\n",
    "# Some of the stations depths do not follow the \n",
    "# 50, 100, 150, 200 meter depths -- possibly because\n",
    "# the boreholes are slanted. To correct for this,\n",
    "# a hard coded \"patch/update\" is applied. See the\n",
    "# code for details and update values.\n",
    "from gnam.events.munge.knmi import correct_station_depths as csd_f\n",
    "dill_straces.correct_stations(csd_f)\n",
    "\n",
    "\n",
    "#get event and borhole keys used for indexing\n",
    "ekeys = dill_straces.getEventKeys()\n",
    "bkeys = dill_straces.getBoreholeKeys()\n",
    "\n",
    "#Plot seuence of events with stations \n",
    "for ie in ekeys:\n",
    "    # coordinates for stations that are in the bounding box\n",
    "    xy3 = dill_straces.getIncStationCoords(ie,bkeys[0]) #station code G##3\n",
    "    xy4 = dill_straces.getIncStationCoords(ie,bkeys[1]) #station code G##4\n",
    "    \n",
    "    # coordinates for stations that are G-stations but outside the bounding box\n",
    "    ex_xy3 = dill_straces.getExcStationCoords(ie,bkeys[0]) #station code G##3\n",
    "    ex_xy4 = dill_straces.getExcStationCoords(ie,bkeys[1]) #station code G##4\n",
    "    \n",
    "    # coordinates for stations that are inside the bounding box but there is no data\n",
    "    er_xy3 = dill_straces.getErrStationCoords(ie,bkeys[0]) #station code G##3\n",
    "    er_xy4 = dill_straces.getErrStationCoords(ie,bkeys[1]) #station code G##4\n",
    "\n",
    "    fig, ax = plt.subplots(1,figsize=(8,8))\n",
    "    \n",
    "    #Groningen Field Shape-File\n",
    "    ax.scatter(shape_xy[:,0],shape_xy[:,1],s=1,c='black',zorder=0)\n",
    "    \n",
    "    #Bounding Box\n",
    "    ax.plot(sgf_bbox.getCLoop()[:,0],sgf_bbox.getCLoop()[:,1],c='green',zorder=1)\n",
    "    \n",
    "    #Events (reuse event coordinates from cell further above)\n",
    "    ax.scatter(event_coords[ie,0],event_coords[ie,1],s=90,c='red',marker='*',zorder=5)\n",
    "    \n",
    "    #Included stations\n",
    "    ax.scatter(xy3[:,0],xy3[:,1],s=50,c='blue',marker='v',zorder=3)\n",
    "    ax.scatter(xy4[:,0],xy4[:,1],s=100,c='gray',marker='o',zorder=2)\n",
    "    \n",
    "    #Excluded stations\n",
    "    ax.scatter(ex_xy3[:,0],ex_xy3[:,1],s=80,c='lightgray',marker='1',zorder=4)\n",
    "    ax.scatter(ex_xy4[:,0],ex_xy4[:,1],s=100,c='lightgray',marker='2',zorder=3)\n",
    "    \n",
    "    #Stations without data\n",
    "    ax.scatter(er_xy3[:,0],er_xy3[:,1],s=50,c='yellow',marker='v',zorder=4)\n",
    "    ax.scatter(er_xy4[:,0],er_xy4[:,1],s=100,c='gray',marker='o',zorder=3)\n",
    "    \n",
    "    origin_time = dill_events[ie].origins[0].time\n",
    "    mag = events[ie].magnitudes[0].mag\n",
    "    title_str = 'Event-%d, Origin Time: %s, Magnitude: %1.2f' %(ie,str(origin_time),mag)\n",
    "    ax.set_title(title_str)\n",
    "    plt.show()"
   ]
  },
  {
   "cell_type": "code",
   "execution_count": null,
   "metadata": {},
   "outputs": [],
   "source": []
  }
 ],
 "metadata": {
  "kernelspec": {
   "display_name": "Python 3",
   "language": "python",
   "name": "python3"
  },
  "language_info": {
   "codemirror_mode": {
    "name": "ipython",
    "version": 3
   },
   "file_extension": ".py",
   "mimetype": "text/x-python",
   "name": "python",
   "nbconvert_exporter": "python",
   "pygments_lexer": "ipython3",
   "version": "3.8.8"
  }
 },
 "nbformat": 4,
 "nbformat_minor": 4
}
