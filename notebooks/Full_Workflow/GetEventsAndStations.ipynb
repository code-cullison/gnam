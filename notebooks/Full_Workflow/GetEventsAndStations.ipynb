{
 "cells": [
  {
   "cell_type": "markdown",
   "metadata": {},
   "source": [
    "# Get Events and Stations\n",
    "1. Unpickle the Model Bounding Box\n",
    "1. Unpickle Groningen Shape-File \n",
    "1. Get Groningen Events\n",
    "1. Plot overlay of events on the Groningen Field within Bounding Box\n",
    "1. Get station data (traces) for each event\n",
    "1. Plot sequence of plots with event and stations overlaid on Groningen Field"
   ]
  },
  {
   "cell_type": "markdown",
   "metadata": {},
   "source": [
    "#### 1. Unpickle Bounding Box"
   ]
  },
  {
   "cell_type": "code",
   "execution_count": null,
   "metadata": {},
   "outputs": [],
   "source": [
    "import pickle\n",
    "\n",
    "f = open('../pickled/model_bbox.pickle', 'rb')\n",
    "gf_bbox = pickle.load(f)\n",
    "f.close()\n",
    "print('bbox:\\n',gf_bbox)"
   ]
  },
  {
   "cell_type": "markdown",
   "metadata": {},
   "source": [
    "#### 2. Unpickle Groningen Shape-File"
   ]
  },
  {
   "cell_type": "code",
   "execution_count": null,
   "metadata": {},
   "outputs": [],
   "source": [
    "import shapefile as sf\n",
    "\n",
    "mysf = sf.Reader('../data/GroningenFieldShapeFile/Groningen_field')\n",
    "print('mysf:',mysf)"
   ]
  },
  {
   "cell_type": "markdown",
   "metadata": {},
   "source": [
    "#### 3. Get Groningen Events"
   ]
  },
  {
   "cell_type": "code",
   "execution_count": null,
   "metadata": {},
   "outputs": [],
   "source": [
    "# If events are already pickled, then it is quicker to unpickle\n",
    "use_pickled_events = True \n",
    "\n",
    "# if one wants to pickle the events again\n",
    "pickle_events = False  #Think carefully before changing this!!!"
   ]
  },
  {
   "cell_type": "code",
   "execution_count": null,
   "metadata": {},
   "outputs": [],
   "source": [
    "from gnam.events.gevents import gevents as gevents\n",
    "\n",
    "if use_pickled_events:\n",
    "    print('Unpickling Events')\n",
    "    f = open('../pickled/events.pickle', 'rb')\n",
    "    events = pickle.load(f)\n",
    "    f.close()\n",
    "else:\n",
    "    print('Getting Events via FDSN')\n",
    "    min_magnitude = 2.0\n",
    "    events = gevents(min_magnitude,gf_bbox)\n",
    "    \n",
    "print()\n",
    "print(events)\n",
    "\n",
    "if pickle_events:\n",
    "    print('Pickling Events')\n",
    "    f = open('../pickled/events.pickle', 'wb')\n",
    "    pickle.dump(events, f)\n",
    "    f.close()\n",
    "    "
   ]
  },
  {
   "cell_type": "markdown",
   "metadata": {},
   "source": [
    "#### 4. Plot overlay of events on the Groningen Field within Bounding Box"
   ]
  },
  {
   "cell_type": "code",
   "execution_count": null,
   "metadata": {},
   "outputs": [],
   "source": [
    "import matplotlib.pyplot as plt \n",
    "import numpy as np\n",
    "\n",
    "#get coordinates for the Shape-File\n",
    "s = mysf.shape(0)\n",
    "shape_xy = np.asarray(s.points)\n",
    "\n",
    "#get coordinates for events withing the Bounding Box\n",
    "event_coords = events.getIncCoords()\n",
    "\n",
    "#Plot\n",
    "fig, ax = plt.subplots(1,figsize=(8,8))\n",
    "ax.scatter(shape_xy[:,0],shape_xy[:,1],s=1,c='black',zorder=0)\n",
    "ax.plot(gf_bbox.getCLoop()[:,0],gf_bbox.getCLoop()[:,1],c='green',zorder=1)\n",
    "ax.scatter(event_coords[:,0],event_coords[:,1],s=80,c='red',marker='*',zorder=2)\n",
    "title_str = '%d Events' %(event_coords.shape[0])\n",
    "ax.set_title(title_str)\n",
    "plt.show()\n",
    "\n"
   ]
  },
  {
   "cell_type": "markdown",
   "metadata": {},
   "source": [
    "#### 5. Get station data (traces) for each event"
   ]
  },
  {
   "cell_type": "code",
   "execution_count": null,
   "metadata": {},
   "outputs": [],
   "source": [
    "# If stations are already pickled, then it is quicker to unpickle\n",
    "use_pickled_station_traces = True  #Think carefully before changing this!!!\n",
    "\n",
    "# if one wants to pickle the events again\n",
    "pickle_station_traces = False  #Think carefully before changing this!!!"
   ]
  },
  {
   "cell_type": "code",
   "execution_count": null,
   "metadata": {},
   "outputs": [],
   "source": [
    "from gnam.events.gstations import gstations as gstations\n",
    "\n",
    "if use_pickled_station_traces:\n",
    "    print('Unpickling Station Traces')\n",
    "    f = open('../pickled/straces.pickle', 'rb')\n",
    "    straces = pickle.load(f)\n",
    "    f.close()\n",
    "else:\n",
    "    print('Getting Station Traces via Events')\n",
    "    straces = gstations(events,tend=16.384)\n",
    "    \n",
    "print('Done')\n",
    "    \n",
    "\n",
    "if pickle_station_traces:\n",
    "    print('Pickling Station Traces')\n",
    "    f = open('../pickled/straces.pickle', 'wb')\n",
    "    pickle.dump(straces, f)\n",
    "    f.close()\n",
    "    "
   ]
  },
  {
   "cell_type": "markdown",
   "metadata": {},
   "source": [
    "#### 6. Plot sequence of plots with event and stations overlaid on Groningen Field"
   ]
  },
  {
   "cell_type": "code",
   "execution_count": null,
   "metadata": {
    "scrolled": false
   },
   "outputs": [],
   "source": [
    "# This is kind of hokey, but it works for now.\n",
    "# Some of the stations depths do not follow the \n",
    "# 50, 100, 150, 200 meter depths -- possibly because\n",
    "# the boreholes are slanted. To correct for this,\n",
    "# a hard coded \"patch/update\" is applied. See the\n",
    "# code for details and update values.\n",
    "from gnam.events.munge.knmi import correct_station_depths as csd_f\n",
    "straces.correct_stations(csd_f)\n",
    "\n",
    "\n",
    "#get event and borhole keys used for indexing\n",
    "ekeys = straces.getEventKeys()\n",
    "bkeys = straces.getBoreholeKeys()\n",
    "\n",
    "#Plot seuence of events with stations \n",
    "for ie in ekeys:\n",
    "    # coordinates for stations that are in the bounding box\n",
    "    xy3 = straces.getIncStationCoords(ie,bkeys[0]) #station code G##3\n",
    "    xy4 = straces.getIncStationCoords(ie,bkeys[0]) #station code G##4\n",
    "    \n",
    "    # coordinates for stations that are G-stations but outside the bounding box\n",
    "    ex_xy3 = straces.getExcStationCoords(ie,bkeys[0]) #station code G##3\n",
    "    ex_xy4 = straces.getExcStationCoords(ie,bkeys[1]) #station code G##4\n",
    "    \n",
    "    # coordinates for stations that are inside the bounding box but there is no data\n",
    "    er_xy3 = straces.getErrStationCoords(ie,bkeys[0]) #station code G##3\n",
    "    er_xy4 = straces.getErrStationCoords(ie,bkeys[1]) #station code G##4\n",
    "\n",
    "    fig, ax = plt.subplots(1,figsize=(8,8))\n",
    "    \n",
    "    #Groningen Field Shape-File\n",
    "    ax.scatter(shape_xy[:,0],shape_xy[:,1],s=1,c='black',zorder=0)\n",
    "    \n",
    "    #Bounding Box\n",
    "    ax.plot(gf_bbox.getCLoop()[:,0],gf_bbox.getCLoop()[:,1],c='green',zorder=1)\n",
    "    \n",
    "    #Events (reuse event coordinates from cell further above)\n",
    "    ax.scatter(event_coords[ie,0],event_coords[ie,1],s=90,c='red',marker='*',zorder=5)\n",
    "    \n",
    "    #Included stations\n",
    "    ax.scatter(xy3[:,0],xy3[:,1],s=50,c='blue',marker='v',zorder=3)\n",
    "    ax.scatter(xy4[:,0],xy4[:,1],s=100,c='gray',marker='o',zorder=2)\n",
    "    \n",
    "    #Excluded stations\n",
    "    ax.scatter(ex_xy3[:,0],ex_xy3[:,1],s=80,c='lightgray',marker='1',zorder=4)\n",
    "    ax.scatter(ex_xy4[:,0],ex_xy4[:,1],s=100,c='lightgray',marker='2',zorder=3)\n",
    "    \n",
    "    #Stations without data\n",
    "    ax.scatter(er_xy3[:,0],er_xy3[:,1],s=50,c='yellow',marker='v',zorder=4)\n",
    "    ax.scatter(er_xy4[:,0],er_xy4[:,1],s=100,c='gray',marker='o',zorder=3)\n",
    "    \n",
    "    origin_time = events[ie].origins[0].time\n",
    "    mag = events[ie].magnitudes[0].mag\n",
    "    title_str = 'Event-%d, Origin Time: %s, Magnitude: %1.2f' %(ie,str(origin_time),mag)\n",
    "    ax.set_title(title_str)\n",
    "    plt.show()"
   ]
  },
  {
   "cell_type": "markdown",
   "metadata": {},
   "source": [
    "## Finished"
   ]
  },
  {
   "cell_type": "code",
   "execution_count": null,
   "metadata": {},
   "outputs": [],
   "source": []
  }
 ],
 "metadata": {
  "kernelspec": {
   "display_name": "Python 3",
   "language": "python",
   "name": "python3"
  },
  "language_info": {
   "codemirror_mode": {
    "name": "ipython",
    "version": 3
   },
   "file_extension": ".py",
   "mimetype": "text/x-python",
   "name": "python",
   "nbconvert_exporter": "python",
   "pygments_lexer": "ipython3",
   "version": "3.6.10"
  }
 },
 "nbformat": 4,
 "nbformat_minor": 4
}
