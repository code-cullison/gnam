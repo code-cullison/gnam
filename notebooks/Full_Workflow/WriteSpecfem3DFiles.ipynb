{
 "cells": [
  {
   "cell_type": "markdown",
   "metadata": {},
   "source": [
    "# Write SPECFEM3D CMTSOLUTION and STATION files for each EVENT\n",
    "1. Unpickle events and staions\n",
    "1. Read and map moment tensors to events\n",
    "1. Setup and test directory and file names\n",
    "1. Write CMTSOLUTION and STATION files in separate dictories for each event"
   ]
  },
  {
   "cell_type": "markdown",
   "metadata": {},
   "source": [
    "#### 1. Unpickle events and stations "
   ]
  },
  {
   "cell_type": "code",
   "execution_count": 2,
   "metadata": {},
   "outputs": [
    {
     "name": "stdout",
     "output_type": "stream",
     "text": [
      "Unpickling Events\n",
      "Unpickling Station Traces\n",
      "Done\n"
     ]
    }
   ],
   "source": [
    "import pickle\n",
    "from gnam.events.gevents import gevents as gevents\n",
    "from gnam.events.gstations import gstations as gstations\n",
    "from gnam.events.munge.knmi import correct_station_depths as csd_f\n",
    "\n",
    "#Unpickle events\n",
    "print('Unpickling Events')\n",
    "f = open('../pickled/events.pickle', 'rb')\n",
    "dill_events = pickle.load(f)\n",
    "f.close()\n",
    "    \n",
    "\n",
    "#Unpickle stations\n",
    "print('Unpickling Station Traces')\n",
    "f = open('../pickled/straces.pickle', 'rb')\n",
    "dill_straces = pickle.load(f)\n",
    "f.close()\n",
    "\n",
    "# This is kind of hokey, but it works for now.\n",
    "# Some of the stations depths do not follow the \n",
    "# 50, 100, 150, 200 meter depths -- possibly because\n",
    "# the boreholes are slanted. To correct for this,\n",
    "# a hard coded \"patch/update\" is applied. See the\n",
    "# code for details and update values.\n",
    "dill_straces.correct_stations(csd_f)\n",
    "\n",
    "print('Done')"
   ]
  },
  {
   "cell_type": "markdown",
   "metadata": {},
   "source": [
    "#### 2. Read and map moment tensors to events"
   ]
  },
  {
   "cell_type": "code",
   "execution_count": 2,
   "metadata": {
    "scrolled": true
   },
   "outputs": [
    {
     "name": "stdout",
     "output_type": "stream",
     "text": [
      "UTC: event[15][Date] = 2016-02-25T22:26:30.899999Z\n",
      "UTC:    MT[15][Date] = 2016-02-25T22:26:30.899999Z\n",
      "Mag: event[15][Date] = 2.420941255\n",
      "Mag:    MT[15][Date] = 2.4\n",
      "\n",
      "UTC: event[14][Date] = 2016-09-02T13:16:00.900000Z\n",
      "UTC:    MT[14][Date] = 2016-09-02T13:16:00.900000Z\n",
      "Mag: event[14][Date] = 2.066445551\n",
      "Mag:    MT[14][Date] = 2.1\n",
      "\n",
      "UTC: event[13][Date] = 2016-11-01T00:57:46.000000Z\n",
      "UTC:    MT[13][Date] = 2016-11-01T00:57:46.000000Z\n",
      "Mag: event[13][Date] = 2.180530746\n",
      "Mag:    MT[13][Date] = 2.2\n",
      "\n",
      "UTC: event[12][Date] = 2017-03-11T12:52:48.000000Z\n",
      "UTC:    MT[12][Date] = 2017-03-11T12:52:48.000000Z\n",
      "Mag: event[12][Date] = 2.083340996\n",
      "Mag:    MT[12][Date] = 2.1\n",
      "\n",
      "UTC: event[11][Date] = 2017-04-26T13:56:49.299999Z\n",
      "UTC:    MT[11][Date] = 2017-04-26T13:56:49.299999Z\n",
      "Mag: event[11][Date] = 2.005890463\n",
      "Mag:    MT[11][Date] = 2.0\n",
      "\n",
      "UTC: event[10][Date] = 2017-05-27T15:29:00.600000Z\n",
      "UTC:    MT[10][Date] = 2017-05-27T15:29:00.600000Z\n",
      "Mag: event[10][Date] = 2.585955131\n",
      "Mag:    MT[10][Date] = 2.6\n",
      "\n",
      "UTC: event[9][Date] = 2017-12-10T16:48:33.100000Z\n",
      "UTC:    MT[9][Date] = 2017-12-10T16:48:33.100000Z\n",
      "Mag: event[9][Date] = 2.066688513\n",
      "Mag:    MT[9][Date] = 2.1\n",
      "\n",
      "UTC: event[8][Date] = 2018-01-08T14:00:52.399999Z\n",
      "UTC:    MT[8][Date] = 2018-01-08T14:00:52.399999Z\n",
      "Mag: event[8][Date] = 3.434692441\n",
      "Mag:    MT[8][Date] = 3.4\n",
      "\n",
      "UTC: event[7][Date] = 2018-02-08T15:25:30.600000Z\n",
      "UTC:    MT[7][Date] = 2018-02-08T15:25:30.600000Z\n",
      "Mag: event[7][Date] = 2.037680136\n",
      "Mag:    MT[7][Date] = 2.0\n",
      "\n",
      "UTC: event[6][Date] = 2018-02-11T16:54:57.000000Z\n",
      "UTC:    MT[6][Date] = 2018-02-11T16:54:57.000000Z\n",
      "Mag: event[6][Date] = 2.160639886\n",
      "Mag:    MT[6][Date] = 2.2\n",
      "\n",
      "UTC: event[5][Date] = 2018-04-13T21:31:35.399999Z\n",
      "UTC:    MT[5][Date] = 2018-04-13T21:31:35.399999Z\n",
      "Mag: event[5][Date] = 2.811241991\n",
      "Mag:    MT[5][Date] = 2.8\n",
      "\n",
      "UTC: event[4][Date] = 2019-05-22T03:49:00.500000Z\n",
      "UTC:    MT[4][Date] = 2019-05-22T03:49:00.500000Z\n",
      "Mag: event[4][Date] = 3.361468904\n",
      "Mag:    MT[4][Date] = 3.4\n",
      "\n",
      "UTC: event[3][Date] = 2019-06-09T05:00:15.000000Z\n",
      "UTC:    MT[3][Date] = 2019-06-09T05:00:15.000000Z\n",
      "Mag: event[3][Date] = 2.505035612\n",
      "Mag:    MT[3][Date] = 2.5\n",
      "\n"
     ]
    }
   ],
   "source": [
    "from gnam.events.mtensors import mtensors\n",
    "import pandas as pd\n",
    "import numpy as np\n",
    "\n",
    "#Read moment tensors\n",
    "gf_mts = mtensors('../data/event_moments.csv')\n",
    "    \n",
    "# get event catalog of the events withing the bounding box\n",
    "e_cat = dill_events.getIncCatalog()\n",
    "\n",
    "# This is a bit hokey, but it works. Here we update the\n",
    "# event time from the moment tensor CSV file with thouse\n",
    "# from the event catalog\n",
    "gf_mts.update_utcdatetime(e_cat)\n",
    "\n",
    "# Create a dictionary that maps moment tensors to events\n",
    "e2mt_dict = gf_mts.map_events_2_tensors(e_cat)\n",
    "e2mt_keys = e2mt_dict.keys()\n",
    "\n",
    "# Print a comparison of events to moment tensors\n",
    "for key in e2mt_keys:\n",
    "    print('UTC: event[%d][Date] = %s' %(key,e_cat[key].origins[0].time))\n",
    "    print('UTC:    MT[%d][Date] = %s' %(key,e2mt_dict[key]['Date']))\n",
    "    print('Mag: event[%d][Date] = %s' %(key,e_cat[key].magnitudes[0].mag))\n",
    "    print('Mag:    MT[%d][Date] = %s' %(key,e2mt_dict[key]['ML']))\n",
    "    print()"
   ]
  },
  {
   "cell_type": "markdown",
   "metadata": {},
   "source": [
    "#### 3. Setup and test directory names/paths"
   ]
  },
  {
   "cell_type": "code",
   "execution_count": 3,
   "metadata": {
    "scrolled": true
   },
   "outputs": [
    {
     "name": "stdout",
     "output_type": "stream",
     "text": [
      "Experiment-15:\n",
      " ../SPECFEM3D/events/obs/EVENT015_NL_2016_02_25\n",
      "\n",
      "Experiment-14:\n",
      " ../SPECFEM3D/events/obs/EVENT014_NL_2016_09_02\n",
      "\n",
      "Experiment-13:\n",
      " ../SPECFEM3D/events/obs/EVENT013_NL_2016_11_01\n",
      "\n",
      "Experiment-12:\n",
      " ../SPECFEM3D/events/obs/EVENT012_NL_2017_03_11\n",
      "\n",
      "Experiment-11:\n",
      " ../SPECFEM3D/events/obs/EVENT011_NL_2017_04_26\n",
      "\n",
      "Experiment-10:\n",
      " ../SPECFEM3D/events/obs/EVENT010_NL_2017_05_27\n",
      "\n",
      "Experiment-9:\n",
      " ../SPECFEM3D/events/obs/EVENT009_NL_2017_12_10\n",
      "\n",
      "Experiment-8:\n",
      " ../SPECFEM3D/events/obs/EVENT008_NL_2018_01_08\n",
      "\n",
      "Experiment-7:\n",
      " ../SPECFEM3D/events/obs/EVENT007_NL_2018_02_08\n",
      "\n",
      "Experiment-6:\n",
      " ../SPECFEM3D/events/obs/EVENT006_NL_2018_02_11\n",
      "\n",
      "Experiment-5:\n",
      " ../SPECFEM3D/events/obs/EVENT005_NL_2018_04_13\n",
      "\n",
      "Experiment-4:\n",
      " ../SPECFEM3D/events/obs/EVENT004_NL_2019_05_22\n",
      "\n",
      "Experiment-3:\n",
      " ../SPECFEM3D/events/obs/EVENT003_NL_2019_06_09\n",
      "\n"
     ]
    }
   ],
   "source": [
    "experiments = []\n",
    "for ekey in e2mt_keys:\n",
    "    bkeys = dill_straces.getBoreholeKeys()\n",
    "    bh_stat_list = []\n",
    "    for bkey in bkeys:\n",
    "        bh_stat_list.append(dill_straces.getIncludedStations(ekey,bkey))\n",
    "    bh_stat_tup = tuple(bh_stat_list)   \n",
    "    exp_set = {'EKEY':ekey,'EVENT':e_cat[ekey],'TENSOR':e2mt_dict[ekey],'STATIONS':bh_stat_tup}\n",
    "    experiments.append(exp_set)\n",
    "\n",
    "dir_set_list = []\n",
    "for eset in experiments:\n",
    "    fqn = '../SPECFEM3D/events/obs'\n",
    "    pid = 'EVENT%s' %(str(eset['EKEY']).zfill(3))\n",
    "    nid = 'NL'\n",
    "    y = eset['EVENT'].origins[0].time.year\n",
    "    m = eset['EVENT'].origins[0].time.month\n",
    "    d = eset['EVENT'].origins[0].time.day\n",
    "    dname = '%s/%s_%s_%s_%02d_%02d' %(fqn,pid,nid,y,m,d)\n",
    "    dir_set_list.append((eset,dname))\n",
    "    print('Experiment-%d:\\n'%(eset['EKEY']), dname)\n",
    "    print()"
   ]
  },
  {
   "cell_type": "markdown",
   "metadata": {},
   "source": [
    "#### 4. Write CMTSOLUTION and STATION files in separate dictories for each event"
   ]
  },
  {
   "cell_type": "code",
   "execution_count": 4,
   "metadata": {
    "scrolled": true
   },
   "outputs": [
    {
     "name": "stdout",
     "output_type": "stream",
     "text": [
      "Experiment-15:\n",
      " ../SPECFEM3D/events/obs/EVENT015_NL_2016_02_25\n",
      "Successfully created the directory ../SPECFEM3D/events/obs/EVENT015_NL_2016_02_25\n",
      "\n",
      "Experiment-14:\n",
      " ../SPECFEM3D/events/obs/EVENT014_NL_2016_09_02\n",
      "Successfully created the directory ../SPECFEM3D/events/obs/EVENT014_NL_2016_09_02\n",
      "\n",
      "Experiment-13:\n",
      " ../SPECFEM3D/events/obs/EVENT013_NL_2016_11_01\n",
      "Successfully created the directory ../SPECFEM3D/events/obs/EVENT013_NL_2016_11_01\n",
      "\n",
      "Experiment-12:\n",
      " ../SPECFEM3D/events/obs/EVENT012_NL_2017_03_11\n",
      "Successfully created the directory ../SPECFEM3D/events/obs/EVENT012_NL_2017_03_11\n",
      "\n",
      "Experiment-11:\n",
      " ../SPECFEM3D/events/obs/EVENT011_NL_2017_04_26\n",
      "Successfully created the directory ../SPECFEM3D/events/obs/EVENT011_NL_2017_04_26\n",
      "\n",
      "Experiment-10:\n",
      " ../SPECFEM3D/events/obs/EVENT010_NL_2017_05_27\n",
      "Successfully created the directory ../SPECFEM3D/events/obs/EVENT010_NL_2017_05_27\n",
      "\n",
      "Experiment-9:\n",
      " ../SPECFEM3D/events/obs/EVENT009_NL_2017_12_10\n",
      "Successfully created the directory ../SPECFEM3D/events/obs/EVENT009_NL_2017_12_10\n",
      "\n",
      "Experiment-8:\n",
      " ../SPECFEM3D/events/obs/EVENT008_NL_2018_01_08\n",
      "Successfully created the directory ../SPECFEM3D/events/obs/EVENT008_NL_2018_01_08\n",
      "\n",
      "Experiment-7:\n",
      " ../SPECFEM3D/events/obs/EVENT007_NL_2018_02_08\n",
      "Successfully created the directory ../SPECFEM3D/events/obs/EVENT007_NL_2018_02_08\n",
      "\n",
      "Experiment-6:\n",
      " ../SPECFEM3D/events/obs/EVENT006_NL_2018_02_11\n",
      "Successfully created the directory ../SPECFEM3D/events/obs/EVENT006_NL_2018_02_11\n",
      "\n",
      "Experiment-5:\n",
      " ../SPECFEM3D/events/obs/EVENT005_NL_2018_04_13\n",
      "Successfully created the directory ../SPECFEM3D/events/obs/EVENT005_NL_2018_04_13\n",
      "\n",
      "Experiment-4:\n",
      " ../SPECFEM3D/events/obs/EVENT004_NL_2019_05_22\n",
      "Successfully created the directory ../SPECFEM3D/events/obs/EVENT004_NL_2019_05_22\n",
      "\n",
      "Experiment-3:\n",
      " ../SPECFEM3D/events/obs/EVENT003_NL_2019_06_09\n",
      "Successfully created the directory ../SPECFEM3D/events/obs/EVENT003_NL_2019_06_09\n",
      "\n"
     ]
    }
   ],
   "source": [
    "from gnam.specutils.write import write_cmtsolution as spec_wcmt\n",
    "from gnam.specutils.write import write_stations as spec_ws\n",
    "import os\n",
    "\n",
    "# define the access rights\n",
    "access_rights = 0o755\n",
    "\n",
    "#loop over dir-set pairs\n",
    "for pair in dir_set_list:\n",
    "    eset  = pair[0]\n",
    "    dname = pair[1]\n",
    "    print('Experiment-%d:\\n'%(eset['EKEY']), dname)\n",
    "    try:\n",
    "        os.makedirs(dname, access_rights)\n",
    "    except OSError:\n",
    "        print (\"Creation of the directory %s failed\" % dname)\n",
    "        print()\n",
    "    else:\n",
    "        bkeys = dill_straces.getBoreholeKeys()\n",
    "        lxy = dill_events.getLocalEventCoord(eset['EKEY'])\n",
    "        spec_wcmt(dname + '/CMTSOLUTION',eset['TENSOR'],lxy[0],lxy[1])\n",
    "        spec_ws(dname + '/STATIONS',dill_straces,eset['EKEY'],bkeys)\n",
    "        print (\"Successfully created the directory %s\" % dname)\n",
    "        print()"
   ]
  },
  {
   "cell_type": "markdown",
   "metadata": {},
   "source": [
    "## Finished"
   ]
  },
  {
   "cell_type": "code",
   "execution_count": null,
   "metadata": {},
   "outputs": [],
   "source": []
  }
 ],
 "metadata": {
  "kernelspec": {
   "display_name": "Python 3",
   "language": "python",
   "name": "python3"
  },
  "language_info": {
   "codemirror_mode": {
    "name": "ipython",
    "version": 3
   },
   "file_extension": ".py",
   "mimetype": "text/x-python",
   "name": "python",
   "nbconvert_exporter": "python",
   "pygments_lexer": "ipython3",
   "version": "3.6.10"
  }
 },
 "nbformat": 4,
 "nbformat_minor": 4
}
