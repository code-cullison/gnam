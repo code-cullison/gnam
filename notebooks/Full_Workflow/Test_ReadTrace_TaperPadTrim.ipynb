{
 "cells": [
  {
   "cell_type": "markdown",
   "metadata": {},
   "source": [
    "# Write SPECFEM3D CMTSOLUTION and STATION files for each EVENT\n",
    "1. Unpickle events and staions\n",
    "1. Test taper, pad, and trim "
   ]
  },
  {
   "cell_type": "markdown",
   "metadata": {},
   "source": [
    "#### 1. Unpickle events and stations "
   ]
  },
  {
   "cell_type": "code",
   "execution_count": null,
   "metadata": {},
   "outputs": [],
   "source": [
    "import pickle\n",
    "from gnam.events.gevents import gevents as gevents\n",
    "from gnam.events.gstations import gstations as gstations\n",
    "from gnam.events.munge.knmi import correct_station_depths as csd_f\n",
    "\n",
    "data_root_dir = '../../../data_notebooks'\n",
    "\n",
    "#Unpickle events\n",
    "print('Unpickling Events')\n",
    "f = open(data_root_dir + '/pickled/events.pickle', 'rb')\n",
    "dill_events = pickle.load(f)\n",
    "f.close()\n",
    "    \n",
    "\n",
    "#Unpickle stations\n",
    "print('Unpickling Station Traces')\n",
    "f = open(data_root_dir + '/pickled/straces.pickle', 'rb')\n",
    "dill_straces = pickle.load(f)\n",
    "f.close()\n",
    "\n",
    "# This is kind of hokey, but it works for now.\n",
    "# Some of the stations depths do not follow the \n",
    "# 50, 100, 150, 200 meter depths -- possibly because\n",
    "# the boreholes are slanted. To correct for this,\n",
    "# a hard coded \"patch/update\" is applied. See the\n",
    "# code for details and update values.\n",
    "dill_straces.correct_stations(csd_f)\n",
    "\n",
    "print('Done')"
   ]
  },
  {
   "cell_type": "markdown",
   "metadata": {},
   "source": [
    "#### 2. Read and map moment tensors to events"
   ]
  },
  {
   "cell_type": "code",
   "execution_count": null,
   "metadata": {},
   "outputs": [],
   "source": [
    "import matplotlib.pyplot as plt\n",
    "import numpy as np\n",
    "import obspy\n",
    "from obspy.core import read\n",
    "from obspy.signal.trigger import ar_pick\n",
    "from obspy import Stream\n",
    "from obspy import Trace\n",
    "from obspy import UTCDateTime\n",
    "\n",
    "ekey = 3\n",
    "ce_st = dill_straces.getStream1(ekey,3)\n",
    "czne_st = ce_st.copy()\n",
    "tr = czne_st[0]\n",
    "t0 = tr.stats.starttime\n",
    "tN = t0 + 2*16.384\n",
    "nt = tr.count()\n",
    "dt = tr.stats.delta\n",
    "data = tr.data\n",
    "print('Trace nt=',nt)\n",
    "print('Trace dt=',dt)\n",
    "print('Trace shape:\\n',data.shape)\n",
    "tr.taper(max_percentage=1.0,max_length=1,type='slepian',width=0.25,side='right')\n",
    "tr.trim(t0,tN,pad=True,fill_value=tr.data[-1])\n",
    "print('Trace last=',tr.data[-1])\n",
    "nt = tr.count()\n",
    "dt = tr.stats.delta\n",
    "data = tr.data\n",
    "print('Trace nt=',nt)\n",
    "print('Trace dt=',dt)\n",
    "print('Trace shape:\\n',data.shape)\n",
    "'''\n",
    "zdata = np.zeros_like(data)\n",
    "print('zdata shape:\\n',zdata.shape)\n",
    "temp = np.concatenate((data,zdata),axis=None)\n",
    "print('Temp shape:\\n',temp.shape)\n",
    "tr.data = temp\n",
    "nt = tr.count()\n",
    "dt = tr.stats.delta\n",
    "data = tr.data\n",
    "print('Trace nt=',nt)\n",
    "print('Trace dt=',dt)\n",
    "print('Trace shape:\\n',data.shape)\n",
    "'''\n",
    "\n",
    "fig, ax = plt.subplots(1,figsize=(15,4))\n",
    "ax.plot(ce_st[0].times(), ce_st[0].data,c='black')\n",
    "ax.plot(tr.times(), tr.data,c='orangered')\n",
    "\n",
    "plt.grid(b=True, which='major', color='#666666', linestyle='-')\n",
    "plt.minorticks_on()\n",
    "plt.grid(b=True, which='minor', color='#999999', linestyle='-', alpha=0.2)\n",
    "\n",
    "plt.show()"
   ]
  },
  {
   "cell_type": "markdown",
   "metadata": {},
   "source": [
    "## Finished"
   ]
  },
  {
   "cell_type": "code",
   "execution_count": null,
   "metadata": {},
   "outputs": [],
   "source": []
  }
 ],
 "metadata": {
  "kernelspec": {
   "display_name": "Python 3",
   "language": "python",
   "name": "python3"
  },
  "language_info": {
   "codemirror_mode": {
    "name": "ipython",
    "version": 3
   },
   "file_extension": ".py",
   "mimetype": "text/x-python",
   "name": "python",
   "nbconvert_exporter": "python",
   "pygments_lexer": "ipython3",
   "version": "3.6.10"
  }
 },
 "nbformat": 4,
 "nbformat_minor": 4
}
