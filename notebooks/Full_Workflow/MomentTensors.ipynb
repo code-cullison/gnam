{
 "cells": [
  {
   "cell_type": "markdown",
   "metadata": {},
   "source": [
    "# Map Moment Tensors to Events \n",
    "1. Unpickle events, stations, bounding box, and shape-file\n",
    "1. Read moment tensor CSV file\n",
    "1. Map (attach) moment tensors to events\n",
    "1. Plot overlay of moment tenosrs on the Groningen Field \n",
    "1. In local coordinates: Plot above overlay of moment tensors"
   ]
  },
  {
   "cell_type": "markdown",
   "metadata": {},
   "source": [
    "#### 1. Unpickle events, station, bound box, and shape-file"
   ]
  },
  {
   "cell_type": "code",
   "execution_count": null,
   "metadata": {},
   "outputs": [],
   "source": [
    "!pwd"
   ]
  },
  {
   "cell_type": "code",
   "execution_count": null,
   "metadata": {},
   "outputs": [],
   "source": [
    "import pickle\n",
    "from gnam.events.gevents import gevents as gevents\n",
    "from gnam.events.gstations import gstations as gstations\n",
    "from gnam.events.munge.knmi import correct_station_depths as csd_f\n",
    "import shapefile as sf\n",
    "\n",
    "dpath = '../../../data_notebooks/'\n",
    "\n",
    "#Unpickle events\n",
    "print('Unpickling Events')\n",
    "f = open(dpath + 'pickled/events.pickle', 'rb')\n",
    "dill_events = pickle.load(f)\n",
    "f.close()\n",
    "    \n",
    "\n",
    "#Unpickle stations\n",
    "print('Unpickling Station Traces')\n",
    "f = open(dpath + 'pickled/straces.pickle', 'rb')\n",
    "dill_straces = pickle.load(f)\n",
    "f.close()\n",
    "# This is kind of hokey, but it works for now.\n",
    "# Some of the stations depths do not follow the \n",
    "# 50, 100, 150, 200 meter depths -- possibly because\n",
    "# the boreholes are slanted. To correct for this,\n",
    "# a hard coded \"patch/update\" is applied. See the\n",
    "# code for details and update values.\n",
    "dill_straces.correct_stations(csd_f)\n",
    "\n",
    "\n",
    "#Unpickle bounding box\n",
    "print('Unpickling Bounding Box')\n",
    "f = open(dpath + 'pickled/model_bbox.pickle', 'rb')\n",
    "gf_bbox = pickle.load(f)\n",
    "f.close()\n",
    "\n",
    "\n",
    "#Unpickle groningen shape-file\n",
    "print('Unpickling Groningen Shape-File')\n",
    "mysf = sf.Reader(dpath + 'data/GroningenFieldShapeFile/Groningen_field')\n",
    "    \n",
    "print('Done')"
   ]
  },
  {
   "cell_type": "markdown",
   "metadata": {},
   "source": [
    "#### 2. Read moment tensor CSV file"
   ]
  },
  {
   "cell_type": "code",
   "execution_count": null,
   "metadata": {},
   "outputs": [],
   "source": [
    "from gnam.events.mtensors import mtensors\n",
    "import pandas as pd\n",
    "import numpy as np\n",
    "\n",
    "#rdeg = -1*gf_bbox.getRotDeg()\n",
    "#rdeg = 0\n",
    "#print('rdeg:',rdeg)\n",
    "\n",
    "gf_mts = mtensors(dpath + 'data/event_moments.csv')\n",
    "gf_mts_local = mtensors(dpath + 'data/event_moments.csv',gf_bbox)\n",
    "gf_df = gf_mts.get_df()\n",
    "print('Moment Tensor DataFrame:\\n',gf_df)\n",
    "print()\n",
    "\n",
    "print('Moment Tensors:')\n",
    "for imt in range(len(gf_mts)):\n",
    "    print('Tensor[%d]:' %(imt))\n",
    "    print(gf_mts[imt])\n",
    "\n",
    "print()\n",
    "print()\n",
    "print(gf_mts[0])\n",
    "print()\n",
    "print(gf_mts_local[0])\n",
    "    "
   ]
  },
  {
   "cell_type": "markdown",
   "metadata": {},
   "source": [
    "#### 3. Map (attach) moment tensors to events"
   ]
  },
  {
   "cell_type": "code",
   "execution_count": null,
   "metadata": {
    "scrolled": true
   },
   "outputs": [],
   "source": [
    "# get event catalog of the events withing the bounding box\n",
    "e_cat = dill_events.getIncCatalog()\n",
    "\n",
    "\n",
    "# This is a bit hokey, but it works. Here we update the\n",
    "# event time from the moment tensor CSV file with thouse\n",
    "# from the event catalog\n",
    "gf_mts.update_utcdatetime(e_cat)\n",
    "\n",
    "\n",
    "# Create a dictionary that maps moment tensors to events\n",
    "e2mt_dict = gf_mts.map_events_2_tensors(e_cat)\n",
    "e2mt_keys = e2mt_dict.keys()\n",
    "\n",
    "# Print a comparison of events to moment tensors\n",
    "for key in e2mt_keys:\n",
    "    print('UTC: event[%d][Date] = %s' %(key,e_cat[key].origins[0].time))\n",
    "    print('UTC:    MT[%d][Date] = %s' %(key,e2mt_dict[key]['Date']))\n",
    "    print('Mag: event[%d][Date] = %s' %(key,e_cat[key].magnitudes[0].mag))\n",
    "    print('Mag:    MT[%d][Date] = %s' %(key,e2mt_dict[key]['ML']))\n",
    "    print()"
   ]
  },
  {
   "cell_type": "markdown",
   "metadata": {},
   "source": [
    "#### 4. Plot overlay of moment tenosrs on the Groningen Field "
   ]
  },
  {
   "cell_type": "code",
   "execution_count": null,
   "metadata": {
    "scrolled": false
   },
   "outputs": [],
   "source": [
    "#%matplotlib\n",
    "import matplotlib.pyplot as plt \n",
    "\n",
    "#get coordinates for the Shape-File\n",
    "s = mysf.shape(0)\n",
    "shape_xy = np.asarray(s.points)\n",
    "\n",
    "#get beachballs for the moment tensors\n",
    "aki_bballs = gf_mts.get_aki_beachballs(diam=1700)\n",
    "cmt_bballs = gf_mts.get_cmt_beachballs(diam=1700,fc='red')\n",
    "\n",
    "#get coordinates for the moment tensors\n",
    "aki_xc = gf_mts.get_xcoords()\n",
    "\n",
    "event_coords = dill_events.getIncCoords()[3:,:] #some events have no inverted MTs\n",
    "#print('ecoords:\\n',event_coords)\n",
    "\n",
    "diag = np.zeros((2,2))\n",
    "diag[0,0] = gf_bbox.getCLoop()[0,0] \n",
    "diag[1,0] = gf_bbox.getCLoop()[2,0] \n",
    "diag[0,1] = gf_bbox.getCLoop()[0,1] \n",
    "diag[1,1] = gf_bbox.getCLoop()[2,1] \n",
    "\n",
    "\n",
    "#Plot shape-file, bounding box, and Aki Beachballs\n",
    "fig, ax = plt.subplots(1,figsize=(8,8))\n",
    "ax.scatter(shape_xy[:,0],shape_xy[:,1],s=1,c='black',zorder=0)\n",
    "ax.plot(gf_bbox.getCLoop()[:,0],gf_bbox.getCLoop()[:,1],c='green',zorder=1)\n",
    "#ax.plot([gf_bbox.getCLoop()[0,0],gf_bbox.getCLoop()[2,0]],[gf_bbox.getCLoop()[0,1],gf_bbox.getCLoop()[2,1]],c='green',zorder=1)\n",
    "ax.plot(diag[:,0],diag[:,1],c='green',zorder=1)\n",
    "for bb in aki_bballs: # add the beachballs\n",
    "    bb.set_zorder(2)\n",
    "    ax.add_collection(bb)\n",
    "ax.scatter(event_coords[:,0],event_coords[:,1],s=90,c='red',marker='*',zorder=5)\n",
    "ax.set_title('Aki BeachBalls, %d Events' %(len(aki_bballs)))\n",
    "\n",
    "#Plot shape-file, bounding box, and Harvard CMT Beachballs\n",
    "fig1, ax1 = plt.subplots(1,figsize=(8,8))\n",
    "ax1.scatter(shape_xy[:,0],shape_xy[:,1],s=1,c='black',zorder=0)\n",
    "ax1.plot(gf_bbox.getCLoop()[:,0],gf_bbox.getCLoop()[:,1],c='green',zorder=1)\n",
    "for bb in cmt_bballs:\n",
    "    bb.set_zorder(2)\n",
    "    ax1.add_collection(bb)\n",
    "ax1.scatter(event_coords[:,0],event_coords[:,1],s=100,c='blue',marker='.',zorder=5)\n",
    "ax1.set_title('Harvard CMT BeachBalls, %d Events' %(len(cmt_bballs)))\n",
    "\n",
    "plt.show()"
   ]
  },
  {
   "cell_type": "markdown",
   "metadata": {},
   "source": [
    "#### 5. In local coordinates: Plot overlay of moment tenosrs on the Groningen Field "
   ]
  },
  {
   "cell_type": "code",
   "execution_count": null,
   "metadata": {
    "scrolled": false
   },
   "outputs": [],
   "source": [
    "#%matplotlib\n",
    "import copy\n",
    "import matplotlib.pyplot as plt \n",
    "\n",
    "#get coordinates for the Shape-File\n",
    "s = mysf.shape(0)\n",
    "g_shape_xy = np.asarray(s.points)\n",
    "shape_xy = np.zeros_like(g_shape_xy)\n",
    "\n",
    "#get beachballs for the moment tensors\n",
    "aki_bballs = gf_mts_local.get_aki_beachballs(diam=1700,fc='blue',is_local=True)\n",
    "cmt_bballs = gf_mts_local.get_cmt_beachballs(diam=1700,fc='red',is_local=True)\n",
    "\n",
    "event_coords = dill_events.getLocalIncCoords()[3:,:] #some events have no inverted MTs\n",
    "#print('ecoords:\\n',event_coords)\n",
    "\n",
    "#get local coordinates for groningen field and bbox\n",
    "l_gf_bbox = copy.deepcopy(gf_bbox)\n",
    "o_bb = gf_bbox.getOrigin()\n",
    "l_gf_bbox.translate(-o_bb[0],-o_bb[1])\n",
    "neg_rotdeg = -gf_bbox.getRotDeg()\n",
    "l_gf_bbox.rotate(neg_rotdeg)\n",
    "\n",
    "for i in range(len(g_shape_xy)):\n",
    "    xc = g_shape_xy[i,0]\n",
    "    yc = g_shape_xy[i,1]\n",
    "    lxc,lyc = gf_bbox.convert_extern_coords_2_local(xc,yc) \n",
    "    shape_xy[i,0] = lxc\n",
    "    shape_xy[i,1] = lyc\n",
    "\n",
    "#Plot shape-file, bounding box, and Aki Beachballs\n",
    "fig, ax = plt.subplots(1,figsize=(8,8))\n",
    "ax.scatter(shape_xy[:,0],shape_xy[:,1],s=1,c='black',zorder=0)\n",
    "ax.plot(l_gf_bbox.getCLoop()[:,0],l_gf_bbox.getCLoop()[:,1],c='green',zorder=1)\n",
    "for bb in aki_bballs: # add the beachballs\n",
    "    bb.set_zorder(2)\n",
    "    ax.add_collection(bb)\n",
    "ax.scatter(event_coords[:,0],event_coords[:,1],s=90,c='red',marker='*',zorder=5)\n",
    "ax.set_title('Aki BeachBalls, %d Events' %(len(aki_bballs)))\n",
    "\n",
    "#Plot shape-file, bounding box, and Harvard CMT Beachballs\n",
    "fig1, ax1 = plt.subplots(1,figsize=(8,8))\n",
    "ax1.scatter(shape_xy[:,0],shape_xy[:,1],s=1,c='black',zorder=0)\n",
    "ax1.plot(l_gf_bbox.getCLoop()[:,0],l_gf_bbox.getCLoop()[:,1],c='green',zorder=1)\n",
    "for bb in cmt_bballs:\n",
    "    bb.set_zorder(2)\n",
    "    ax1.add_collection(bb)\n",
    "ax1.scatter(event_coords[:,0],event_coords[:,1],s=100,c='blue',marker='.',zorder=5)\n",
    "ax1.set_title('Harvard CMT BeachBalls, %d Events' %(len(cmt_bballs)))\n",
    "\n",
    "plt.show()"
   ]
  },
  {
   "cell_type": "markdown",
   "metadata": {},
   "source": [
    "## Finished"
   ]
  },
  {
   "cell_type": "code",
   "execution_count": null,
   "metadata": {},
   "outputs": [],
   "source": []
  }
 ],
 "metadata": {
  "kernelspec": {
   "display_name": "Python 3",
   "language": "python",
   "name": "python3"
  },
  "language_info": {
   "codemirror_mode": {
    "name": "ipython",
    "version": 3
   },
   "file_extension": ".py",
   "mimetype": "text/x-python",
   "name": "python",
   "nbconvert_exporter": "python",
   "pygments_lexer": "ipython3",
   "version": "3.6.10"
  }
 },
 "nbformat": 4,
 "nbformat_minor": 4
}
