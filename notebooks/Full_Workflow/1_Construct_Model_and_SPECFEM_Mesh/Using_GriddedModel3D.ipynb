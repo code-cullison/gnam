{
 "cells": [
  {
   "cell_type": "markdown",
   "metadata": {},
   "source": [
    "# Use GriddedModel3D object to manipulate Ndarray NAM model\n",
    "\n",
    "First we will instantiate the GriddedModel3D object using the ndaray and header data created from the NAM Piece-Wise model.  Then we will see how to:\n",
    "* get a depth slice by index \n",
    "* get a smoothed model \n",
    "* get a subsampled model\n",
    "* get a depth slice by z-depth coordinate (interpolated slice)\n",
    "* get a volume slice of the model from a BoundingBox (interpolated volume)\n",
    "* write a .vtr file of the sliced volume so that it can beviewed in 3D"
   ]
  },
  {
   "cell_type": "markdown",
   "metadata": {},
   "source": [
    "### Step 0\n",
    "\n",
    "Load packages"
   ]
  },
  {
   "cell_type": "code",
   "execution_count": null,
   "metadata": {},
   "outputs": [],
   "source": [
    "#load all packages\n",
    "from sys import argv\n",
    "import numpy as np\n",
    "import pickle\n",
    "import matplotlib.pyplot as plt \n",
    "from matplotlib.colors import Normalize\n",
    "from gnam.model.gridmod3d import gridmod3d as gm\n",
    "from gnam.model.bbox import bbox as bb\n",
    "import copy"
   ]
  },
  {
   "cell_type": "markdown",
   "metadata": {},
   "source": [
    "### Step 1\n",
    "\n",
    "Read and decompress NAM ndarray model"
   ]
  },
  {
   "cell_type": "code",
   "execution_count": null,
   "metadata": {},
   "outputs": [],
   "source": [
    "# Put in the Fully Qualified Name of the file\n",
    "ifqn = './model_data/raw_nam_2017_vp_vs_rho_Q_model_dz10_depth6000.npz'\n",
    "\n",
    "#decompress\n",
    "data = np.load(ifqn)\n",
    "props = data['props'] #4D ndarray of subsurface model\n",
    "\n",
    "\n",
    "# Get header data arrays\n",
    "xdata = data['xd'] \n",
    "ydata = data['yd']\n",
    "zdata = data['zd']\n",
    "\n",
    "print('Header Data:')\n",
    "print(' x:',xdata)\n",
    "print(' y:',ydata)\n",
    "print(' z:',zdata)\n",
    "print()\n",
    "\n",
    "\n",
    "# individual parameters from the headers \n",
    "xmin = xdata[0]\n",
    "dx   = xdata[1]\n",
    "nx   = int(xdata[2])\n",
    "xmax = xmin + (nx-1)*dx #notice that this can be computed\n",
    "\n",
    "ymin = ydata[0]\n",
    "dy   = ydata[1]\n",
    "ny   = int(ydata[2])\n",
    "ymax = ymin + (ny-1)*dy #notice that this can be computed\n",
    "\n",
    "zmin = zdata[0]\n",
    "dz   = zdata[1]\n",
    "nz   = int(zdata[2])\n",
    "zmax = (-zmin) + (nz-1)*dz #notice that this can be computed\n",
    "\n",
    "\n",
    "print('Individual Header Data Parameters:')\n",
    "print(' xmin,dx,nx,xmax = %d,%d,%d,%d' %(xmin,dx,nx,xmax))\n",
    "print(' ymin,dy,ny,ymax = %d,%d,%d,%d' %(ymin,dy,ny,ymax))\n",
    "print(' zmin,dz,nz,zmax = %d,%d,%d,%d' %(zmin,dz,nz,zmax))"
   ]
  },
  {
   "cell_type": "markdown",
   "metadata": {},
   "source": [
    "### Step 2\n",
    "\n",
    "Instantiate the GriddelModel3D object"
   ]
  },
  {
   "cell_type": "code",
   "execution_count": null,
   "metadata": {},
   "outputs": [],
   "source": [
    "nsub_props = props.shape[0]\n",
    "axes_order = {'X':0,'Y':1,'Z':2} #this dict keeps track of axes order\n",
    "gm3d = gm(props,nsub_props,axes_order,(nx,ny,nz),(dx,dy,dz),(xmin,ymin,zmin))\n",
    "print('gm3d.shape:',gm3d.shape)"
   ]
  },
  {
   "cell_type": "markdown",
   "metadata": {},
   "source": [
    "### Step 3\n",
    "\n",
    "To QC, get a depth slice and plot it"
   ]
  },
  {
   "cell_type": "code",
   "execution_count": null,
   "metadata": {},
   "outputs": [],
   "source": [
    "depth = 100 # This is an INDEX! So, know your header data and its mapping to the model!\n",
    "iprop = 0\n",
    "\n",
    "# index order: p      x  y  z\n",
    "surf    = gm3d[iprop, :, :, depth].T\n",
    "print('surf.shape',surf.shape)\n",
    "\n",
    "# Get min max to normalize surface\n",
    "vp_min = np.min(surf)\n",
    "vp_max = np.max(surf)\n",
    "print('vp_min:',vp_min)\n",
    "print('vp_max:',vp_max)\n",
    "surf_norm = Normalize(vp_min,vp_max)\n",
    "\n",
    "# compute coordinates\n",
    "xc  = dx*np.arange(nx) + xmin\n",
    "yc  = dy*np.arange(ny) + ymin\n",
    "xyc = np.transpose([np.tile(xc, len(yc)), np.repeat(yc, len(xc))])\n",
    "\n",
    "#Plot\n",
    "fig, ax = plt.subplots(1,figsize=(8,8))\n",
    "sc = ax.scatter(xyc[:,0],xyc[:,1],s=1,c=surf.flatten(),cmap=plt.cm.jet,norm=surf_norm)\n",
    "ax.set_title('Full NAM Model Surface (z=0)')\n",
    "fig.colorbar(sc)\n",
    "plt.show()\n"
   ]
  },
  {
   "cell_type": "markdown",
   "metadata": {},
   "source": [
    "### Step 4\n",
    "\n",
    "Now we will slice the model. Afterwards, we will plot another depth slice to QC. Reminder: one must understand their header data to be able to do this correctly. The smoothing is done with a Gaussian smoothing function which takes sigmas in number of SAMPLES.  For exmaple, if $dz=10m$ and $dx=dy=50m$ then the sigma for $z$ should be 5X more samples than it is for $x$ and $y$.\n",
    "\n",
    "NOTE: This step will take some time.  Maybe 0.5 - 2 hours depending on the machine."
   ]
  },
  {
   "cell_type": "code",
   "execution_count": null,
   "metadata": {
    "scrolled": true
   },
   "outputs": [],
   "source": [
    "# set sigmas\n",
    "zsmp = 5 # 1=50m sigma, 2=100 sigma, 3=150m sigma, etc...\n",
    "z_sig = zsmp*(50/dz) # tested at dz=10m and was good, so assume scale by that)\n",
    "y_sig = z_sig*(dz/dy)\n",
    "x_sig = z_sig*(dz/dx)\n",
    "sig_meters = y_sig*50\n",
    "print('sigma (m):',sig_meters)\n",
    "\n",
    "# smooth\n",
    "gm3d.smoothXYZ(x_sig,y_sig,z_sig)"
   ]
  },
  {
   "cell_type": "markdown",
   "metadata": {},
   "source": [
    "### Step 5\n",
    "\n",
    "Prepare to compress and pickle smoothed GriddedModel3D: make sure the path and file name are good and varify x,y,x \"header\" data."
   ]
  },
  {
   "cell_type": "code",
   "execution_count": null,
   "metadata": {},
   "outputs": [],
   "source": [
    "# get ndarray and header data\n",
    "smth_props = gm3d.getNPArray()\n",
    "\n",
    "xmin = gm3d.get_gorigin()[0]\n",
    "dx   = gm3d.get_deltas()[0]\n",
    "nx   = gm3d.get_npoints()[0]\n",
    "\n",
    "ymin = gm3d.get_gorigin()[1]\n",
    "dy   = gm3d.get_deltas()[1]\n",
    "ny   = gm3d.get_npoints()[1]\n",
    "\n",
    "zmin = gm3d.get_gorigin()[2]\n",
    "dz   = gm3d.get_deltas()[2]\n",
    "nz   = gm3d.get_npoints()[2]\n",
    "\n",
    "# header data\n",
    "xdata = np.array([xmin,dx,nx])\n",
    "ydata = np.array([ymin,dy,ny])\n",
    "zdata = np.array([zmin,dz,nz])\n",
    "\n",
    "print('Header Data:')\n",
    "print(' x-header:',xdata.astype(np.int32))\n",
    "print(' y-header:',ydata.astype(np.int32))\n",
    "print(' z-header:',zdata.astype(np.int32))\n",
    "print()\n",
    "\n",
    "# calculate maxDepth from header data\n",
    "maxDepth = (-zmin) + (nz-1)*dz \n",
    "\n",
    "# fqn\n",
    "out_dir = './model_data/'\n",
    "fname   = 'smoothed_full_nam_2017_vp_vs_rho_Q_model_dz' \n",
    "fname  += str(int(dz)) + '_depth' + str(int(maxDepth)) + '_sig' + str(int(sig_meters)) + '.npz'\n",
    "ofqn    = out_dir + fname\n",
    "\n",
    "print('Output FQN:\\n',ofqn)\n"
   ]
  },
  {
   "cell_type": "markdown",
   "metadata": {},
   "source": [
    "### Step 6\n",
    "\n",
    "Compress and store the numpy array of the SMOOTHED NAM model"
   ]
  },
  {
   "cell_type": "code",
   "execution_count": null,
   "metadata": {},
   "outputs": [],
   "source": [
    "np.savez_compressed(ofqn,props=smth_props,xd=xdata,yd=ydata,zd=zdata)\n",
    "print(ofqn)"
   ]
  },
  {
   "cell_type": "markdown",
   "metadata": {},
   "source": [
    "### Step 7\n",
    "\n",
    "Decompress the ndarray of the smoothed NAM model and instantiate a new GriddedModel3D object for QC'ing"
   ]
  },
  {
   "cell_type": "code",
   "execution_count": null,
   "metadata": {},
   "outputs": [],
   "source": [
    "# copy from the line above, or put in the Fully Qualified Name of the file\n",
    "ifqn = './model_data/smoothed_full_nam_2017_vp_vs_rho_Q_model_dz10_depth6000_sig250.npz'\n",
    "\n",
    "#decompress\n",
    "data = np.load(ifqn)\n",
    "props = data['props'] #4D ndarray of subsurface model\n",
    "\n",
    "\n",
    "#header/meta data arrays\n",
    "xdata = data['xd'] \n",
    "ydata = data['yd']\n",
    "zdata = data['zd']\n",
    "\n",
    "print('Header Data:')\n",
    "print(' x:',xdata)\n",
    "print(' y:',ydata)\n",
    "print(' z:',zdata)\n",
    "print()\n",
    "\n",
    "\n",
    "# individual parameters from the headers \n",
    "xmin = xdata[0]\n",
    "dx   = xdata[1]\n",
    "nx   = int(xdata[2])\n",
    "xmax = xmin + (nx-1)*dx #notice that this can be computed\n",
    "\n",
    "ymin = ydata[0]\n",
    "dy   = ydata[1]\n",
    "ny   = int(ydata[2])\n",
    "ymax = ymin + (ny-1)*dy #notice that this can be computed\n",
    "\n",
    "zmin = zdata[0]\n",
    "dz   = zdata[1]\n",
    "nz   = int(zdata[2])\n",
    "zmax = (-zmin) + (nz-1)*dz #notice that this can be computed\n",
    "\n",
    "\n",
    "print('Individual Header Data Parameters:')\n",
    "print(' xmin,dx,nx,xmax = %d,%d,%d,%d' %(xmin,dx,nx,xmax))\n",
    "print(' ymin,dy,ny,ymax = %d,%d,%d,%d' %(ymin,dy,ny,ymax))\n",
    "print(' zmin,dz,nz,zmax = %d,%d,%d,%d' %(zmin,dz,nz,zmax))\n",
    "\n",
    "\n",
    "# instantiate GriddedModel3D object\n",
    "nsub_props = props.shape[0]\n",
    "axes_order = {'X':0,'Y':1,'Z':2} #this dict keeps track of axes order\n",
    "gm3d = gm(props,nsub_props,axes_order,(nx,ny,nz),(dx,dy,dz),(xmin,ymin,zmin))\n",
    "print('gm3d:',gm3d)\n",
    "print('gm3d.shape:',gm3d.shape)\n",
    "\n",
    "\n",
    "#free up some memory if needed\n",
    "#del props "
   ]
  },
  {
   "cell_type": "markdown",
   "metadata": {},
   "source": [
    "### Step 8\n",
    "\n",
    "Get another depth slice and plot it to QC smoothing and the compress/decompress"
   ]
  },
  {
   "cell_type": "code",
   "execution_count": null,
   "metadata": {},
   "outputs": [],
   "source": [
    "depth = 100 # This is an INDEX! So, know your header data and its mapping to the model!\n",
    "iprop = 0\n",
    "\n",
    "# index order: p      x  y  z\n",
    "surf    = gm3d[iprop, :, :, depth].T\n",
    "print('surf.shape',surf.shape)\n",
    "\n",
    "# Get min max to normalize surface\n",
    "vp_min = np.min(surf)\n",
    "vp_max = np.max(surf)\n",
    "print('vp_min:',vp_min)\n",
    "print('vp_max:',vp_max)\n",
    "surf_norm = Normalize(vp_min,vp_max)\n",
    "\n",
    "# compute coordinates\n",
    "xc  = dx*np.arange(nx) + xmin\n",
    "yc  = dy*np.arange(ny) + ymin\n",
    "xyc = np.transpose([np.tile(xc, len(yc)), np.repeat(yc, len(xc))])\n",
    "\n",
    "#Plot\n",
    "fig, ax = plt.subplots(1,figsize=(8,8))\n",
    "sc = ax.scatter(xyc[:,0],xyc[:,1],s=1,c=surf.flatten(),cmap=plt.cm.jet,norm=surf_norm)\n",
    "ax.set_title('Full NAM Model Surface (z=0)')\n",
    "fig.colorbar(sc)\n",
    "plt.show()"
   ]
  },
  {
   "cell_type": "markdown",
   "metadata": {},
   "source": [
    "### Step 9\n",
    "\n",
    "Now we are going to subsample model. One may want to do this if they can use a courser grid, which reduced the memory footprint and it will reduce computational cost associated with simultions that use the model. \n",
    "\n",
    "Here we are going to subsample the model such that $dz=dx=dy=100m$.  Again, PAY ATTENTION to your HEADER data. The arguments are is[xyz] the first SAMPLE, and id[xyz] is the subsampling interval in SAMPLES.\n",
    "\n",
    "NOTE: We will start the subsampled grid at 5 zamples in $z$. Why? In the future we will use this model to  generate a mesh. And, each cell will be 100 meters. We will use ever point as a proxy for an entire cell in the mesh. For $x$ and $y$ this is fine because the mesh will be half a cell larger on both ends, but for $z$ it may not make sense to have the mess begin above ground (negitve $z$)."
   ]
  },
  {
   "cell_type": "code",
   "execution_count": null,
   "metadata": {},
   "outputs": [],
   "source": [
    "sub_dxy = 2  # every second sample = 100m\n",
    "sub_dz  = 10 # every tenth sample = 100m\n",
    "sub_isz = 5  # start at the 5th sample -> at 50m -> that the cell in a mesh starts at z=0m \n",
    "gm3d.subsample(isz=sub_isz,idz=sub_dz,idx=sub_dxy,idy=sub_dxy) # idx=idy=2 by default\n",
    "print('gm3d:',gm3d)"
   ]
  },
  {
   "cell_type": "markdown",
   "metadata": {},
   "source": [
    "### Step 10\n",
    "\n",
    "Again, we will compress and pickled the now subsampled and smoothed model. So here we prepare to compress and pickle and make sure the path and file name are good and varify x,y,x \"header\" data."
   ]
  },
  {
   "cell_type": "code",
   "execution_count": null,
   "metadata": {},
   "outputs": [],
   "source": [
    "# get ndarray and header data\n",
    "subsmp_props = gm3d.getNPArray()\n",
    "\n",
    "xmin = gm3d.get_gorigin()[0]\n",
    "dx   = gm3d.get_deltas()[0]\n",
    "nx   = gm3d.get_npoints()[0]\n",
    "\n",
    "ymin = gm3d.get_gorigin()[1]\n",
    "dy   = gm3d.get_deltas()[1]\n",
    "ny   = gm3d.get_npoints()[1]\n",
    "\n",
    "zmin = gm3d.get_gorigin()[2]\n",
    "dz   = gm3d.get_deltas()[2]\n",
    "nz   = gm3d.get_npoints()[2]\n",
    "\n",
    "# header data\n",
    "xdata = np.array([xmin,dx,nx])\n",
    "ydata = np.array([ymin,dy,ny])\n",
    "zdata = np.array([zmin,dz,nz])\n",
    "\n",
    "print('Header Data:')\n",
    "print(' x-header:',xdata.astype(np.int32))\n",
    "print(' y-header:',ydata.astype(np.int32))\n",
    "print(' z-header:',zdata.astype(np.int32))\n",
    "print()\n",
    "\n",
    "# calculate maxDepth from header data\n",
    "maxDepth = nz*dz # NOTICE: this is different from how it was calculated previously.\n",
    "\n",
    "# fqn\n",
    "out_dir = './model_data/'\n",
    "fname   = 'subsmp_smth_full_nam_2017_vp_vs_rho_Q_model_dz' \n",
    "fname  += str(int(dz)) + '_depth' + str(int(maxDepth)) + '_sig' + str(int(sig_meters)) + '.npz'\n",
    "ofqn    = out_dir + fname\n",
    "\n",
    "print('Output FQN:\\n',ofqn)\n"
   ]
  },
  {
   "cell_type": "markdown",
   "metadata": {},
   "source": [
    "### Step 11\n",
    "\n",
    "Compress and store the numpy array of the SUBSAMPLED, SMOOTHED NAM model"
   ]
  },
  {
   "cell_type": "code",
   "execution_count": null,
   "metadata": {},
   "outputs": [],
   "source": [
    "np.savez_compressed(ofqn,props=subsmp_props,xd=xdata,yd=ydata,zd=zdata)\n",
    "print(ofqn)"
   ]
  },
  {
   "cell_type": "markdown",
   "metadata": {},
   "source": [
    "### Step 12 \n",
    "\n",
    "Decompress the ndarray of the subsampled, smoothed NAM model and instantiate a new GriddedModel3D object for QC'ing"
   ]
  },
  {
   "cell_type": "code",
   "execution_count": null,
   "metadata": {
    "scrolled": false
   },
   "outputs": [],
   "source": [
    "# copy from the line above, or put in the Fully Qualified Name of the file\n",
    "ifqn = './model_data/subsmp_smth_full_nam_2017_vp_vs_rho_Q_model_dz100_depth6000_sig250.npz'\n",
    "\n",
    "#decompress\n",
    "data = np.load(ifqn)\n",
    "props = data['props'] #4D ndarray of subsurface model\n",
    "\n",
    "\n",
    "#header/meta data arrays\n",
    "xdata = data['xd'] \n",
    "ydata = data['yd']\n",
    "zdata = data['zd']\n",
    "\n",
    "print('Header Data:')\n",
    "print(' x:',xdata)\n",
    "print(' y:',ydata)\n",
    "print(' z:',zdata)\n",
    "print()\n",
    "\n",
    "\n",
    "# individual parameters from the headers \n",
    "xmin = xdata[0]\n",
    "dx   = xdata[1]\n",
    "nx   = int(xdata[2])\n",
    "xmax = xmin + (nx-1)*dx #notice that this can be computed\n",
    "\n",
    "ymin = ydata[0]\n",
    "dy   = ydata[1]\n",
    "ny   = int(ydata[2])\n",
    "ymax = ymin + (ny-1)*dy #notice that this can be computed\n",
    "\n",
    "zmin = zdata[0]\n",
    "dz   = zdata[1]\n",
    "nz   = int(zdata[2])\n",
    "zmax = (-zmin) + (nz-1)*dz #notice that this can be computed\n",
    "\n",
    "\n",
    "print('Individual Header Data Parameters:')\n",
    "print(' xmin,dx,nx,xmax = %d,%d,%d,%d' %(xmin,dx,nx,xmax))\n",
    "print(' ymin,dy,ny,ymax = %d,%d,%d,%d' %(ymin,dy,ny,ymax))\n",
    "print(' zmin,dz,nz,zmax = %d,%d,%d,%d' %(zmin,dz,nz,zmax))\n",
    "\n",
    "\n",
    "# instantiate GriddedModel3D object\n",
    "nsub_props = props.shape[0]\n",
    "axes_order = {'X':0,'Y':1,'Z':2} #this dict keeps track of axes order\n",
    "gm3d = gm(props,nsub_props,axes_order,(nx,ny,nz),(dx,dy,dz),(xmin,ymin,zmin))\n",
    "print('gm3d:',gm3d)\n",
    "print('gm3d.shape:',gm3d.shape)\n",
    "\n",
    "\n",
    "#free up some memory if needed\n",
    "#del props "
   ]
  },
  {
   "cell_type": "markdown",
   "metadata": {},
   "source": [
    "### Step 13\n",
    "\n",
    "Get another depth slice and plot it to QC subsampling of the smoothed model as well as the compress/decompress.\n",
    "\n",
    "HOWEVER, this time we will get an interpolated slice. We need to change the depth index that we use because the model has been subsampled. By indexing alone, we can not get the exact same depth slice because we have started the subsampled model at $z=50m$, so we will use a FLOAT_INDEX so that we can get the sampe depth of 1000m used above."
   ]
  },
  {
   "cell_type": "code",
   "execution_count": null,
   "metadata": {
    "scrolled": false
   },
   "outputs": [],
   "source": [
    "depth = 1000.0 # Note I am using a FLOAT_INDEX -> a depth of 1000m \n",
    "iprop = 0\n",
    "\n",
    "# Get interpolated depth slice\n",
    "surf = gm3d.depthValsSliceFromZFloat(depth,iprop)\n",
    "print('surf.shape',surf.shape)\n",
    "\n",
    "# Get min max to normalize surface\n",
    "vp_min = np.min(surf)\n",
    "vp_max = np.max(surf)\n",
    "print('vp_min:',vp_min)\n",
    "print('vp_max:',vp_max)\n",
    "surf_norm = Normalize(vp_min,vp_max)\n",
    "\n",
    "# compute coordinates\n",
    "xc  = dx*np.arange(nx) + xmin\n",
    "yc  = dy*np.arange(ny) + ymin\n",
    "xyc = np.transpose([np.tile(xc, len(yc)), np.repeat(yc, len(xc))])\n",
    "\n",
    "#Plot\n",
    "fig, ax = plt.subplots(1,figsize=(8,8))\n",
    "sc = ax.scatter(xyc[:,0],xyc[:,1],s=1,c=surf,cmap=plt.cm.jet,norm=surf_norm)\n",
    "ax.set_title('Full NAM Model Surface (z=0)')\n",
    "fig.colorbar(sc)\n",
    "plt.show()"
   ]
  },
  {
   "cell_type": "markdown",
   "metadata": {},
   "source": [
    "### Step 14\n",
    "\n",
    "Here we will create a BoundingBoxy (just a 4-sided, 2D polygon) which we can use to slice a volume were the $x$ and $y$ extents are contained within the polygon.  The ressulting GriddedModel3D will have $x'$ and $y'$ coordinates which are perpindicular to each other, but oblique to the initial $x$ and $y$.\n",
    "\n",
    "The BoundingBox can be rotated and translated. And will be ploted on top of the previous depth slice. The solid-line box is the inital bbox, and the dotted line is the rotated and translated bbox."
   ]
  },
  {
   "cell_type": "code",
   "execution_count": null,
   "metadata": {},
   "outputs": [],
   "source": [
    "# Calculate corners for bbox\n",
    "# Top left corner\n",
    "tlc_y = (2/3)*dy*ny + ymin\n",
    "tlc_x = (1/3)*dx*nx + xmin\n",
    "\n",
    "# Top right corner\n",
    "trc_y = tlc_y\n",
    "trc_x = (2/3)*dx*nx + xmin\n",
    "\n",
    "# Lower right corner\n",
    "lrc_y = (1/3)*dy*ny + ymin\n",
    "lrc_x = trc_x\n",
    "\n",
    "# Lower left corner\n",
    "llc_y = lrc_y\n",
    "llc_x = tlc_x\n",
    "\n",
    "# Create a point loop structure (surface loop) from corner points\n",
    "'''\n",
    "c_loop = np.array([[tlc_x,tlc_y],[trc_x,trc_y],\n",
    "                   [lrc_x,lrc_y],[llc_x,llc_y],\n",
    "                   [tlc_x,tlc_y]])\n",
    "''';\n",
    "c_loop = np.array([[llc_x,llc_y],[tlc_x,tlc_y],\n",
    "                   [trc_x,trc_y],[lrc_x,lrc_y],\n",
    "                   [llc_x,llc_y]])\n",
    "\n",
    "# Instantiate bbox from surface/corner loop\n",
    "mybbox = bb(c_loop)\n",
    "\n",
    "\n",
    "# Make a copy of the bbox and then rotate the copy\n",
    "rot_bbox = copy.deepcopy(mybbox)\n",
    "rot_deg = 45\n",
    "rot_bbox.rotate(rot_deg)\n",
    "\n",
    "# Translate rotated bbox\n",
    "# coordinates:       x     y\n",
    "#tran_x = -3500\n",
    "#tran_y = -11500\n",
    "tran_x = 10500\n",
    "tran_y = -5500\n",
    "rot_bbox.translate(tran_x,tran_y)\n",
    "\n",
    "\n",
    "# Plot both bboxes\n",
    "fig, ax = plt.subplots(1,figsize=(8,8))\n",
    "ax.scatter(xyc[:,0],xyc[:,1],s=1,c=surf,cmap=plt.cm.jet,norm=surf_norm,zorder=0)\n",
    "ax.plot(mybbox.getCLoop()[:,0],mybbox.getCLoop()[:,1],c='black',zorder=3)\n",
    "ax.plot(rot_bbox.getCLoop()[:,0],rot_bbox.getCLoop()[:,1],c='black',linestyle='dotted',zorder=3)\n",
    "ax.set_title('NAM Model w/ Bbox')\n",
    "plt.show()"
   ]
  },
  {
   "cell_type": "markdown",
   "metadata": {},
   "source": [
    "### Step 15\n",
    "\n",
    "Compress and pickle the bounding box."
   ]
  },
  {
   "cell_type": "code",
   "execution_count": null,
   "metadata": {},
   "outputs": [],
   "source": [
    "ofqn  = './model_data/rot_bbox_deg' + str(int(rot_deg)) \n",
    "ofqn += '_tranX' + str(int(tran_x)) + '_tranY' + str(int(tran_y)) + '.npz'\n",
    "print('Output FQN:',ofqn)\n",
    "print()\n",
    "\n",
    "# Compress and pickle\n",
    "print('bbox before pickle:\\n',rot_bbox)\n",
    "f = open(ofqn, 'wb')\n",
    "pickle.dump(rot_bbox, f)\n",
    "f.close()\n",
    "print()\n"
   ]
  },
  {
   "cell_type": "markdown",
   "metadata": {},
   "source": [
    "### Step 16\n",
    "\n",
    "Decompress bounding box for QC'ing"
   ]
  },
  {
   "cell_type": "code",
   "execution_count": null,
   "metadata": {},
   "outputs": [],
   "source": [
    "# Decompress and pickle\n",
    "ifqn = './model_data/rot_bbox_deg45_tranX10500_tranY-5500.npz' # copy from output above\n",
    "f = open(ifqn, 'rb')\n",
    "dill_bbox = pickle.load(f) # 'Dill' get it? \n",
    "f.close()\n",
    "print('bbox after pickle :\\n',dill_bbox)"
   ]
  },
  {
   "cell_type": "markdown",
   "metadata": {},
   "source": [
    "### Step 17\n",
    "\n",
    "Using the rotated and translated bbox created in the previous cell, we will get a new interpolated volume slice. "
   ]
  },
  {
   "cell_type": "code",
   "execution_count": null,
   "metadata": {},
   "outputs": [],
   "source": [
    "vslice_gm3d = gm3d.slice_volume_by_bbox(dill_bbox)\n",
    "print(vslice_gm3d)"
   ]
  },
  {
   "cell_type": "markdown",
   "metadata": {},
   "source": [
    "### Step 18\n",
    "\n",
    "Yet again, we will compress and pickled the now volume-sliced, subsampled, and smoothed model. So here we prepare to compress and pickle and make sure the path and file name are good and varify x,y,x \"header\" data."
   ]
  },
  {
   "cell_type": "code",
   "execution_count": null,
   "metadata": {},
   "outputs": [],
   "source": [
    "# get ndarray and header data\n",
    "vslice_props = vslice_gm3d.getNPArray()\n",
    "\n",
    "xmin = vslice_gm3d.get_gorigin()[0]\n",
    "dx   = vslice_gm3d.get_deltas()[0]\n",
    "nx   = vslice_gm3d.get_npoints()[0]\n",
    "\n",
    "ymin = vslice_gm3d.get_gorigin()[1]\n",
    "dy   = vslice_gm3d.get_deltas()[1]\n",
    "ny   = vslice_gm3d.get_npoints()[1]\n",
    "\n",
    "zmin = vslice_gm3d.get_gorigin()[2]\n",
    "dz   = vslice_gm3d.get_deltas()[2]\n",
    "nz   = vslice_gm3d.get_npoints()[2]\n",
    "\n",
    "# header data\n",
    "xdata = np.array([xmin,dx,nx])\n",
    "ydata = np.array([ymin,dy,ny])\n",
    "zdata = np.array([zmin,dz,nz])\n",
    "\n",
    "print('Header Data:')\n",
    "print(' x-header:',xdata.astype(np.int32))\n",
    "print(' y-header:',ydata.astype(np.int32))\n",
    "print(' z-header:',zdata.astype(np.int32))\n",
    "print()\n",
    "\n",
    "# calculate maxDepth from header data\n",
    "maxDepth = nz*dz # NOTICE: this is different from how it was calculated previously.\n",
    "\n",
    "# fqn\n",
    "out_dir = './model_data/'\n",
    "fname   = 'vsliced_subsmp_smth_full_nam_2017_vp_vs_rho_Q_model_dz' \n",
    "fname  += str(int(dz)) + '_depth' + str(int(maxDepth)) + '_sig' + str(int(sig_meters)) + '.npz'\n",
    "ofqn    = out_dir + fname\n",
    "\n",
    "print('Output FQN:\\n',ofqn)\n"
   ]
  },
  {
   "cell_type": "markdown",
   "metadata": {},
   "source": [
    "### Step 19\n",
    "\n",
    "Compress and store the numpy array of the VOLUME-SLICED, SUBSAMPLED, SMOOTHED NAM model"
   ]
  },
  {
   "cell_type": "code",
   "execution_count": null,
   "metadata": {},
   "outputs": [],
   "source": [
    "np.savez_compressed(ofqn,props=vslice_props,xd=xdata,yd=ydata,zd=zdata)\n",
    "print(ofqn)"
   ]
  },
  {
   "cell_type": "markdown",
   "metadata": {},
   "source": [
    "### Step 20 \n",
    "\n",
    "Decompress the ndarray of the subsampled, smoothed NAM model and instantiate a new GriddedModel3D object for QC'ing"
   ]
  },
  {
   "cell_type": "code",
   "execution_count": null,
   "metadata": {
    "scrolled": false
   },
   "outputs": [],
   "source": [
    "# copy from the line above, or put in the Fully Qualified Name of the file\n",
    "ifqn = './model_data/vsliced_subsmp_smth_full_nam_2017_vp_vs_rho_Q_model_dz100_depth6000_sig250.npz'\n",
    "\n",
    "#decompress\n",
    "data = np.load(ifqn)\n",
    "props = data['props'] #4D ndarray of subsurface model\n",
    "\n",
    "\n",
    "#header/meta data arrays\n",
    "xdata = data['xd'] \n",
    "ydata = data['yd']\n",
    "zdata = data['zd']\n",
    "\n",
    "print('Header Data:')\n",
    "print(' x:',xdata)\n",
    "print(' y:',ydata)\n",
    "print(' z:',zdata)\n",
    "print()\n",
    "\n",
    "\n",
    "# individual parameters from the headers \n",
    "xmin = xdata[0]\n",
    "dx   = xdata[1]\n",
    "nx   = int(xdata[2])\n",
    "xmax = xmin + (nx-1)*dx #notice that this can be computed\n",
    "\n",
    "ymin = ydata[0]\n",
    "dy   = ydata[1]\n",
    "ny   = int(ydata[2])\n",
    "ymax = ymin + (ny-1)*dy #notice that this can be computed\n",
    "\n",
    "zmin = zdata[0]\n",
    "dz   = zdata[1]\n",
    "nz   = int(zdata[2])\n",
    "zmax = (-zmin) + (nz-1)*dz #notice that this can be computed\n",
    "\n",
    "\n",
    "print('Individual Header Data Parameters:')\n",
    "print(' xmin,dx,nx,xmax = %d,%d,%d,%d' %(xmin,dx,nx,xmax))\n",
    "print(' ymin,dy,ny,ymax = %d,%d,%d,%d' %(ymin,dy,ny,ymax))\n",
    "print(' zmin,dz,nz,zmax = %d,%d,%d,%d' %(zmin,dz,nz,zmax))\n",
    "\n",
    "\n",
    "# instantiate GriddedModel3D object\n",
    "nsub_props = props.shape[0]\n",
    "axes_order = {'X':0,'Y':1,'Z':2} #this dict keeps track of axes order\n",
    "dill_gm3d = gm(props,nsub_props,axes_order,(nx,ny,nz),(dx,dy,dz),(xmin,ymin,zmin))\n",
    "print('vslice_gm3d:',vslice_gm3d)\n",
    "\n",
    "\n",
    "#free up some memory if needed\n",
    "#del props "
   ]
  },
  {
   "cell_type": "markdown",
   "metadata": {},
   "source": [
    "### Step 21\n",
    "\n",
    "Overlay a depth slice of the volume-sliced model on top of the full model.  Besure to zoom in on the corners and on the edges to QC that the sliced volume is within the bounding box and that the interpolated values make sense.\n",
    "\n",
    "NOTE: We will make use of the \"notebook\" windowing-backend so that we can ZOOM!"
   ]
  },
  {
   "cell_type": "code",
   "execution_count": null,
   "metadata": {},
   "outputs": [],
   "source": [
    "# we want to be able to zoom into the corners and edges\n",
    "%matplotlib notebook  \n",
    "\n",
    "depth = 9 # This is an INDEX! shoudl be at 1050m in depth\n",
    "iprop = 0\n",
    "\n",
    "# index order:          p      x  y  z\n",
    "vslice_surf = dill_gm3d[iprop, :, :, depth].T\n",
    "full_surf   = gm3d[iprop, :, :, depth].T\n",
    "print('vslice_surf.shape',vslice_surf.shape)\n",
    "print('full_surf.shape',full_surf.shape)\n",
    "\n",
    "\n",
    "# Get min max to normalize surface\n",
    "vp_min = np.min(vslice_surf)\n",
    "vp_max = np.max(vslice_surf)\n",
    "print('vp_min:',vp_min)\n",
    "print('vp_max:',vp_max)\n",
    "full_surf_norm = Normalize(vp_min,vp_max)\n",
    "\n",
    "\n",
    "# Get coordinates\n",
    "vslice_xyc = vslice_gm3d.getGlobalCoordsPointsXY()\n",
    "full_xyc   = gm3d.getGlobalCoordsPointsXY()\n",
    "\n",
    "\n",
    "#Plot\n",
    "fig, ax = plt.subplots(1,figsize=(8,8))\n",
    "\n",
    "# Plot the fullslice\n",
    "sc = ax.scatter(full_xyc[:,0],full_xyc[:,1],s=1,c=full_surf.flatten(),cmap=plt.cm.jet,norm=full_surf_norm,zorder=0)\n",
    "\n",
    "# Overlay plot of the bbox filled with white\n",
    "#ax.fill(dill_bbox.getCLoop()[:,0],dill_bbox.getCLoop()[:,1],c='white',zorder=1)\n",
    "\n",
    "# Overlay plot of volume depth slice\n",
    "ax.scatter(vslice_xyc[:,0],vslice_xyc[:,1],s=1,c=vslice_surf.flatten(),cmap=plt.cm.jet,norm=full_surf_norm,zorder=2)\n",
    "\n",
    "# Over lay dotted plot of bbox surface\n",
    "ax.plot(dill_bbox.getCLoop()[:,0],dill_bbox.getCLoop()[:,1],c='black',linestyle='dotted',zorder=4)\n",
    "\n",
    "# Set other plot options\n",
    "ax.set_title('Full NAM Model with Slice Overlay')\n",
    "fig.colorbar(sc)\n",
    "plt.show()\n"
   ]
  },
  {
   "cell_type": "markdown",
   "metadata": {},
   "source": [
    "### Step -1\n",
    "\n",
    "Now that we have a model we want, we can use Paraview to view both it and the full model if we convert them to VTK/VTR files.  So, lets do it...\n",
    "\n",
    "NOTE: Now that you know how to slice a volume out, take a look at the notebook where the Groningen events and station data are fetched, then find plot a bbox and fine-tune its shape and location for the desired coverage. Then come back here and create a volume slice."
   ]
  },
  {
   "cell_type": "code",
   "execution_count": null,
   "metadata": {},
   "outputs": [],
   "source": [
    "from gnam.vtkutils.write import write_vtk_gridded_model_3d\n",
    "\n",
    "\n",
    "#vk_props = dill_gm3d.getNPArray().transpose(0,3,2,1)\n",
    "vk_props = dill_gm3d.getNPArray()\n",
    "print('vk_props.shape:',vk_props.shape)\n",
    "vk_xdata = np.zeros((3))\n",
    "vk_ydata = np.zeros((3))\n",
    "vk_zdata = np.zeros((3))\n",
    "vk_xdata[1] = dill_gm3d.get_deltas()[0]\n",
    "vk_ydata[1] = dill_gm3d.get_deltas()[1]\n",
    "vk_zdata[1] = dill_gm3d.get_deltas()[2]\n",
    "vk_xdata[2] = vk_props.shape[1]\n",
    "vk_ydata[2] = vk_props.shape[2]\n",
    "vk_zdata[2] = vk_props.shape[3]\n",
    "print('vk_xdata:',vk_xdata)\n",
    "print('vk_ydata:',vk_ydata)\n",
    "print('vk_zdata:',vk_zdata)\n",
    "\n",
    "# Copy and past ifqn from previous volume-slice decompression here, but do so without the extension\n",
    "vtk_ofqn = './model_data/vsliced_subsmp_smth_full_nam_2017_vp_vs_rho_Q_model_dz100_depth6000_sig250'\n",
    "print('vtk_ofqn:',vtk_ofqn+'.vtr')\n",
    "write_vtk_gridded_model_3d(vtk_ofqn,vk_props,vk_xdata,vk_ydata,vk_zdata)\n",
    "\n",
    "print()\n",
    "\n",
    "full_vk_props = gm3d.getNPArray()\n",
    "print('full_vk_props.shape:',full_vk_props.shape)\n",
    "full_vk_xdata = np.zeros((3))\n",
    "full_vk_ydata = np.zeros((3))\n",
    "full_vk_zdata = np.zeros((3))\n",
    "full_vk_xdata[1] = gm3d.get_deltas()[0]\n",
    "full_vk_ydata[1] = gm3d.get_deltas()[1]\n",
    "full_vk_zdata[1] = gm3d.get_deltas()[2]\n",
    "full_vk_xdata[2] = full_vk_props.shape[1]\n",
    "full_vk_ydata[2] = full_vk_props.shape[2]\n",
    "full_vk_zdata[2] = full_vk_props.shape[3]\n",
    "print('full_vk_xdata:',full_vk_xdata)\n",
    "print('full_vk_ydata:',full_vk_ydata)\n",
    "print('full_vk_zdata:',full_vk_zdata)\n",
    "\n",
    "# Copy and past ifqn from previous full decompression here, but do so without the extension\n",
    "full_vtk_ofqn = './model_data/subsmp_smth_full_nam_2017_vp_vs_rho_Q_model_dz100_depth6000_sig250'\n",
    "print('full_vtk_ofqn:',full_vtk_ofqn+'.vtr')\n",
    "write_vtk_gridded_model_3d(full_vtk_ofqn,full_vk_props,full_vk_xdata,full_vk_ydata,full_vk_zdata)\n",
    "\n",
    "print('\\nNow open the files in Parview and enjoy!')"
   ]
  },
  {
   "cell_type": "code",
   "execution_count": null,
   "metadata": {},
   "outputs": [],
   "source": []
  }
 ],
 "metadata": {
  "kernelspec": {
   "display_name": "Python 3",
   "language": "python",
   "name": "python3"
  },
  "language_info": {
   "codemirror_mode": {
    "name": "ipython",
    "version": 3
   },
   "file_extension": ".py",
   "mimetype": "text/x-python",
   "name": "python",
   "nbconvert_exporter": "python",
   "pygments_lexer": "ipython3",
   "version": "3.8.8"
  }
 },
 "nbformat": 4,
 "nbformat_minor": 4
}
