{
 "cells": [
  {
   "cell_type": "markdown",
   "metadata": {},
   "source": [
    "# Create SPECFEM3D Project Directories\n",
    "1. Define function for making directories\n",
    "1. Create directories for each event including the special directories for run0001 "
   ]
  },
  {
   "cell_type": "markdown",
   "metadata": {},
   "source": [
    "### 1. Define function for making directories"
   ]
  },
  {
   "cell_type": "code",
   "execution_count": null,
   "metadata": {},
   "outputs": [],
   "source": [
    "import os\n",
    "\n",
    "def make_directory(fqdn):\n",
    "    if os.path.isdir(fqdn):\n",
    "        print (\"The directory %s has already been created\" % fqdn)\n",
    "        return 0\n",
    "    try:\n",
    "        os.makedirs(fqdn, access_rights)\n",
    "    except OSError:\n",
    "        print (\"Creation of the directory %s failed\" % fqdn)\n",
    "        print()\n",
    "        return -1\n",
    "    else:\n",
    "        print (\"Creation of the directory %s succeeded\" % fqdn)\n",
    "        print()\n",
    "        return 0\n",
    "    "
   ]
  },
  {
   "cell_type": "markdown",
   "metadata": {},
   "source": [
    "### 2. Create directories for each event including the special directories for run0001"
   ]
  },
  {
   "cell_type": "code",
   "execution_count": null,
   "metadata": {},
   "outputs": [],
   "source": [
    "num_events = 3\n",
    "proj_root_path = '/Users/mcmac/Documents/Work/Bench/Groningen/data_notebooks/SPECFEM3D/project/'\n",
    "\n",
    "# list of directories need for every event\n",
    "common_dir_list = ['/DATA',\n",
    "                   '/OUTPUT_FILES/DATABASES_MPI',\n",
    "                   '/SEM',\n",
    "                   '/OBS',\n",
    "                   '/SYN',\n",
    "                   '/FILT_OBS',\n",
    "                   '/FILT_SYN',]\n",
    "\n",
    "# list of directories only needed for the primary run0001 dir\n",
    "primary_dir_list = ['/INPUT_GRADIENT',\n",
    "                    '/INPUT_KERNELS',\n",
    "                    '/INPUT_MODEL',\n",
    "                    '/OUTPUT_MODEL',\n",
    "                    '/OUTPUT_SUM',\n",
    "                    '/SMOOTH',\n",
    "                    '/COMBINE',\n",
    "                    '/topo']\n",
    "\n",
    "# define the access rights\n",
    "access_rights = 0o755\n",
    "\n",
    "#loop over number of events\n",
    "for e in range(num_events):\n",
    "    edir = proj_root_path + '/run' + str(e+1).zfill(4)\n",
    "    dname = edir\n",
    "    \n",
    "    # make for each event\n",
    "    print('Experiment-%d:\\n'%(e+1), dname)\n",
    "    for d in common_dir_list:\n",
    "        new_dir = dname + d\n",
    "        err = make_directory(new_dir)\n",
    "        if err != 0:\n",
    "            print('Oops. You messed up creating common dirs!')\n",
    "            assert False\n",
    "        \n",
    "    # make dirs needed only in the primary run0001 dir (used for inversion, model-updating, etc.)\n",
    "    if e == 0:\n",
    "        for d in primary_dir_list:\n",
    "            new_dir = dname + d\n",
    "            err = make_directory(new_dir)\n",
    "            if err != 0:\n",
    "                print('Oops. You messed up creating special dirs!')\n",
    "                assert False\n"
   ]
  },
  {
   "cell_type": "markdown",
   "metadata": {},
   "source": [
    "## Finished"
   ]
  },
  {
   "cell_type": "code",
   "execution_count": null,
   "metadata": {},
   "outputs": [],
   "source": []
  }
 ],
 "metadata": {
  "kernelspec": {
   "display_name": "Python 3",
   "language": "python",
   "name": "python3"
  },
  "language_info": {
   "codemirror_mode": {
    "name": "ipython",
    "version": 3
   },
   "file_extension": ".py",
   "mimetype": "text/x-python",
   "name": "python",
   "nbconvert_exporter": "python",
   "pygments_lexer": "ipython3",
   "version": "3.6.10"
  }
 },
 "nbformat": 4,
 "nbformat_minor": 4
}
