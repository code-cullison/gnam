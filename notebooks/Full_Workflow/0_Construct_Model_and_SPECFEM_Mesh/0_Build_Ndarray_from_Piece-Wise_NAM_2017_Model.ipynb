{
 "cells": [
  {
   "cell_type": "markdown",
   "metadata": {},
   "source": [
    "# Generate an ndarray on a regular grid of the NAM 2017 model\n",
    "\n",
    "This notebook and the programs/code used within will create a 4D numpy array of the mode for a specified dz and depth.  A 3D array for each of the following properties: VP, VS, RHO, and Qu.  The piece-wise model had an x and y resolution of $dx=dy=50m$. Therefore, to refine the mesh at a courser grid, the user must interpolate after the numpy array is created.\n",
    "\n",
    "The Vo_maps.txt and horizons.txt file were provided to me from KNMI.  These file discribe the NAM 2017 model.  Please see that report for more information.  I have edited these .txt file to remove the first line which made it easy to use pandas to \"automatically\" read these files.\n",
    "\n",
    "NOTE: The gnam python codes needs to be in this current directory. Hopefully to be made into a package at a later date.\n"
   ]
  },
  {
   "cell_type": "markdown",
   "metadata": {},
   "source": [
    "### Step 1\n",
    "\n",
    "Show contents of the 'nam_model_data_in' directory. There should be two files: Vo_maps.txt and horizons.txt"
   ]
  },
  {
   "cell_type": "code",
   "execution_count": null,
   "metadata": {},
   "outputs": [],
   "source": [
    "!ls \n",
    "#!ls nam_model_data_in"
   ]
  },
  {
   "cell_type": "markdown",
   "metadata": {},
   "source": [
    "### Step 2\n",
    "\n",
    "Use the nammodel code to generate the array."
   ]
  },
  {
   "cell_type": "code",
   "execution_count": null,
   "metadata": {},
   "outputs": [],
   "source": [
    "from gnam.model.nammodel import nammodel as nam\n",
    "\n",
    "data_in_dir  = './nam_model_data_in/'\n",
    "fqn_vo_map   = data_in_dir + 'Vo_maps.txt'\n",
    "fqn_horizons = data_in_dir + 'horizons.txt'\n",
    "\n",
    "\n",
    "# Obstantiate the NAM model object\n",
    "nam_model = nam(fqn_vo_map,fqn_horizons)\n",
    "\n",
    "# Generate and return the ndarray and the header/meta data on x,y,z\n",
    "dz = 10\n",
    "maxDepth = 6000\n",
    "nam_data = nam_model.computeGriddedModel3D(dz,maxDepth)\n",
    "\n",
    "# Get just the ndarray\n",
    "nam_props = nam_data[0] \n",
    "\n",
    "print('Model.shape:',nam_props.shape)\n"
   ]
  },
  {
   "cell_type": "markdown",
   "metadata": {},
   "source": [
    "### Step 3\n",
    "\n",
    "Prepare to compress and pickle numpy array: make sure the path and file name are good and varify x,y,x \"header\" data."
   ]
  },
  {
   "cell_type": "code",
   "execution_count": null,
   "metadata": {},
   "outputs": [],
   "source": [
    "# fqn\n",
    "out_dir = './model_data/'\n",
    "fname   = 'raw_nam_2017_vp_vs_rho_Q_model_dz' + str(dz) + '_depth' + str(maxDepth) + '.npz'\n",
    "ofqn    = out_dir + fname\n",
    "\n",
    "print('Output FQN:\\n',ofqn)\n",
    "print()\n",
    "\n",
    "\n",
    "# header data\n",
    "import numpy as np\n",
    "xdata = nam_data[1]\n",
    "ydata = nam_data[2]\n",
    "zdata = nam_data[3]\n",
    "\n",
    "print('Header Data:')\n",
    "print(' x-header:',xdata.astype(np.int32))\n",
    "print(' y-header:',ydata.astype(np.int32))\n",
    "print(' z-header:',zdata.astype(np.int32))"
   ]
  },
  {
   "cell_type": "markdown",
   "metadata": {},
   "source": [
    "### Step 4\n",
    "\n",
    "Compress and store the numpy array of the NAM model"
   ]
  },
  {
   "cell_type": "code",
   "execution_count": null,
   "metadata": {},
   "outputs": [],
   "source": [
    "import numpy as np\n",
    "\n",
    "xdata = nam_data[1]\n",
    "ydata = nam_data[2]\n",
    "zdata = nam_data[3]\n",
    "\n",
    "np.savez_compressed(ofqn,props=nam_props,xd=xdata,yd=ydata,zd=zdata)\n",
    "print(ofqn)"
   ]
  },
  {
   "cell_type": "markdown",
   "metadata": {},
   "source": [
    "### Step 5\n",
    "\n",
    "Deompress ndarray of the NAM model as a QC"
   ]
  },
  {
   "cell_type": "code",
   "execution_count": 2,
   "metadata": {},
   "outputs": [
    {
     "name": "stdout",
     "output_type": "stream",
     "text": [
      "Header Data:\n",
      " x: [2.074625e+05 5.000000e+01 1.450000e+03]\n",
      " y: [5.559625e+05 5.000000e+01 1.198000e+03]\n",
      " z: [  0.  10. 601.]\n",
      "\n",
      "Individual Header Data Parameters:\n",
      " xmin,dx,nx,xmax = 207462,50,1450,279912\n",
      " ymin,dy,ny,ymax = 555962,50,1198,615812\n",
      " zmin,dz,nz,zmax = 0,10,601,6000\n"
     ]
    }
   ],
   "source": [
    "import numpy as np\n",
    "\n",
    "# copy from the line above, or put in the Fully Qualified Name of the file\n",
    "ifqn = './model_data/raw_nam_2017_vp_vs_rho_Q_model_dz10_depth6000.npz'\n",
    "\n",
    "#decompress\n",
    "data = np.load(ifqn)\n",
    "props = data['props'] #4D ndarray of subsurface model\n",
    "\n",
    "\n",
    "#header/meta data arrays\n",
    "xdata = data['xd'] \n",
    "ydata = data['yd']\n",
    "zdata = data['zd']\n",
    "\n",
    "print('Header Data:')\n",
    "print(' x:',xdata)\n",
    "print(' y:',ydata)\n",
    "print(' z:',zdata)\n",
    "print()\n",
    "\n",
    "\n",
    "# individual parameters from the headers \n",
    "xmin = xdata[0]\n",
    "dx   = xdata[1]\n",
    "nx   = int(xdata[2])\n",
    "xmax = xmin + (nx-1)*dx #notice that this can be computed\n",
    "\n",
    "ymin = ydata[0]\n",
    "dy   = ydata[1]\n",
    "ny   = int(ydata[2])\n",
    "ymax = ymin + (ny-1)*dy #notice that this can be computed\n",
    "\n",
    "zmin = zdata[0]\n",
    "dz   = zdata[1]\n",
    "nz   = int(zdata[2])\n",
    "zmax = (-zmin) + (nz-1)*dz #notice that this can be computed\n",
    "\n",
    "\n",
    "print('Individual Header Data Parameters:')\n",
    "print(' xmin,dx,nx,xmax = %d,%d,%d,%d' %(xmin,dx,nx,xmax))\n",
    "print(' ymin,dy,ny,ymax = %d,%d,%d,%d' %(ymin,dy,ny,ymax))\n",
    "print(' zmin,dz,nz,zmax = %d,%d,%d,%d' %(zmin,dz,nz,zmax))\n"
   ]
  },
  {
   "cell_type": "markdown",
   "metadata": {},
   "source": [
    "### Step 6\n",
    "\n",
    "Plot a depth slice. NOTE: chose which property you want to see: 0=vp, 1=vs, 2=rho, 3=Q"
   ]
  },
  {
   "cell_type": "code",
   "execution_count": null,
   "metadata": {},
   "outputs": [],
   "source": [
    "import matplotlib.pyplot as plt\n",
    "from matplotlib.colors import Normalize\n",
    "\n",
    "depth = 100 # This is an INDEX! So, know your header data and its mapping to the model!\n",
    "iprop = 0\n",
    "\n",
    "# index order: p      x  y  z\n",
    "surf   = props[iprop, :, :, depth].transpose()\n",
    "print('surf.shape',surf.shape)\n",
    "\n",
    "# Get min max to normalize surface\n",
    "vp_min = np.min(surf[1])\n",
    "vp_max = np.max(surf[1])\n",
    "print('vp_min:',vp_min)\n",
    "print('vp_max:',vp_max)\n",
    "surf_norm = Normalize(vp_min,vp_max)\n",
    "\n",
    "# compute coordinates\n",
    "xc  = dx*np.arange(nx) + xmin\n",
    "yc  = dy*np.arange(ny) + ymin\n",
    "xyc = np.transpose([np.tile(xc, len(yc)), np.repeat(yc, len(xc))])\n",
    "\n",
    "#Plot\n",
    "fig, ax = plt.subplots(1,figsize=(8,8))\n",
    "sc = ax.scatter(xyc[:,0],xyc[:,1],s=1,c=surf.flatten(),cmap=plt.cm.jet,norm=surf_norm)\n",
    "ax.set_title('Full NAM Model Surface (z=0)')\n",
    "fig.colorbar(sc)\n",
    "plt.show()\n"
   ]
  },
  {
   "cell_type": "markdown",
   "metadata": {},
   "source": [
    "### Step 7\n",
    "\n",
    "See the \"Using_GriddedModel3D.ipynb\" notebook.  This notebook shows how the model can be manipulated or processed such as smoothing it and slicing it."
   ]
  },
  {
   "cell_type": "code",
   "execution_count": null,
   "metadata": {},
   "outputs": [],
   "source": []
  }
 ],
 "metadata": {
  "kernelspec": {
   "display_name": "Python 3",
   "language": "python",
   "name": "python3"
  },
  "language_info": {
   "codemirror_mode": {
    "name": "ipython",
    "version": 3
   },
   "file_extension": ".py",
   "mimetype": "text/x-python",
   "name": "python",
   "nbconvert_exporter": "python",
   "pygments_lexer": "ipython3",
   "version": "3.8.8"
  }
 },
 "nbformat": 4,
 "nbformat_minor": 4
}
