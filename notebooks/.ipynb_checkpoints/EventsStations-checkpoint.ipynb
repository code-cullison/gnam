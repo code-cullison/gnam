{
 "cells": [
  {
   "cell_type": "markdown",
   "metadata": {},
   "source": [
    "### G-Stations and G-Events Classes"
   ]
  },
  {
   "cell_type": "code",
   "execution_count": null,
   "metadata": {},
   "outputs": [],
   "source": [
    "from gnam.events.gevents import gevents as gevents\n",
    "from gnam.model.bbox import bbox as bb\n",
    "import pickle\n",
    "\n",
    "f = open('./model_bbox.pickle', 'rb')\n",
    "gf_bbox = pickle.load(f)\n",
    "f.close()\n",
    "print('bbox after pickle :\\n',gf_bbox)\n",
    "\n",
    "enorth = gevents(3.2)\n",
    "print('enorth:\\n',enorth)\n",
    "\n",
    "ncat = enorth.getIncCatalog()\n",
    "n0 = ncat[0]\n",
    "evnt_lon = ncat[0].origins[0].longitude\n",
    "evnt_lat = ncat[0].origins[0].latitude\n",
    "print()\n",
    "print('Event-0 lat,lon = %3.4f,%3.4f:\\n' %(evnt_lat,evnt_lon))"
   ]
  },
  {
   "cell_type": "markdown",
   "metadata": {},
   "source": [
    "### PyProj Lat/Lon Conversions"
   ]
  },
  {
   "cell_type": "code",
   "execution_count": null,
   "metadata": {},
   "outputs": [],
   "source": [
    "from pyproj import Proj, transform\n",
    "\n",
    "#lat = 53.283266 #picked form google maps just above Schildmeer\n",
    "#lon = 6.813186  #picked form google maps just above Schildmeer\n",
    "lat = evnt_lat\n",
    "lon = evnt_lon\n",
    "\n",
    "lat_lon_proj= Proj('epsg:4326')\n",
    "nl_proj = Proj('epsg:28992')\n",
    "\n",
    "x,y = transform(lat_lon_proj,nl_proj,lat,lon)\n",
    "print(x,y)\n"
   ]
  },
  {
   "cell_type": "code",
   "execution_count": null,
   "metadata": {},
   "outputs": [],
   "source": [
    "import shapefile as sf\n",
    "\n",
    "mysf = sf.Reader('FieldShapeFile/Groningen_field')\n",
    "print('mysf:',mysf)\n",
    "print('mysf.shapes():',mysf.shapes())\n",
    "s = mysf.shape(0)"
   ]
  },
  {
   "cell_type": "code",
   "execution_count": null,
   "metadata": {},
   "outputs": [],
   "source": [
    "import numpy as np\n",
    "import pandas as pd\n",
    "\n",
    "# read file\n",
    "df = pd.io.parsers.read_csv(\"Gloc.csv\",sep=\",\",index_col=0)\n",
    "print(df)\n",
    "print()\n",
    "\n",
    "# remove Lat and Lon and surf elevation\n",
    "df = df.drop(columns=['Latitude [deg]', 'Longitude [deg]', 'Surface elevation [m]'])\n",
    "print('Dropped Lat, Lon, Surf')\n",
    "print(df)\n",
    "print()\n",
    "\n",
    "# remove receivers unless depth is 200 meters\n",
    "df = df[df['Depth below surface [deg]'] > 100 ]\n",
    "print('Remove Shallow')\n",
    "print(df)\n",
    "print()\n",
    "\n",
    "# drop this column\n",
    "df = df.drop(columns=['Depth below surface [deg]'])\n",
    "print('Dropped Depth')\n",
    "print(df[:10])\n",
    "print()\n",
    "\n",
    "#get rec_x\n",
    "rec_x = df[['Rijksdriehoek X [m]']].to_numpy().astype(np.float32)\n",
    "#reshape to vector of only one dim\n",
    "rec_x = rec_x.reshape(rec_x.shape[0])\n",
    "print()\n",
    "\n",
    "#get rec_y\n",
    "rec_y = df[['Rijksdriehoek Y [m]']].to_numpy().astype(np.float32)\n",
    "#reshape to vector of only one dim\n",
    "rec_y = rec_y.reshape(rec_y.shape[0])\n",
    "print()"
   ]
  },
  {
   "cell_type": "code",
   "execution_count": null,
   "metadata": {},
   "outputs": [],
   "source": [
    "import numpy as np\n",
    "import matplotlib.pyplot as plt \n",
    "\n",
    "mypoints = np.asarray(s.points)\n",
    "print(mypoints)\n",
    "\n",
    "fig, ax = plt.subplots(1,figsize=(8,8))\n",
    "ax.scatter(x,y,s=80,c='red',marker='*',zorder=1)\n",
    "ax.scatter(rec_x,rec_y,s=50,c='black',marker='v',zorder=1)\n",
    "ax.scatter(mypoints[:,0],mypoints[:,1],s=1,c='black',zorder=2)\n",
    "ax.plot(gf_bbox.getCLoop()[:,0],gf_bbox.getCLoop()[:,1],c='green',zorder=3)\n",
    "ax.set_title('Field Shape')\n",
    "plt.show()"
   ]
  },
  {
   "cell_type": "code",
   "execution_count": null,
   "metadata": {},
   "outputs": [],
   "source": [
    "lat_lon_proj= Proj('epsg:4326')\n",
    "nl_proj = Proj('epsg:28992')\n",
    "\n",
    "print(len(ncat))\n",
    "\n",
    "e_xy = np.zeros((len(ncat),2),dtype=np.float32)\n",
    "e_dic = {}\n",
    "\n",
    "for ie in range(len(ncat)):\n",
    "    e_lon = ncat[ie].origins[0].longitude\n",
    "    e_lat = ncat[ie].origins[0].latitude\n",
    "    ex,ey = transform(lat_lon_proj,nl_proj,e_lat,e_lon)\n",
    "    e_xy[ie,0] = ex\n",
    "    e_xy[ie,1] = ey\n",
    "    \n",
    "    if str(ie) not in e_dic.keys():\n",
    "        e_dic[str(ie)] = (ex,ey)\n",
    "    \n",
    "\n",
    "print(e_xy.shape)\n",
    "print(e_dic)\n",
    "    \n",
    "fig, ax = plt.subplots(1,figsize=(8,8))\n",
    "ax.scatter(e_xy[:,0],e_xy[:,1],s=80,c='red',marker='*',zorder=1)\n",
    "ax.scatter(rec_x,rec_y,s=50,c='black',marker='v',zorder=1)\n",
    "ax.scatter(mypoints[:,0],mypoints[:,1],s=1,c='black',zorder=2)\n",
    "ax.plot(gf_bbox.getCLoop()[:,0],gf_bbox.getCLoop()[:,1],c='green',zorder=3)\n",
    "ax.set_title('Field Shape')\n",
    "plt.show()\n",
    "    "
   ]
  },
  {
   "cell_type": "code",
   "execution_count": null,
   "metadata": {},
   "outputs": [],
   "source": [
    "i_evnt, o_evnt = gf_bbox.separateByInOut(e_xy[:,0],e_xy[:,1])\n",
    "i_recs, o_recs = gf_bbox.separateByInOut(rec_x,rec_y)\n",
    "\n",
    "print(len(i_evnt))\n",
    "print(e_dic)\n",
    "\n",
    "fig, ax = plt.subplots(1,figsize=(8,8))\n",
    "ax.scatter(i_evnt[:,0],i_evnt[:,1],s=80,c='red',marker='*',zorder=1)\n",
    "ax.scatter(o_recs[:,0],o_recs[:,1],s=50,c='yellow',marker='x',zorder=1)\n",
    "ax.scatter(i_recs[:,0],i_recs[:,1],s=50,c='blue',marker='v',zorder=1)\n",
    "ax.scatter(mypoints[:,0],mypoints[:,1],s=1,c='black',zorder=2)\n",
    "ax.plot(gf_bbox.getCLoop()[:,0],gf_bbox.getCLoop()[:,1],c='green',zorder=3)\n",
    "ax.set_title('Field Shape')\n",
    "plt.show()"
   ]
  },
  {
   "cell_type": "code",
   "execution_count": null,
   "metadata": {},
   "outputs": [],
   "source": [
    "bb_enorth = gevents(2.0,gf_bbox)\n",
    "\n",
    "i_bb_evnt = bb_enorth.getIncCoords()\n",
    "o_bb_evnt = bb_enorth.getExcCoords()\n",
    "all_bb_evnt = bb_enorth.getOrigCoords()\n",
    "\n",
    "fig, ax = plt.subplots(1,figsize=(8,8))\n",
    "ax.scatter(i_bb_evnt[:,0],i_bb_evnt[:,1],s=80,c='red',marker='*',zorder=2)\n",
    "#ax.scatter(o_bb_evnt[:,0],o_bb_evnt[:,1],s=80,c='yellow',marker='*',zorder=2)\n",
    "#ax.scatter(all_bb_evnt[:,0],all_bb_evnt[:,1],s=80,c='yellow',marker='*',zorder=1)\n",
    "ax.scatter(o_recs[:,0],o_recs[:,1],s=50,c='yellow',marker='x',zorder=2)\n",
    "ax.scatter(i_recs[:,0],i_recs[:,1],s=50,c='blue',marker='v',zorder=2)\n",
    "ax.scatter(mypoints[:,0],mypoints[:,1],s=1,c='black',zorder=0)\n",
    "ax.plot(gf_bbox.getCLoop()[:,0],gf_bbox.getCLoop()[:,1],c='green',zorder=0)\n",
    "ax.set_title('Field Shape')\n",
    "plt.show()\n"
   ]
  },
  {
   "cell_type": "code",
   "execution_count": null,
   "metadata": {},
   "outputs": [],
   "source": [
    "\n"
   ]
  }
 ],
 "metadata": {
  "kernelspec": {
   "display_name": "Python 3",
   "language": "python",
   "name": "python3"
  },
  "language_info": {
   "codemirror_mode": {
    "name": "ipython",
    "version": 3
   },
   "file_extension": ".py",
   "mimetype": "text/x-python",
   "name": "python",
   "nbconvert_exporter": "python",
   "pygments_lexer": "ipython3",
   "version": "3.7.3"
  },
  "varInspector": {
   "cols": {
    "lenName": 16,
    "lenType": 16,
    "lenVar": 40
   },
   "kernels_config": {
    "python": {
     "delete_cmd_postfix": "",
     "delete_cmd_prefix": "del ",
     "library": "var_list.py",
     "varRefreshCmd": "print(var_dic_list())"
    },
    "r": {
     "delete_cmd_postfix": ") ",
     "delete_cmd_prefix": "rm(",
     "library": "var_list.r",
     "varRefreshCmd": "cat(var_dic_list()) "
    }
   },
   "types_to_exclude": [
    "module",
    "function",
    "builtin_function_or_method",
    "instance",
    "_Feature"
   ],
   "window_display": false
  }
 },
 "nbformat": 4,
 "nbformat_minor": 2
}
