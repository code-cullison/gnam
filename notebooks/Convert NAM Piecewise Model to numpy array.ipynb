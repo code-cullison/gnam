{
 "cells": [
  {
   "cell_type": "markdown",
   "metadata": {},
   "source": [
    "## Generate Subsurface models in 3D*4prop array"
   ]
  },
  {
   "cell_type": "code",
   "execution_count": null,
   "metadata": {},
   "outputs": [],
   "source": [
    "from gnam.model.nammodel import nammodel as nam\n",
    "\n",
    "fqn_vo_map   = './data/Vo_maps.txt'\n",
    "fqn_horizons = './data/horizons.txt'\n",
    "nam_model = nam(fqn_vo_map,fqn_horizons)\n",
    "\n",
    "dz = 10\n",
    "maxDepth = 6000\n",
    "nam_data = nam_model.computeGriddedModel3D(dz,maxDepth)\n",
    "nam_props = nam_data[0]\n",
    "print('Model.shape:',nam_props.shape)\n"
   ]
  },
  {
   "cell_type": "markdown",
   "metadata": {},
   "source": [
    "## Compress and Pickle numpy array of NAM model"
   ]
  },
  {
   "cell_type": "code",
   "execution_count": null,
   "metadata": {},
   "outputs": [],
   "source": [
    "import numpy as np\n",
    "#ofqn = './z' + str(dz) + 'm_nam_model_vp_vs_rho_Q_props.npz'\n",
    "ofqn = './z' + str(dz) + 'm_nam_model_vp_vs_rho_Q_props_Fokker.npz'\n",
    "xdata = nam_data[1]\n",
    "ydata = nam_data[2]\n",
    "zdata = nam_data[3]\n",
    "print(ofqn)\n",
    "np.savez_compressed(ofqn,props=nam_props,xd=xdata,yd=ydata,zd=zdata)"
   ]
  },
  {
   "cell_type": "code",
   "execution_count": null,
   "metadata": {},
   "outputs": [],
   "source": [
    "\n"
   ]
  }
 ],
 "metadata": {
  "kernelspec": {
   "display_name": "Python 3",
   "language": "python",
   "name": "python3"
  },
  "language_info": {
   "codemirror_mode": {
    "name": "ipython",
    "version": 3
   },
   "file_extension": ".py",
   "mimetype": "text/x-python",
   "name": "python",
   "nbconvert_exporter": "python",
   "pygments_lexer": "ipython3",
   "version": "3.6.10"
  }
 },
 "nbformat": 4,
 "nbformat_minor": 4
}
