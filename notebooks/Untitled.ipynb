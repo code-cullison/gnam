{
 "cells": [
  {
   "cell_type": "markdown",
   "metadata": {},
   "source": [
    "## Slicing NAM model for SPECFEM3D_Cart\n",
    "\n",
    "---"
   ]
  },
  {
   "cell_type": "code",
   "execution_count": 1,
   "metadata": {},
   "outputs": [],
   "source": [
    "from sys import argv\n",
    "import numpy as np\n",
    "import pandas as pd\n",
    "import scipy as sp\n",
    "from scipy import ndimage\n",
    "import matplotlib.pyplot as plt \n",
    "from matplotlib.colors import Normalize\n",
    "import shapefile as sf\n",
    "from scipy.interpolate import RegularGridInterpolator\n",
    "from gnam.model.gridmod3d import gridmod3d as gm"
   ]
  },
  {
   "cell_type": "markdown",
   "metadata": {},
   "source": [
    "### Load numpy array from NAM model"
   ]
  },
  {
   "cell_type": "code",
   "execution_count": 3,
   "metadata": {},
   "outputs": [
    {
     "name": "stdout",
     "output_type": "stream",
     "text": [
      "xd:\n",
      " [2.074625e+05 5.000000e+01 1.450000e+03]\n",
      "yd:\n",
      " [5.559625e+05 5.000000e+01 1.198000e+03]\n",
      "zd:\n",
      " [  0.  10. 601.]\n"
     ]
    }
   ],
   "source": [
    "#this is a pickled dictionary with 4D ndarray, and 1D meta data arrays\n",
    "ifilename = './rect_gron_model_full_z10_props.npz'\n",
    "\n",
    "#Unpickle\n",
    "data = np.load(ifilename)\n",
    "props = data['props'] #4D ndarray\n",
    "\n",
    "#meta data arrays\n",
    "xdata = data['xd'] \n",
    "ydata = data['yd']\n",
    "zdata = data['zd']\n",
    "\n",
    "print('xd:\\n',xdata)\n",
    "print('yd:\\n',ydata)\n",
    "print('zd:\\n',zdata)\n",
    "\n",
    "# Setup Coordinate related vars\n",
    "xmin = xdata[0]\n",
    "dx   = xdata[1]\n",
    "nx   = int(xdata[2])\n",
    "xmax = xmin + (nx-1)*dx\n",
    "\n",
    "ymin = ydata[0]\n",
    "dy   = ydata[1]\n",
    "ny   = int(ydata[2])\n",
    "ymax = ymin + (ny-1)*dy\n",
    "\n",
    "zmin = zdata[0]\n",
    "dz   = zdata[1]\n",
    "nz   = int(zdata[2])\n",
    "zmax = (-zmin) + (nz-1)*dz"
   ]
  },
  {
   "cell_type": "markdown",
   "metadata": {},
   "source": [
    "### Create Gridded Model"
   ]
  },
  {
   "cell_type": "code",
   "execution_count": 4,
   "metadata": {},
   "outputs": [
    {
     "name": "stdout",
     "output_type": "stream",
     "text": [
      "gm3d.shape: (3, 1450, 1198, 601)\n"
     ]
    }
   ],
   "source": [
    "nsub_props = props.shape[0]\n",
    "axes_order = {'X':0,'Y':1,'Z':2} #this dict keeps track of axes order\n",
    "gm3d = gm(props,nsub_props,axes_order,(nx,ny,nz),(dx,dy,dz),(xmin,ymin,zmin))\n",
    "print('gm3d.shape:',gm3d.shape)"
   ]
  },
  {
   "cell_type": "markdown",
   "metadata": {},
   "source": [
    "### Subsample model to reduce memory foot print"
   ]
  },
  {
   "cell_type": "code",
   "execution_count": 5,
   "metadata": {},
   "outputs": [
    {
     "name": "stdout",
     "output_type": "stream",
     "text": [
      "gm3d.shape: (3, 725, 599, 61)\n"
     ]
    }
   ],
   "source": [
    "gm3d.subsample(2,2,10)\n",
    "print('gm3d.shape:',gm3d.shape)"
   ]
  },
  {
   "cell_type": "markdown",
   "metadata": {},
   "source": [
    "### Setup coordinate arryas for plotting and slicing"
   ]
  },
  {
   "cell_type": "code",
   "execution_count": 7,
   "metadata": {},
   "outputs": [
    {
     "name": "stdout",
     "output_type": "stream",
     "text": [
      "xc.shape:\n",
      " (725,)\n",
      "yc.shape:\n",
      " (599,)\n",
      "zc.shape:\n",
      " (599,)\n",
      "rzc.shape:\n",
      " (599,)\n"
     ]
    }
   ],
   "source": [
    "xc = gm3d.getLocalCoordsPointsX() + xmin\n",
    "yc = gm3d.getLocalCoordsPointsY() + ymin\n",
    "zc = gm3d.getLocalCoordsPointsY() + zmin\n",
    "rzc = np.copy(-1*zc[::-1])\n",
    "\n",
    "print('xc.shape:\\n',xc.shape)\n",
    "print('yc.shape:\\n',yc.shape)\n",
    "print('zc.shape:\\n',zc.shape)\n",
    "print('rzc.shape:\\n',rzc.shape)"
   ]
  },
  {
   "cell_type": "code",
   "execution_count": null,
   "metadata": {},
   "outputs": [],
   "source": []
  }
 ],
 "metadata": {
  "kernelspec": {
   "display_name": "Python 3",
   "language": "python",
   "name": "python3"
  },
  "language_info": {
   "codemirror_mode": {
    "name": "ipython",
    "version": 3
   },
   "file_extension": ".py",
   "mimetype": "text/x-python",
   "name": "python",
   "nbconvert_exporter": "python",
   "pygments_lexer": "ipython3",
   "version": "3.6.8"
  }
 },
 "nbformat": 4,
 "nbformat_minor": 4
}
