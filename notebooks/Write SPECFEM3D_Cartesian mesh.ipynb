{
 "cells": [
  {
   "cell_type": "markdown",
   "metadata": {},
   "source": [
    "### Uncompress sliced volume"
   ]
  },
  {
   "cell_type": "code",
   "execution_count": 4,
   "metadata": {},
   "outputs": [
    {
     "name": "stdout",
     "output_type": "stream",
     "text": [
      "xc: [    0.   200.   400.   600.   800.  1000.  1200.  1400.  1600.  1800.\n",
      "  2000.  2200.  2400.  2600.  2800.  3000.  3200.  3400.  3600.  3800.\n",
      "  4000.  4200.  4400.  4600.  4800.  5000.  5200.  5400.  5600.  5800.\n",
      "  6000.  6200.  6400.  6600.  6800.  7000.  7200.  7400.  7600.  7800.\n",
      "  8000.  8200.  8400.  8600.  8800.  9000.  9200.  9400.  9600.  9800.\n",
      " 10000. 10200. 10400. 10600. 10800. 11000. 11200. 11400. 11600. 11800.\n",
      " 12000. 12200. 12400. 12600. 12800. 13000. 13200. 13400. 13600. 13800.\n",
      " 14000. 14200. 14400. 14600. 14800. 15000. 15200. 15400. 15600. 15800.\n",
      " 16000. 16200. 16400. 16600. 16800. 17000. 17200. 17400. 17600. 17800.\n",
      " 18000. 18200. 18400. 18600. 18800. 19000. 19200. 19400. 19600. 19800.\n",
      " 20000. 20200. 20400. 20600. 20800. 21000. 21200. 21400. 21600. 21800.\n",
      " 22000. 22200. 22400. 22600. 22800. 23000. 23200. 23400. 23600. 23800.\n",
      " 24000. 24200. 24400. 24600. 24800. 25000. 25200. 25400. 25600. 25800.\n",
      " 26000. 26200. 26400. 26600. 26800. 27000. 27200. 27400. 27600. 27800.\n",
      " 28000. 28200. 28400. 28600. 28800. 29000.]\n",
      "yc: [    0.   200.   400.   600.   800.  1000.  1200.  1400.  1600.  1800.\n",
      "  2000.  2200.  2400.  2600.  2800.  3000.  3200.  3400.  3600.  3800.\n",
      "  4000.  4200.  4400.  4600.  4800.  5000.  5200.  5400.  5600.  5800.\n",
      "  6000.  6200.  6400.  6600.  6800.  7000.  7200.  7400.  7600.  7800.\n",
      "  8000.  8200.  8400.  8600.  8800.  9000.  9200.  9400.  9600.  9800.\n",
      " 10000. 10200. 10400. 10600. 10800. 11000. 11200. 11400. 11600. 11800.\n",
      " 12000. 12200. 12400. 12600. 12800. 13000. 13200. 13400. 13600. 13800.\n",
      " 14000. 14200. 14400. 14600. 14800. 15000. 15200. 15400. 15600. 15800.\n",
      " 16000. 16200. 16400. 16600. 16800. 17000. 17200. 17400. 17600. 17800.\n",
      " 18000. 18200. 18400. 18600. 18800. 19000. 19200. 19400. 19600. 19800.\n",
      " 20000. 20200. 20400. 20600. 20800. 21000. 21200. 21400. 21600. 21800.\n",
      " 22000. 22200. 22400. 22600. 22800. 23000. 23200. 23400. 23600. 23800.\n",
      " 24000. 24200. 24400. 24600. 24800. 25000. 25200. 25400. 25600. 25800.\n",
      " 26000. 26200. 26400. 26600. 26800. 27000. 27200. 27400. 27600. 27800.\n",
      " 28000. 28200. 28400. 28600. 28800. 29000. 29200. 29400. 29600. 29800.\n",
      " 30000. 30200. 30400. 30600. 30800. 31000. 31200. 31400. 31600. 31800.\n",
      " 32000. 32200. 32400. 32600. 32800. 33000. 33200. 33400. 33600. 33800.\n",
      " 34000. 34200. 34400. 34600. 34800. 35000. 35200. 35400. 35600. 35800.\n",
      " 36000. 36200. 36400. 36600. 36800. 37000. 37200. 37400. 37600. 37800.\n",
      " 38000. 38200. 38400.]\n",
      "slice_props.shape: (4, 873518)\n",
      "nx: 146\n",
      "ny: 193\n",
      "nz: 31\n",
      "sprops.shape: (4, 146, 193, 31)\n"
     ]
    }
   ],
   "source": [
    "import numpy as np\n",
    "\n",
    "ifilename = './rect_rot_subsamp_smooth_z200.0m_nam_model_vp_vs_rho_Q_props.npz'\n",
    "\n",
    "#Unpickle\n",
    "data = np.load(ifilename)\n",
    "slice_props = data['props'] #4D ndarray\n",
    "xc=data['xc']\n",
    "yc=data['yc']\n",
    "rsxy=data['rxyc']\n",
    "\n",
    "print('xc:',xc)\n",
    "print('yc:',yc)\n",
    "\n",
    "print('slice_props.shape:',slice_props.shape)\n",
    "\n",
    "nx = int(len(xc))\n",
    "ny = int(len(yc))\n",
    "nz = int(slice_props.shape[1]/(nx*ny))\n",
    "print('nx:',nx)\n",
    "print('ny:',ny)\n",
    "print('nz:',nz)\n",
    "\n",
    "assert nx*ny*nz == slice_props.shape[1]\n",
    "\n",
    "sprops = np.copy(slice_props.reshape((4,nz, len(yc), len(xc))),order='C')\n",
    "sprops = sprops.transpose(0,3,2,1)\n",
    "print('sprops.shape:',sprops.shape)"
   ]
  },
  {
   "cell_type": "code",
   "execution_count": null,
   "metadata": {},
   "outputs": [],
   "source": [
    "from gnam.misc.GMUtils import GMUtils\n",
    "\n",
    "xc = data['xd']\n",
    "yc = data['yd']\n",
    "zc = np.copy(-1*data['zd'][::-1])\n",
    "\n",
    "xdata = np.zeros((3),dtype=np.float32)\n",
    "ydata = np.zeros((3),dtype=np.float32)\n",
    "zdata = np.zeros((3),dtype=np.float32)\n",
    "\n",
    "xdata[0] = xc[0]\n",
    "xdata[1] = xc[1] - xc[0]\n",
    "xdata[2] = len(xc)\n",
    "\n",
    "ydata[0] = yc[0]\n",
    "ydata[1] = yc[1] - yc[0]\n",
    "ydata[2] = len(yc)\n",
    "\n",
    "zdata[0] = zc[0]\n",
    "zdata[1] = zc[1] - zc[0]\n",
    "zdata[2] = len(zc)\n",
    "\n",
    "print('xd:\\n',xdata)\n",
    "print('yd:\\n',ydata)\n",
    "print('zd:\\n',zdata)\n",
    "\n",
    "\n",
    "'''\n",
    "'''\n",
    "spec_data = {'props': props,'xd': xdata,'yd': ydata,'zd': zdata}\n",
    "gmu = GMUtils()\n",
    "gmu.writeSpecfem3DMesh('./MESH-default', spec_data)"
   ]
  }
 ],
 "metadata": {
  "kernelspec": {
   "display_name": "Python 3",
   "language": "python",
   "name": "python3"
  },
  "language_info": {
   "codemirror_mode": {
    "name": "ipython",
    "version": 3
   },
   "file_extension": ".py",
   "mimetype": "text/x-python",
   "name": "python",
   "nbconvert_exporter": "python",
   "pygments_lexer": "ipython3",
   "version": "3.6.10"
  }
 },
 "nbformat": 4,
 "nbformat_minor": 4
}
