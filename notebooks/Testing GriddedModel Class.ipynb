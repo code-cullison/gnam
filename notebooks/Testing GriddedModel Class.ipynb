{
 "cells": [
  {
   "cell_type": "markdown",
   "metadata": {},
   "source": [
    "### Imports"
   ]
  },
  {
   "cell_type": "code",
   "execution_count": null,
   "metadata": {},
   "outputs": [],
   "source": [
    "from sys import argv\n",
    "import numpy as np\n",
    "import pandas as pd\n",
    "import scipy as sp\n",
    "from scipy import ndimage\n",
    "import matplotlib.pyplot as plt \n",
    "from matplotlib.colors import Normalize\n",
    "import shapefile as sf\n",
    "from scipy.interpolate import RegularGridInterpolator\n",
    "from gnam.model.gridmod3d import gridmod3d as gm\n",
    "from gnam.model.bbox import bbox as bb\n",
    "from shapely.geometry import Point, Polygon"
   ]
  },
  {
   "cell_type": "markdown",
   "metadata": {},
   "source": [
    "### Unpickle Smooth Subsampled Model"
   ]
  },
  {
   "cell_type": "code",
   "execution_count": null,
   "metadata": {},
   "outputs": [],
   "source": [
    "#this is a pickled dictionary with 4D ndarray, and 1D meta data arrays\n",
    "#ifilename = './subsamp_smooth_z10.0m_nam_model_vp_vs_rho_Q_props.npz'\n",
    "ifilename = './subsamp_smooth_z200m_nam_model_vp_vs_rho_Q_props.npz'\n",
    "\n",
    "#Unpickle\n",
    "data = np.load(ifilename)\n",
    "props = data['props'] #4D ndarray\n",
    "\n",
    "#meta data arrays\n",
    "xdata = data['xd'] \n",
    "ydata = data['yd']\n",
    "zdata = data['zd']\n",
    "\n",
    "print('xd:\\n',xdata)\n",
    "print('yd:\\n',ydata)\n",
    "print('zd:\\n',zdata)\n",
    "\n",
    "# Setup Coordinate related vars\n",
    "xmin = xdata[0]\n",
    "dx   = xdata[1]\n",
    "nx   = int(xdata[2])\n",
    "xmax = xmin + (nx-1)*dx\n",
    "\n",
    "ymin = ydata[0]\n",
    "dy   = ydata[1]\n",
    "ny   = int(ydata[2])\n",
    "ymax = ymin + (ny-1)*dy\n",
    "\n",
    "zmin = zdata[0]\n",
    "dz   = zdata[1]\n",
    "nz   = int(zdata[2])\n",
    "zmax = (-zmin) + (nz-1)*dz\n",
    "\n",
    "nsub_props = props.shape[0]\n",
    "axes_order = {'X':0,'Y':1,'Z':2} #this dict keeps track of axes order\n",
    "gm3d = gm(props,nsub_props,axes_order,(nx,ny,nz),(dx,dy,dz),(xmin,ymin,zmin))\n",
    "print('gm3d.shape:',gm3d.shape)\n",
    "\n",
    "#free up some memory\n",
    "del props "
   ]
  },
  {
   "cell_type": "markdown",
   "metadata": {},
   "source": [
    "### Confirm axes order"
   ]
  },
  {
   "cell_type": "code",
   "execution_count": null,
   "metadata": {},
   "outputs": [],
   "source": [
    "gm3d.changeAxOrder({'X':2,'Y':1,'Z':0})\n",
    "print(gm3d.shape)\n",
    "gm3d.changeAxOrder({'X':0,'Y':1,'Z':2})\n",
    "print(gm3d.shape)\n",
    "gm3d.changeAxOrder({'X':1,'Y':2,'Z':0})\n",
    "print(gm3d.shape)\n",
    "gm3d.changeAxOrder({'X':0,'Y':1,'Z':2})\n",
    "print(gm3d.shape)"
   ]
  },
  {
   "cell_type": "markdown",
   "metadata": {},
   "source": [
    "### Setup all coordinates (also get bbox, etc...)"
   ]
  },
  {
   "cell_type": "code",
   "execution_count": null,
   "metadata": {},
   "outputs": [],
   "source": [
    "mysf = sf.Reader('FieldShapeFile/Groningen_field')\n",
    "print('mysf:',mysf)\n",
    "print('mysf.shapes():',mysf.shapes())\n",
    "s = mysf.shape(0)\n",
    "\n",
    "sub_dxyz = 200\n",
    "\n",
    "mybbox = s.bbox #this will be used for slicing (look further down)\n",
    "print('mybbox:',mybbox)\n",
    "\n",
    "#shrink and create y coordinates for slicing box\n",
    "vl = np.array([0,0.87*(mybbox[3]-mybbox[1])])\n",
    "dvl = ((0.87*(mybbox[3]-mybbox[1]))**2)**0.5\n",
    "nvl = dvl//sub_dxyz + 1\n",
    "y = np.arange(nvl)*sub_dxyz\n",
    "print('nvl:',nvl)\n",
    "\n",
    "#shrink and create x coordinates for slicing box\n",
    "vb = np.array([0.85*(mybbox[2]-mybbox[0]),0])\n",
    "dvb = ((0.85*(mybbox[2]-mybbox[0]))**2)**0.5\n",
    "nvb = dvb//sub_dxyz + 1\n",
    "x = np.arange(nvb)*sub_dxyz\n",
    "print('nvb:',nvb)\n",
    "\n",
    "#create set of xy coordinates for slicing box\n",
    "xy = np.transpose([np.tile(x, len(y)), np.repeat(y, len(x))])\n",
    "print('xy.shape:',xy.shape)\n",
    "\n",
    "#setup rotation matrices\n",
    "degree = 30\n",
    "theta = degree*np.pi/180\n",
    "rm = np.array([[np.cos(theta),-np.sin(theta)],[np.sin(theta),np.cos(theta)]])\n",
    "\n",
    "#rotate coordinates\n",
    "for i in range(len(xy[:,0])):\n",
    "    xy[i,:] = rm.dot(xy[i,:])\n",
    "\n",
    "#get translated coordinates\n",
    "xshift = 12600\n",
    "yshift = -2600\n",
    "rxy = np.copy(xy)\n",
    "rxy[:,0] += mybbox[0] + xshift\n",
    "rxy[:,1] += mybbox[1] + yshift\n",
    "print('rxy.shape:',rxy.shape)"
   ]
  },
  {
   "cell_type": "markdown",
   "metadata": {},
   "source": [
    "### Slice Volume"
   ]
  },
  {
   "cell_type": "code",
   "execution_count": null,
   "metadata": {},
   "outputs": [],
   "source": [
    "import time\n",
    "\n",
    "#get sliced subsurface volume\n",
    "start = time.time()\n",
    "slice_props = gm3d.sliceVolumeValsFromCoordsXY(x,y,rxy,local=False)\n",
    "end = time.time()\n",
    "\n",
    "print('runtime:', end - start)"
   ]
  },
  {
   "cell_type": "markdown",
   "metadata": {},
   "source": [
    "### Pickle the interpolated model"
   ]
  },
  {
   "cell_type": "code",
   "execution_count": null,
   "metadata": {},
   "outputs": [],
   "source": [
    "import numpy as np\n",
    "orrssslfqn = './rect_rot_subsamp_smooth_z' + str(dz) + 'm_nam_model_vp_vs_rho_Q_props.npz'\n",
    "print(orrssslfqn)\n",
    "np.savez_compressed(orrssslfqn,props=slice_props,xc=x,yc=y,rxyc=rxy)"
   ]
  },
  {
   "cell_type": "markdown",
   "metadata": {},
   "source": [
    "### Unpickle the sliced volume if need be"
   ]
  },
  {
   "cell_type": "code",
   "execution_count": null,
   "metadata": {},
   "outputs": [],
   "source": [
    "ifilename = './rect_rot_subsamp_smooth_z200.0m_nam_model_vp_vs_rho_Q_props.npz'\n",
    "\n",
    "#Unpickle\n",
    "data = np.load(ifilename)\n",
    "slice_props = data['props'] #4D ndarray\n",
    "xc=data['xc']\n",
    "yc=data['yc']\n",
    "rxy=data['rxyc']"
   ]
  },
  {
   "cell_type": "code",
   "execution_count": null,
   "metadata": {},
   "outputs": [],
   "source": [
    "print('slice_props.shape',slice_props.shape)"
   ]
  },
  {
   "cell_type": "code",
   "execution_count": null,
   "metadata": {},
   "outputs": [],
   "source": [
    "sprops = np.copy(slice_props.reshape((4,31, 193, 146)),order='C')\n",
    "print('sprops.shape:',sprops.shape)\n",
    "print('gm3d.shape:',gm3d.shape)"
   ]
  },
  {
   "cell_type": "code",
   "execution_count": null,
   "metadata": {},
   "outputs": [],
   "source": [
    "rdep_surf = sprops[0,10,:,:].copy()\n",
    "print(rdep_surf.shape)\n",
    "print('nxy:',rdep_surf.shape[0]*rdep_surf.shape[1])\n",
    "print('nrxy:', rxy.shape)\n",
    "\n",
    "# get new min max to normalize surface\n",
    "vp_min = np.min(rdep_surf)\n",
    "vp_max = np.max(rdep_surf)\n",
    "surf_norm = Normalize(vp_min,vp_max)\n",
    "\n",
    "xy = np.transpose([np.tile(xc, len(yc)), np.repeat(yc, len(xc))])\n",
    "print('xy.shape:',xy.shape)\n",
    "print('xy:',xy)\n",
    "\n",
    "fig, ax = plt.subplots(1,figsize=(6,6))\n",
    "ax.scatter(rxy[:,0],rxy[:,1],s=1,c=rdep_surf.flatten(),cmap=plt.cm.jet,norm=surf_norm,zorder=0)\n",
    "plt.show()"
   ]
  },
  {
   "cell_type": "code",
   "execution_count": null,
   "metadata": {},
   "outputs": [],
   "source": [
    "sub_surf = gm3d[0,10,:,:].copy()\n",
    "print(sub_surf.shape)\n",
    "print('nxy:',sub_surf.shape[0]*sub_surf.shape[1])\n",
    "print('nrxy:', rxy.shape)\n",
    "\n",
    "# get new min max to normalize surface\n",
    "vp_min = np.min(rdep_surf)\n",
    "vp_max = np.max(rdep_surf)\n",
    "surf_norm = Normalize(vp_min,vp_max)\n",
    "\n",
    "sxc = \n",
    "\n",
    "xy = np.transpose([np.tile(xc, len(yc)), np.repeat(yc, len(xc))])\n",
    "print('xy.shape:',xy.shape)\n",
    "\n",
    "fig, ax = plt.subplots(1,figsize=(6,6))\n",
    "ax.scatter(xy[:,0],xy[:,1],s=1,c=sub_surf.flatten(),cmap=plt.cm.jet,norm=surf_norm,zorder=0)\n",
    "plt.show()"
   ]
  },
  {
   "cell_type": "code",
   "execution_count": null,
   "metadata": {},
   "outputs": [],
   "source": [
    "sprops = sprops.transpose(0,3,2,1).copy()\n",
    "print('sprops.shape:',sprops.shape)"
   ]
  },
  {
   "cell_type": "code",
   "execution_count": null,
   "metadata": {},
   "outputs": [],
   "source": [
    "print(np.isfortran(sprops))"
   ]
  },
  {
   "cell_type": "code",
   "execution_count": null,
   "metadata": {},
   "outputs": [],
   "source": [
    "import\n",
    "write_vtk_gridded_model_3d(fqpname,props,xdata,ydata,zdata):"
   ]
  }
 ],
 "metadata": {
  "kernelspec": {
   "display_name": "Python 3",
   "language": "python",
   "name": "python3"
  },
  "language_info": {
   "codemirror_mode": {
    "name": "ipython",
    "version": 3
   },
   "file_extension": ".py",
   "mimetype": "text/x-python",
   "name": "python",
   "nbconvert_exporter": "python",
   "pygments_lexer": "ipython3",
   "version": "3.6.10"
  }
 },
 "nbformat": 4,
 "nbformat_minor": 4
}
