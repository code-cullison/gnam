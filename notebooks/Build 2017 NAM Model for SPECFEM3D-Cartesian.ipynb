{
 "cells": [
  {
   "cell_type": "markdown",
   "metadata": {},
   "source": [
    "### Load libraries"
   ]
  },
  {
   "cell_type": "code",
   "execution_count": null,
   "metadata": {},
   "outputs": [],
   "source": [
    "from sys import argv\n",
    "import numpy as np\n",
    "import pandas as pd\n",
    "import scipy as sp\n",
    "from scipy import ndimage\n",
    "import matplotlib.pyplot as plt \n",
    "from matplotlib.colors import Normalize\n",
    "import shapefile as sf\n",
    "from scipy.interpolate import RegularGridInterpolator\n",
    "from gnam.model.gridmod3d import gridmod3d as gm\n",
    "from gnam.model.bbox import bbox as bb\n",
    "from shapely.geometry import Point, Polygon"
   ]
  },
  {
   "cell_type": "markdown",
   "metadata": {},
   "source": [
    "### Read in previously computed smoothed model"
   ]
  },
  {
   "cell_type": "code",
   "execution_count": null,
   "metadata": {},
   "outputs": [],
   "source": [
    "#this is a pickled dictionary with 4D ndarray, and 1D meta data arrays\n",
    "ifilename = './smooth_z10m_nam_model_vp_vs_rho_Q_props.npz'\n",
    "\n",
    "#Unpickle\n",
    "data = np.load(ifilename)\n",
    "props = data['props'] #4D ndarray\n",
    "\n",
    "#meta data arrays\n",
    "xdata = data['xd'] \n",
    "ydata = data['yd']\n",
    "zdata = data['zd']\n",
    "\n",
    "print('xd:\\n',xdata)\n",
    "print('yd:\\n',ydata)\n",
    "print('zd:\\n',zdata)\n",
    "\n",
    "# Setup Coordinate related vars\n",
    "xmin = xdata[0]\n",
    "dx   = xdata[1]\n",
    "nx   = int(xdata[2])\n",
    "xmax = xmin + (nx-1)*dx\n",
    "\n",
    "ymin = ydata[0]\n",
    "dy   = ydata[1]\n",
    "ny   = int(ydata[2])\n",
    "ymax = ymin + (ny-1)*dy\n",
    "\n",
    "zmin = zdata[0]\n",
    "dz   = zdata[1]\n",
    "nz   = int(zdata[2])\n",
    "zmax = (-zmin) + (nz-1)*dz\n",
    "\n",
    "nsub_props = props.shape[0]\n",
    "axes_order = {'X':0,'Y':1,'Z':2} #this dict keeps track of axes order\n",
    "gm3d = gm(props,nsub_props,axes_order,(nx,ny,nz),(dx,dy,dz),(xmin,ymin,zmin))\n",
    "print('gm3d:\\n',gm3d)\n",
    "\n",
    "#free up some memory\n",
    "del props "
   ]
  },
  {
   "cell_type": "code",
   "execution_count": null,
   "metadata": {},
   "outputs": [],
   "source": [
    "print('gm3d:\\n',gm3d)"
   ]
  },
  {
   "cell_type": "markdown",
   "metadata": {},
   "source": [
    "### Plot a depth slice"
   ]
  },
  {
   "cell_type": "code",
   "execution_count": null,
   "metadata": {},
   "outputs": [],
   "source": [
    "hires_surf = gm3d[0,:,:,200].T\n",
    "print('hires_surf.shape:',hires_surf.shape)\n",
    "gxyc = gm3d.getGlobalCoordsPointsXY()\n",
    "#get min max to normalize surface\n",
    "hires_vp_min = np.min(hires_surf)\n",
    "hires_vp_max = np.max(hires_surf)\n",
    "print('vp_min:',hires_vp_min)\n",
    "print('vp_max:',hires_vp_max)\n",
    "hires_norm = Normalize(hires_vp_min,hires_vp_max)\n",
    "\n",
    "fig, ax = plt.subplots(1,figsize=(8,6))\n",
    "sc = ax.scatter(gxyc[:,0],gxyc[:,1],s=1,c=hires_surf.flatten(),cmap=plt.cm.jet,norm=hires_norm)\n",
    "ax.set_title('Full NAM Model Surface (z=0)')\n",
    "fig.colorbar(sc)\n",
    "plt.show()"
   ]
  },
  {
   "cell_type": "markdown",
   "metadata": {},
   "source": [
    "### Unpickle bounding box"
   ]
  },
  {
   "cell_type": "code",
   "execution_count": null,
   "metadata": {},
   "outputs": [],
   "source": [
    "import pickle\n",
    "\n",
    "f = open('./model_bbox.pickle', 'rb')\n",
    "dill_bbox = pickle.load(f)\n",
    "f.close()\n",
    "print('bbox after pickle :\\n',dill_bbox)"
   ]
  },
  {
   "cell_type": "markdown",
   "metadata": {},
   "source": [
    "### Plot bounding box on top of surface"
   ]
  },
  {
   "cell_type": "code",
   "execution_count": null,
   "metadata": {},
   "outputs": [],
   "source": [
    "\n",
    "fig, ax = plt.subplots(1,figsize=(8,6))\n",
    "sc = ax.scatter(gxyc[:,0],gxyc[:,1],s=1,c=hires_surf.flatten(),cmap=plt.cm.jet,norm=hires_norm,zorder=0)\n",
    "ax.plot(dill_bbox.getCLoop()[:,0],dill_bbox.getCLoop()[:,1],c='black',linestyle='dotted',zorder=4)\n",
    "ax.set_title('Full NAM Model Surface (z=0)')\n",
    "fig.colorbar(sc)\n",
    "plt.show()"
   ]
  },
  {
   "cell_type": "code",
   "execution_count": null,
   "metadata": {},
   "outputs": [],
   "source": [
    "test_slice = gm3d.slice_volume_by_bbox(dill_bbox)"
   ]
  },
  {
   "cell_type": "code",
   "execution_count": null,
   "metadata": {},
   "outputs": [],
   "source": []
  }
 ],
 "metadata": {
  "kernelspec": {
   "display_name": "Python 3",
   "language": "python",
   "name": "python3"
  },
  "language_info": {
   "codemirror_mode": {
    "name": "ipython",
    "version": 3
   },
   "file_extension": ".py",
   "mimetype": "text/x-python",
   "name": "python",
   "nbconvert_exporter": "python",
   "pygments_lexer": "ipython3",
   "version": "3.6.10"
  }
 },
 "nbformat": 4,
 "nbformat_minor": 4
}
