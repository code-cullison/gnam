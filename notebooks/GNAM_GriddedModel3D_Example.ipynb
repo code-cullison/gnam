{
 "cells": [
  {
   "cell_type": "markdown",
   "metadata": {},
   "source": [
    "## Slicing NAM model for SPECFEM3D_Cart\n",
    "\n",
    "---"
   ]
  },
  {
   "cell_type": "code",
   "execution_count": null,
   "metadata": {},
   "outputs": [],
   "source": [
    "from sys import argv\n",
    "import numpy as np\n",
    "import pandas as pd\n",
    "import scipy as sp\n",
    "from scipy import ndimage\n",
    "import matplotlib.pyplot as plt \n",
    "from matplotlib.colors import Normalize\n",
    "import shapefile as sf\n",
    "from scipy.interpolate import RegularGridInterpolator\n",
    "from gnam.model.gridmod3d import gridmod3d as gm\n",
    "from gnam.model.bbox import bbox as bb\n",
    "from shapely.geometry import Point, Polygon"
   ]
  },
  {
   "cell_type": "markdown",
   "metadata": {},
   "source": [
    "### Load numpy array from NAM model"
   ]
  },
  {
   "cell_type": "code",
   "execution_count": null,
   "metadata": {},
   "outputs": [],
   "source": [
    "#this is a pickled dictionary with 4D ndarray, and 1D meta data arrays\n",
    "#ifilename = './rect_gron_model_full_z10_props.npz'\n",
    "ifilename = './z10m_nam_model_vp_vs_rho_Q_props.npz'\n",
    "\n",
    "#Unpickle\n",
    "data = np.load(ifilename)\n",
    "props = data['props'] #4D ndarray\n",
    "\n",
    "#meta data arrays\n",
    "xdata = data['xd'] \n",
    "ydata = data['yd']\n",
    "zdata = data['zd']\n",
    "\n",
    "print('xd:\\n',xdata)\n",
    "print('yd:\\n',ydata)\n",
    "print('zd:\\n',zdata)\n",
    "\n",
    "# Setup Coordinate related vars\n",
    "xmin = xdata[0]\n",
    "dx   = xdata[1]\n",
    "nx   = int(xdata[2])\n",
    "xmax = xmin + (nx-1)*dx\n",
    "\n",
    "ymin = ydata[0]\n",
    "dy   = ydata[1]\n",
    "ny   = int(ydata[2])\n",
    "ymax = ymin + (ny-1)*dy\n",
    "\n",
    "zmin = zdata[0]\n",
    "dz   = zdata[1]\n",
    "nz   = int(zdata[2])\n",
    "zmax = (-zmin) + (nz-1)*dz"
   ]
  },
  {
   "cell_type": "markdown",
   "metadata": {},
   "source": [
    "### Create Gridded Model "
   ]
  },
  {
   "cell_type": "code",
   "execution_count": null,
   "metadata": {},
   "outputs": [],
   "source": [
    "nsub_props = props.shape[0]\n",
    "axes_order = {'X':0,'Y':1,'Z':2} #this dict keeps track of axes order\n",
    "gm3d = gm(props,nsub_props,axes_order,(nx,ny,nz),(dx,dy,dz),(xmin,ymin,zmin))\n",
    "print('gm3d.shape:',gm3d.shape)\n",
    "\n"
   ]
  },
  {
   "cell_type": "markdown",
   "metadata": {},
   "source": [
    "### Plot subsurface slice"
   ]
  },
  {
   "cell_type": "code",
   "execution_count": null,
   "metadata": {},
   "outputs": [],
   "source": [
    "#Slice the z=0 depth slice from gm3d\n",
    "surf = gm3d.depthValsSliceFromZIndex(60)[3]\n",
    "print('surf.shape',surf.shape)\n",
    "\n",
    "#get x,y,z coordinates\n",
    "xc = gm3d.getLocalCoordsPointsX() + xmin\n",
    "yc = gm3d.getLocalCoordsPointsY() + ymin\n",
    "zc = gm3d.getLocalCoordsPointsY() + zmin\n",
    "\n",
    "print('xc.shape:\\n',xc.shape)\n",
    "print('yc.shape:\\n',yc.shape)\n",
    "print('zc.shape:\\n',zc.shape)\n",
    "\n",
    "#get xy coordinate pairs for ploting\n",
    "xyc = np.transpose([np.tile(xc, len(yc)), np.repeat(yc, len(xc))])\n",
    "\n",
    "#get min max to normalize surface\n",
    "#vp_min = np.min(surf)\n",
    "#vp_min = 50.0\n",
    "#vp_max = np.max(surf)\n",
    "#print('vp_min:',vp_min)\n",
    "#print('vp_max:',vp_max)\n",
    "#surf_norm = Normalize(vp_min,vp_max)\n",
    "\n",
    "#fig, ax = plt.subplots(1,figsize=(8,8))\n",
    "#ax.scatter(xyc[:,0],xyc[:,1],s=1,c=surf.flatten(),cmap=plt.cm.jet,norm=surf_norm)\n",
    "#ax.set_title('Full NAM Model Surface (z=0)')\n",
    "#fig.colorbar()\n",
    "#plt.show()"
   ]
  },
  {
   "cell_type": "markdown",
   "metadata": {},
   "source": [
    "### Plot slice"
   ]
  },
  {
   "cell_type": "code",
   "execution_count": null,
   "metadata": {},
   "outputs": [],
   "source": [
    "#get min max to normalize surface\n",
    "vp_min = np.min(surf)\n",
    "vp_max = np.max(surf)\n",
    "print('vp_min:',vp_min)\n",
    "print('vp_max:',vp_max)\n",
    "surf_norm = Normalize(vp_min,vp_max)\n",
    "\n",
    "fig, ax = plt.subplots(1,figsize=(8,8))\n",
    "sc = ax.scatter(xyc[:,0],xyc[:,1],s=1,c=surf.flatten(),cmap=plt.cm.jet,norm=surf_norm)\n",
    "ax.set_title('Full NAM Model Surface (z=0)')\n",
    "fig.colorbar(sc)\n",
    "plt.show()"
   ]
  },
  {
   "cell_type": "markdown",
   "metadata": {},
   "source": [
    "### Smooth Subsurface"
   ]
  },
  {
   "cell_type": "code",
   "execution_count": null,
   "metadata": {},
   "outputs": [],
   "source": [
    "# set sigmas\n",
    "z_sig = 5*(50/dz) # tested at dz=10m and was good, so assume scale by that)\n",
    "y_sig = z_sig*(dz/dy)\n",
    "x_sig = z_sig*(dz/dx)\n",
    "sig_meters = y_sig*50\n",
    "print('sigma (m):',sig_meters)\n",
    "\n",
    "# smooth\n",
    "gm3d.smoothXYZ(x_sig,y_sig,z_sig)\n",
    "\n",
    "# get new smoothed surface\n",
    "#surf = gm3d.depthValsSliceFromZIndex(200)[0]\n",
    "#print('surf.shape',surf.shape)\n",
    "\n",
    "# get new min max to normalize surface\n",
    "#vp_min = np.min(surf)\n",
    "#vp_max = np.max(surf)\n",
    "#surf_norm = Normalize(vp_min,vp_max)\n",
    "\n",
    "#fig, ax = plt.subplots(1,figsize=(8,8))\n",
    "#ax.scatter(xyc[:,0],xyc[:,1],s=1,c=surf.flatten(),cmap=plt.cm.jet,norm=surf_norm)\n",
    "#ax.set_title('Full NAM Model Surface (z=0)')\n",
    "#plt.show()\n",
    "\n"
   ]
  },
  {
   "cell_type": "markdown",
   "metadata": {},
   "source": [
    "## Compres and pickle the smoothed model"
   ]
  },
  {
   "cell_type": "code",
   "execution_count": null,
   "metadata": {},
   "outputs": [],
   "source": [
    "import numpy as np\n",
    "st_dz = 'z' + str(int(dz)) + 'm_'\n",
    "st_sig = 'sig' + str(int(sig_meters)) + 'm_'\n",
    "smth_props = gm3d.getNPArray()\n",
    "osfqn = './smooth_' + st_dz + st_sig + 'intnam_model_vp_vs_rho_Q_props.npz'\n",
    "print(osfqn)\n",
    "np.savez_compressed(osfqn,props=smth_props,xd=xdata,yd=ydata,zd=zdata)"
   ]
  },
  {
   "cell_type": "markdown",
   "metadata": {},
   "source": [
    "### Unpickle smoothed model if needed"
   ]
  },
  {
   "cell_type": "code",
   "execution_count": null,
   "metadata": {},
   "outputs": [],
   "source": [
    "#del gm3d\n",
    "#del smth_props\n",
    "#this is a pickled dictionary with 4D ndarray, and 1D meta data arrays\n",
    "ifilename = './smooth_z10m_sig250m_intnam_model_vp_vs_rho_Q_props.npz'\n",
    "\n",
    "#Unpickle\n",
    "data = np.load(ifilename)\n",
    "props = data['props'] #4D ndarray\n",
    "\n",
    "#meta data arrays\n",
    "xdata = data['xd'] \n",
    "ydata = data['yd']\n",
    "zdata = data['zd']\n",
    "\n",
    "print('xd:\\n',xdata)\n",
    "print('yd:\\n',ydata)\n",
    "print('zd:\\n',zdata)\n",
    "\n",
    "# Setup Coordinate related vars\n",
    "xmin = xdata[0]\n",
    "dx   = xdata[1]\n",
    "nx   = int(xdata[2])\n",
    "xmax = xmin + (nx-1)*dx\n",
    "\n",
    "ymin = ydata[0]\n",
    "dy   = ydata[1]\n",
    "ny   = int(ydata[2])\n",
    "ymax = ymin + (ny-1)*dy\n",
    "\n",
    "zmin = zdata[0]\n",
    "dz   = zdata[1]\n",
    "nz   = int(zdata[2])\n",
    "zmax = (-zmin) + (nz-1)*dz\n",
    "\n",
    "nsub_props = props.shape[0]\n",
    "axes_order = {'X':0,'Y':1,'Z':2} #this dict keeps track of axes order\n",
    "gm3d = gm(props,nsub_props,axes_order,(nx,ny,nz),(dx,dy,dz),(xmin,ymin,zmin))\n",
    "print('gm3d.shape:',gm3d.shape)\n",
    "\n",
    "#free up some memory\n",
    "del props "
   ]
  },
  {
   "cell_type": "markdown",
   "metadata": {},
   "source": [
    "## Get subsurface depth slice of smoothed model"
   ]
  },
  {
   "cell_type": "code",
   "execution_count": null,
   "metadata": {},
   "outputs": [],
   "source": [
    "# get new smoothed surface\n",
    "surf = gm3d.depthValsSliceFromZIndex(200)[0]\n",
    "print('surf.shape',surf.shape)\n"
   ]
  },
  {
   "cell_type": "markdown",
   "metadata": {},
   "source": [
    "## Plot smoothed subsurface slice"
   ]
  },
  {
   "cell_type": "code",
   "execution_count": null,
   "metadata": {},
   "outputs": [],
   "source": [
    "xc = gm3d.getLocalCoordsPointsX() + xmin\n",
    "yc = gm3d.getLocalCoordsPointsY() + ymin\n",
    "zc = gm3d.getLocalCoordsPointsY() + zmin\n",
    "\n",
    "print('xc.shape:\\n',xc.shape)\n",
    "print('yc.shape:\\n',yc.shape)\n",
    "print('zc.shape:\\n',zc.shape)\n",
    "\n",
    "#get xy coordinate pairs for ploting\n",
    "xyc = np.transpose([np.tile(xc, len(yc)), np.repeat(yc, len(xc))])\n",
    "\n",
    "# get new min max to normalize surface\n",
    "vp_min = np.min(surf)\n",
    "vp_max = np.max(surf)\n",
    "surf_norm = Normalize(vp_min,vp_max)\n",
    "\n",
    "fig, ax = plt.subplots(1,figsize=(8,8))\n",
    "sc = ax.scatter(xyc[:,0],xyc[:,1],s=1,c=surf.flatten(),cmap=plt.cm.jet,norm=surf_norm)\n",
    "ax.set_title('Full NAM Model Surface (z=0)')\n",
    "fig.colorbar(sc)\n",
    "plt.show()"
   ]
  },
  {
   "cell_type": "markdown",
   "metadata": {},
   "source": [
    "### Subsample model to reduce memory foot print"
   ]
  },
  {
   "cell_type": "code",
   "execution_count": null,
   "metadata": {},
   "outputs": [],
   "source": [
    "#gm3d.subsample(2,2,10)\n",
    "sub_dz = 10\n",
    "gm3d.subsample(isz=5,idz=sub_dz) # idx=idy=2 by default\n",
    "print('gm3d:',gm3d)"
   ]
  },
  {
   "cell_type": "markdown",
   "metadata": {},
   "source": [
    "## Compres and pickle the subsampled model"
   ]
  },
  {
   "cell_type": "code",
   "execution_count": null,
   "metadata": {},
   "outputs": [],
   "source": [
    "import numpy as np\n",
    "sub_props = gm3d.getNPArray()\n",
    "#ossfqn = './subsamp_smooth_z' + str(dz) + 'm_nam_model_vp_vs_rho_Q_props.npz'\n",
    "ossfqn = './subsamp_smooth_z' + str(int(dz*sub_dz)) + 'm_nam_model_vp_vs_rho_Q_props.npz'\n",
    "print(ossfqn)\n",
    "print('xdata:',xdata)\n",
    "print('ydata:',ydata)\n",
    "print('zdata:',zdata)\n",
    "\n",
    "xdata[0] = gm3d.get_gorigin()[0]\n",
    "ydata[0] = gm3d.get_gorigin()[1]\n",
    "zdata[0] = gm3d.get_gorigin()[2]\n",
    "xdata[1] = gm3d.get_deltas()[0]\n",
    "ydata[1] = gm3d.get_deltas()[1]\n",
    "zdata[1] = gm3d.get_deltas()[2]\n",
    "xdata[2] = gm3d.get_npoints()[0]\n",
    "ydata[2] = gm3d.get_npoints()[1]\n",
    "zdata[2] = gm3d.get_npoints()[2]\n",
    "print('xdata:',xdata)\n",
    "print('ydata:',ydata)\n",
    "print('zdata:',zdata)\n",
    "np.savez_compressed(ossfqn,props=sub_props,xd=xdata,yd=ydata,zd=zdata)"
   ]
  },
  {
   "cell_type": "markdown",
   "metadata": {},
   "source": [
    "### Unpickle subsampled model if needed"
   ]
  },
  {
   "cell_type": "code",
   "execution_count": null,
   "metadata": {},
   "outputs": [],
   "source": [
    "#this is a pickled dictionary with 4D ndarray, and 1D meta data arrays\n",
    "#ifilename = './subsamp_smooth_z10.0m_nam_model_vp_vs_rho_Q_props.npz'\n",
    "ifilename = './subsamp_smooth_z' + str(int(dz*sub_dz)) + 'm_nam_model_vp_vs_rho_Q_props.npz'\n",
    "\n",
    "#Unpickle\n",
    "data = np.load(ifilename)\n",
    "props = data['props'] #4D ndarray\n",
    "\n",
    "#meta data arrays\n",
    "xdata = data['xd'] \n",
    "ydata = data['yd']\n",
    "zdata = data['zd']\n",
    "\n",
    "print('xd:\\n',xdata)\n",
    "print('yd:\\n',ydata)\n",
    "print('zd:\\n',zdata)\n",
    "\n",
    "# Setup Coordinate related vars\n",
    "xmin = xdata[0]\n",
    "dx   = xdata[1]\n",
    "nx   = int(xdata[2])\n",
    "xmax = xmin + (nx-1)*dx\n",
    "\n",
    "ymin = ydata[0]\n",
    "dy   = ydata[1]\n",
    "ny   = int(ydata[2])\n",
    "ymax = ymin + (ny-1)*dy\n",
    "\n",
    "zmin = zdata[0]\n",
    "dz   = zdata[1]\n",
    "nz   = int(zdata[2])\n",
    "zmax = (-zmin) + (nz-1)*dz\n",
    "\n",
    "nsub_props = props.shape[0]\n",
    "axes_order = {'X':0,'Y':1,'Z':2} #this dict keeps track of axes order\n",
    "gm3d = gm(props,nsub_props,axes_order,(nx,ny,nz),(dx,dy,dz),(xmin,ymin,zmin))\n",
    "print('gm3d.shape:',gm3d.shape)\n",
    "\n",
    "#free up some memory\n",
    "del props "
   ]
  },
  {
   "cell_type": "markdown",
   "metadata": {},
   "source": [
    "### Setup coordinate arryas for plotting and slicing"
   ]
  },
  {
   "cell_type": "code",
   "execution_count": null,
   "metadata": {},
   "outputs": [],
   "source": [
    "xc = gm3d.getLocalCoordsPointsX() + xmin\n",
    "yc = gm3d.getLocalCoordsPointsY() + ymin\n",
    "zc = gm3d.getLocalCoordsPointsY() + zmin\n",
    "\n",
    "# get new xy coordinate pairs for ploting\n",
    "xyc = np.transpose([np.tile(xc, len(yc)), np.repeat(yc, len(xc))])\n",
    "\n",
    "print('xc.shape:\\n',xc.shape)\n",
    "print('yc.shape:\\n',yc.shape)\n",
    "print('zc.shape:\\n',zc.shape)\n",
    "\n",
    "# get new smoothed surface\n",
    "surf = gm3d.depthValsSliceFromZIndex(20)[0]\n",
    "print('surf.shape',surf.shape)\n",
    "\n",
    "# get new min max to normalize surface\n",
    "vp_min = np.min(surf)\n",
    "vp_max = np.max(surf)\n",
    "surf_norm = Normalize(vp_min,vp_max)\n",
    "\n",
    "fig, ax = plt.subplots(1,figsize=(8,8))\n",
    "ax.scatter(xyc[:,0],xyc[:,1],s=1,c=surf.flatten(),cmap=plt.cm.jet,norm=surf_norm)\n",
    "ax.set_title('Full NAM Model Surface (z=0)')\n",
    "plt.show()\n"
   ]
  },
  {
   "cell_type": "markdown",
   "metadata": {},
   "source": [
    "### Read seismometer coordinates file and process for coordinates"
   ]
  },
  {
   "cell_type": "code",
   "execution_count": null,
   "metadata": {},
   "outputs": [],
   "source": [
    "import pandas as pd\n",
    "import numpy as np\n",
    "\n",
    "# read file\n",
    "df = pd.io.parsers.read_csv(\"Gloc.csv\",sep=\",\",index_col=0)\n",
    "print(df)\n",
    "print()\n",
    "\n",
    "# remove Lat and Lon and surf elevation\n",
    "df = df.drop(columns=['Latitude [deg]', 'Longitude [deg]', 'Surface elevation [m]'])\n",
    "print('Dropped Lat, Lon, Surf')\n",
    "print(df)\n",
    "print()\n",
    "\n",
    "# remove receivers unless depth is 200 meters\n",
    "df = df[df['Depth below surface [deg]'] > 100 ]\n",
    "print('Remove Shallow')\n",
    "print(df)\n",
    "print()\n",
    "\n",
    "# drop this column\n",
    "df = df.drop(columns=['Depth below surface [deg]'])\n",
    "print('Dropped Depth')\n",
    "print(df[:10])\n",
    "print()\n",
    "\n",
    "#get rec_x\n",
    "rec_x = df[['Rijksdriehoek X [m]']].to_numpy().astype(np.float32)\n",
    "#reshape to vector of only one dim\n",
    "rec_x = rec_x.reshape(rec_x.shape[0])\n",
    "\n",
    "#get rec_y\n",
    "rec_y = df[['Rijksdriehoek Y [m]']].to_numpy().astype(np.float32)\n",
    "#reshape to vector of only one dim\n",
    "rec_y = rec_y.reshape(rec_y.shape[0])"
   ]
  },
  {
   "cell_type": "markdown",
   "metadata": {},
   "source": [
    "### Plot overlay of seismometer locations"
   ]
  },
  {
   "cell_type": "code",
   "execution_count": null,
   "metadata": {
    "scrolled": false
   },
   "outputs": [],
   "source": [
    "fig, ax = plt.subplots(1,figsize=(8,8))\n",
    "ax.scatter(xyc[:,0],xyc[:,1],s=1,c=surf.flatten(),cmap=plt.cm.jet,norm=surf_norm,zorder=0)\n",
    "ax.scatter(rec_x,rec_y,s=50,c='black',marker='v',zorder=1)\n",
    "ax.set_title('Full NAM Model Surface w/ Field Shape')\n",
    "plt.show()"
   ]
  },
  {
   "cell_type": "markdown",
   "metadata": {},
   "source": [
    "### Read Groningen Shape file"
   ]
  },
  {
   "cell_type": "code",
   "execution_count": null,
   "metadata": {},
   "outputs": [],
   "source": [
    "mysf = sf.Reader('FieldShapeFile/Groningen_field')\n",
    "print('mysf:',mysf)\n",
    "print('mysf.shapes():',mysf.shapes())\n",
    "s = mysf.shape(0)"
   ]
  },
  {
   "cell_type": "markdown",
   "metadata": {},
   "source": [
    "### Get Coordinates for Groningen Field Shape and plot"
   ]
  },
  {
   "cell_type": "code",
   "execution_count": null,
   "metadata": {},
   "outputs": [],
   "source": [
    "mypoints = np.asarray(s.points)\n",
    "print(mypoints)\n",
    "\n",
    "fig, ax = plt.subplots(1,figsize=(8,8))\n",
    "ax.scatter(xyc[:,0],xyc[:,1],s=1,c=surf.flatten(),cmap=plt.cm.jet,norm=surf_norm,zorder=0)\n",
    "ax.scatter(rec_x,rec_y,s=50,c='black',marker='v',zorder=1)\n",
    "ax.scatter(mypoints[:,0],mypoints[:,1],s=1,c='black',zorder=2)\n",
    "ax.set_title('Full NAM Model Surface w/ Field Shape')\n",
    "plt.show()"
   ]
  },
  {
   "cell_type": "markdown",
   "metadata": {},
   "source": [
    "### Get and plot bounding box of the ShapeFile"
   ]
  },
  {
   "cell_type": "code",
   "execution_count": null,
   "metadata": {},
   "outputs": [],
   "source": [
    "mybbox = s.bbox #this will be used for slicing (look further down)\n",
    "print('mybbox:',mybbox)\n",
    "\n",
    "pbbox_x = np.array([mybbox[0],mybbox[0],mybbox[2],mybbox[2],mybbox[0]])\n",
    "pbbox_y = np.array([mybbox[1],mybbox[3],mybbox[3],mybbox[1],mybbox[1]])\n",
    "\n",
    "c_loop = np.array([[mybbox[0],mybbox[1]],[mybbox[0],mybbox[3]],\n",
    "                   [mybbox[2],mybbox[3]],[mybbox[2],mybbox[1]],\n",
    "                   [mybbox[0],mybbox[1]]])\n",
    "\n",
    "gf_bbox = bb(c_loop)\n",
    "\n",
    "fig, ax = plt.subplots(1,figsize=(8,8))\n",
    "ax.scatter(xyc[:,0],xyc[:,1],s=1,c=surf.flatten(),cmap=plt.cm.jet,norm=surf_norm,zorder=0)\n",
    "ax.scatter(rec_x,rec_y,s=50,c='black',marker='v',zorder=1)\n",
    "ax.scatter(mypoints[:,0],mypoints[:,1],s=1,c='black',zorder=2)\n",
    "ax.plot(pbbox_x,pbbox_y,c='black',zorder=3)\n",
    "ax.plot(gf_bbox.getCLoop()[:,0],gf_bbox.getCLoop()[:,1],c='yellow',linestyle='dotted',zorder=3)\n",
    "ax.set_title('NAM Model w/ Field Shape and Bbox')\n",
    "plt.show()"
   ]
  },
  {
   "cell_type": "markdown",
   "metadata": {},
   "source": [
    "### Define function for separating receivers that are in and out of the bounding box"
   ]
  },
  {
   "cell_type": "code",
   "execution_count": null,
   "metadata": {},
   "outputs": [],
   "source": [
    "def get_in_out_recs(bbox_x,bbox_y,_rec_x,_rec_y):\n",
    "    xycoords = np.append(_rec_x,_rec_y).reshape((2,len(_rec_x))).T\n",
    "\n",
    "    acoords = np.array([[bbox_x[0],bbox_y[0]],[bbox_x[1],bbox_y[1]],[bbox_x[2],bbox_y[2]],[bbox_x[3],bbox_y[3]]])\n",
    "    boxcoords = list(map(tuple, acoords))\n",
    "    #print('boxcoords:',boxcoords)\n",
    "\n",
    "    poly = Polygon(boxcoords)\n",
    "    #print('poly:',poly)\n",
    "\n",
    "    xyPoints = list(map(Point, xycoords))\n",
    "    is_iside = np.ones((len(xycoords[:,0])),dtype=bool)\n",
    "    is_oside = np.zeros((len(xycoords[:,0])),dtype=bool)\n",
    "    for i in range(len(xyPoints)):\n",
    "        if not poly.contains(xyPoints[i]):\n",
    "            is_iside[i] = False\n",
    "            is_oside[i] = True\n",
    "\n",
    "    #print('is_iside:\\n', is_iside)\n",
    "\n",
    "    i_stations = xycoords[is_iside]\n",
    "    o_stations = xycoords[is_oside]\n",
    "    \n",
    "    return (i_stations,o_stations)\n",
    "\n",
    "#irec, orec = get_in_out_recs(new_box_x,new_box_y,rec_x,rec_y)\n"
   ]
  },
  {
   "cell_type": "markdown",
   "metadata": {},
   "source": [
    "### Plot NAM plus Field plus Bounding Box plus IN and OUT Seismometers"
   ]
  },
  {
   "cell_type": "code",
   "execution_count": null,
   "metadata": {},
   "outputs": [],
   "source": [
    "irec, orec = get_in_out_recs(pbbox_x,pbbox_y,rec_x,rec_y)\n",
    "bbirec, bborec = gf_bbox.separateByInOut(rec_x,rec_y)\n",
    "\n",
    "fig, ax = plt.subplots(1,figsize=(8,8))\n",
    "ax.scatter(xyc[:,0],xyc[:,1],s=1,c=surf.flatten(),cmap=plt.cm.jet,norm=surf_norm,zorder=0)\n",
    "#ax.scatter(rec_x,rec_y,s=50,c='black',marker='v',zorder=1)\n",
    "ax.scatter(irec[:,0],irec[:,1],s=50,c='yellow',marker='v',zorder=1)\n",
    "ax.scatter(orec[:,0],orec[:,1],s=60,c='black',marker='x',zorder=1)\n",
    "ax.scatter(bbirec[:,0],bbirec[:,1],s=30,c='black',marker='.',zorder=1)\n",
    "ax.scatter(bborec[:,0],bborec[:,1],s=30,c='yellow',marker='.',zorder=1)\n",
    "ax.scatter(mypoints[:,0],mypoints[:,1],s=1,c='black',zorder=2)\n",
    "ax.plot(pbbox_x,pbbox_y,c='yellow',zorder=3)\n",
    "ax.set_title('NAM Model w/ Field Shape and Bbox')\n",
    "plt.show()"
   ]
  },
  {
   "cell_type": "markdown",
   "metadata": {},
   "source": [
    "### Shrink the bounding box for computational reasons and then create coordinates"
   ]
  },
  {
   "cell_type": "code",
   "execution_count": null,
   "metadata": {},
   "outputs": [],
   "source": [
    "#shrink and create y coordinates for slicing box\n",
    "vl = np.array([0,0.87*(mybbox[3]-mybbox[1])])\n",
    "dvl = ((0.8575*(mybbox[3]-mybbox[1]))**2)**0.5\n",
    "nvl = dvl//100 + 1\n",
    "y = np.arange(nvl)*100\n",
    "print('nvl:',nvl)\n",
    "\n",
    "#shrink and create x coordinates for slicing box\n",
    "vb = np.array([0.85*(mybbox[2]-mybbox[0]),0])\n",
    "dvb = ((0.8625*(mybbox[2]-mybbox[0]))**2)**0.5\n",
    "nvb = dvb//100 + 1\n",
    "x = np.arange(nvb)*100\n",
    "print('nvb:',nvb)\n",
    "\n",
    "#create set of xy coordinates for slicing box\n",
    "xy = np.transpose([np.tile(x, len(y)), np.repeat(y, len(x))])\n",
    "print('xy.shape:',xy.shape)\n",
    "\n",
    "#global origins\n",
    "xy_xmin = np.min(x)\n",
    "xy_xmax = np.max(x)\n",
    "xy_ymin = np.min(y)\n",
    "xy_ymax = np.max(y)\n",
    "\n",
    "shnk_bbox_x = np.array([xy_xmin,xy_xmin,xy_xmax,xy_xmax,xy_xmin])\n",
    "shnk_bbox_y = np.array([xy_ymin,xy_ymax,xy_ymax,xy_ymin,xy_ymin])\n",
    "shnk_bbox_x += mybbox[0] #translate to global\n",
    "shnk_bbox_y += mybbox[1] #translate to global\n",
    "\n",
    "sc_loop = np.array([[xy_xmin,xy_ymin],[xy_xmin,xy_ymax],\n",
    "                   [xy_xmax,xy_ymax],[xy_xmax,xy_ymin],\n",
    "                   [xy_xmin,xy_ymin]])\n",
    "\n",
    "sgf_bbox = bb(sc_loop)\n",
    "sgf_bbox.translate(mybbox[0],mybbox[1])\n",
    "print('Rotation:',sgf_bbox.getRotDeg())\n",
    "\n",
    "irec, orec = get_in_out_recs(shnk_bbox_x,shnk_bbox_y,rec_x,rec_y)\n",
    "bbirec, bborec = sgf_bbox.separateByInOut(rec_x,rec_y)\n",
    "\n",
    "fig, ax = plt.subplots(1,figsize=(8,8))\n",
    "ax.scatter(xyc[:,0],xyc[:,1],s=1,c=surf.flatten(),cmap=plt.cm.jet,norm=surf_norm,zorder=0)\n",
    "#ax.scatter(rec_x,rec_y,s=50,c='black',marker='v',zorder=1)\n",
    "ax.scatter(irec[:,0],irec[:,1],s=50,c='yellow',marker='v',zorder=1)\n",
    "ax.scatter(orec[:,0],orec[:,1],s=60,c='black',marker='x',zorder=1)\n",
    "ax.scatter(bbirec[:,0],bbirec[:,1],s=30,c='black',marker='.',zorder=2)\n",
    "ax.scatter(bborec[:,0],bborec[:,1],s=30,c='yellow',marker='.',zorder=2)\n",
    "ax.scatter(mypoints[:,0],mypoints[:,1],s=1,c='black',zorder=2)\n",
    "ax.plot(pbbox_x,pbbox_y,c='black',zorder=3)\n",
    "ax.plot(shnk_bbox_x,shnk_bbox_y,c='yellow',zorder=4)\n",
    "ax.plot(sgf_bbox.getCLoop()[:,0],sgf_bbox.getCLoop()[:,1],c='black',linestyle='dotted',zorder=4)\n",
    "ax.set_title('NAM Model w/ Field Shape and Bbox')\n",
    "plt.show()\n"
   ]
  },
  {
   "cell_type": "markdown",
   "metadata": {},
   "source": [
    "### Rotate the bounding box "
   ]
  },
  {
   "cell_type": "code",
   "execution_count": null,
   "metadata": {},
   "outputs": [],
   "source": [
    "#setup rotation matrices\n",
    "degree = 30\n",
    "theta = degree*np.pi/180\n",
    "rm = np.array([[np.cos(theta),-np.sin(theta)],[np.sin(theta),np.cos(theta)]])\n",
    "rmi = np.array([[np.cos(-theta),-np.sin(-theta)],[np.sin(-theta),np.cos(-theta)]])\n",
    "\n",
    "#non rotated bounding box\n",
    "rot_bx = np.array([xy_xmin,xy_xmin,xy_xmax,xy_xmax,xy_xmin])\n",
    "rot_by = np.array([xy_ymin,xy_ymax,xy_ymax,xy_ymin,xy_ymin])\n",
    "\n",
    "#yet to be rotated bounding box\n",
    "rbbox_x = np.zeros_like(rot_bx)\n",
    "rbbox_y = np.zeros_like(rot_by)\n",
    "\n",
    "#rotate bounding box\n",
    "rbbox_x[0] = rm.dot(np.array([rot_bx[0],rot_by[0]]))[0]\n",
    "rbbox_y[0] = rm.dot(np.array([rot_bx[0],rot_by[0]]))[1]\n",
    "rbbox_x[1] = rm.dot(np.array([rot_bx[1],rot_by[1]]))[0]\n",
    "rbbox_y[1] = rm.dot(np.array([rot_bx[1],rot_by[1]]))[1]\n",
    "rbbox_x[2] = rm.dot(np.array([rot_bx[2],rot_by[2]]))[0]\n",
    "rbbox_y[2] = rm.dot(np.array([rot_bx[2],rot_by[2]]))[1]\n",
    "rbbox_x[3] = rm.dot(np.array([rot_bx[3],rot_by[3]]))[0]\n",
    "rbbox_y[3] = rm.dot(np.array([rot_bx[3],rot_by[3]]))[1]\n",
    "rbbox_x[4] = rbbox_x[0]\n",
    "rbbox_y[4] = rbbox_y[0]\n",
    "\n",
    "#rotate coordinates\n",
    "for i in range(len(xy[:,0])):\n",
    "    xy[i,:] = rm.dot(xy[i,:])\n",
    "    \n",
    "#move box to global coordinate location to cover the Groningen Field (this was done by eye)\n",
    "#play wiht the coordinate translations to movie bounding box\n",
    "prbbox_x = np.copy(rbbox_x)\n",
    "prbbox_y = np.copy(rbbox_y)\n",
    "prbbox_x += mybbox[0]\n",
    "prbbox_y += mybbox[1]\n",
    "\n",
    "irec, orec = get_in_out_recs(prbbox_x,prbbox_y,rec_x,rec_y)\n",
    "\n",
    "sgf_bbox.rotate(30)\n",
    "bbirec, bborec = sgf_bbox.separateByInOut(rec_x,rec_y)\n",
    "print('Rotation:',sgf_bbox.getRotDeg())\n",
    "\n",
    "#Plot\n",
    "fig, ax = plt.subplots(1,figsize=(8,8))\n",
    "ax.scatter(xyc[:,0],xyc[:,1],s=1,c=surf.flatten(),cmap=plt.cm.jet,norm=surf_norm,zorder=0)\n",
    "#ax.scatter(rec_x,rec_y,s=50,c='black',marker='v',zorder=1)\n",
    "ax.scatter(irec[:,0],irec[:,1],s=50,c='yellow',marker='v',zorder=1)\n",
    "ax.scatter(orec[:,0],orec[:,1],s=60,c='black',marker='x',zorder=1)\n",
    "ax.scatter(bbirec[:,0],bbirec[:,1],s=30,c='black',marker='.',zorder=2)\n",
    "ax.scatter(bborec[:,0],bborec[:,1],s=30,c='yellow',marker='.',zorder=2)\n",
    "ax.scatter(mypoints[:,0],mypoints[:,1],s=1,c='black',zorder=2)\n",
    "ax.plot(shnk_bbox_x,shnk_bbox_y,c='black',zorder=3)\n",
    "ax.plot(prbbox_x,prbbox_y,c='yellow',zorder=4)\n",
    "ax.plot(sgf_bbox.getCLoop()[:,0],sgf_bbox.getCLoop()[:,1],c='black',linestyle='dotted',zorder=4)\n",
    "ax.set_title('NAM Model w/ Field Shape and Bbox')\n",
    "plt.show()\n",
    "\n"
   ]
  },
  {
   "cell_type": "markdown",
   "metadata": {},
   "source": [
    "### Translate rotated bbox"
   ]
  },
  {
   "cell_type": "code",
   "execution_count": null,
   "metadata": {},
   "outputs": [],
   "source": [
    "import copy\n",
    "#move box to global coordinate location to cover the Groningen Field (this was done by eye)\n",
    "#play wiht the coordinate translations to movie bounding box\n",
    "#xshift = 12600  #original?\n",
    "xshift = 12300  #original?\n",
    "yshift = -2600 #original?\n",
    "#yshift = -2700 \n",
    "#xshift = 12800\n",
    "#yshift = -3500\n",
    "old_box_x = np.copy(prbbox_x)\n",
    "old_box_y = np.copy(prbbox_y)\n",
    "new_box_x = np.copy(prbbox_x)\n",
    "new_box_y = np.copy(prbbox_y)\n",
    "new_box_x += xshift\n",
    "new_box_y += yshift\n",
    "\n",
    "irec, orec = get_in_out_recs(new_box_x,new_box_y,rec_x,rec_y)\n",
    "cpy_bbox = copy.deepcopy(sgf_bbox)\n",
    "sgf_bbox.translate(xshift,yshift)\n",
    "bbirec, bborec = sgf_bbox.separateByInOut(rec_x,rec_y)\n",
    "\n",
    "#Plot\n",
    "fig, ax = plt.subplots(1,figsize=(8,8))\n",
    "ax.scatter(xyc[:,0],xyc[:,1],s=1,c=surf.flatten(),cmap=plt.cm.jet,norm=surf_norm,zorder=0)\n",
    "ax.scatter(mypoints[:,0],mypoints[:,1],s=1,c='black',zorder=1)\n",
    "#ax.scatter(rec_x,rec_y,s=50,c='black',marker='v',zorder=2)\n",
    "ax.scatter(irec[:,0],irec[:,1],s=50,c='yellow',marker='v',zorder=1)\n",
    "ax.scatter(orec[:,0],orec[:,1],s=60,c='black',marker='x',zorder=1)\n",
    "ax.scatter(bbirec[:,0],bbirec[:,1],s=30,c='black',marker='.',zorder=2)\n",
    "ax.scatter(bborec[:,0],bborec[:,1],s=30,c='yellow',marker='.',zorder=2)\n",
    "ax.plot(old_box_x,old_box_y,c='black',zorder=3)\n",
    "ax.plot(new_box_x,new_box_y,c='yellow',zorder=3)\n",
    "ax.plot(sgf_bbox.getCLoop()[:,0],sgf_bbox.getCLoop()[:,1],c='black',linestyle='dotted',zorder=4)\n",
    "ax.set_title('Overlay of Bounding Box for Slicing')\n",
    "plt.show()\n",
    "#tmp_bbox = sgf_bbox\n",
    "#sgf_bbox = cpy_bbox\n",
    "#del tmp_bbox"
   ]
  },
  {
   "cell_type": "markdown",
   "metadata": {},
   "source": [
    "## Now we have the region we want to slice. "
   ]
  },
  {
   "cell_type": "code",
   "execution_count": null,
   "metadata": {},
   "outputs": [],
   "source": [
    "# need to translate the coordinates for interpolation to the coorect location\n",
    "rxy = np.copy(xy)\n",
    "rxy[:,0] += mybbox[0] + xshift\n",
    "rxy[:,1] += mybbox[1] + yshift\n",
    "\n",
    "#Plot\n",
    "fig, ax = plt.subplots(1,figsize=(8,8))\n",
    "ax.scatter(xyc[:,0],xyc[:,1],s=1,c=surf.flatten(),cmap=plt.cm.jet,norm=surf_norm,zorder=0)\n",
    "ax.fill(new_box_x,new_box_y,c='white',zorder=1)\n",
    "#ax.scatter(xy[:,0],xy[:,1],s=1,c=slice_surf,cmap=plt.cm.jet,norm=mynorm_slice,zorder=1)\n",
    "#ax.scatter(rxy[:,0],rxy[:,1],s=1,c='white',zorder=1)\n",
    "ax.scatter(mypoints[:,0],mypoints[:,1],s=1,c='black',zorder=2)\n",
    "#ax.scatter(rec_x,rec_y,s=50,c='black',marker='v',zorder=2)\n",
    "ax.scatter(irec[:,0],irec[:,1],s=50,c='black',marker='v',zorder=3)\n",
    "ax.plot(new_box_x,new_box_y,c='black',zorder=4)\n",
    "ax.set_title('Overlay of Bounding Box for Slicing')\n",
    "plt.show()"
   ]
  },
  {
   "cell_type": "markdown",
   "metadata": {},
   "source": [
    "### Interpolate and slice (make a tile) of a rotated depth slice "
   ]
  },
  {
   "cell_type": "code",
   "execution_count": null,
   "metadata": {},
   "outputs": [],
   "source": [
    "%matplotlib notebook\n",
    "\n",
    "import pickle\n",
    "#slice via xy coords and gm3d\n",
    "slice_surf = gm3d.depthValsSliceFromXYCoordsZIndex(rxy,20,local=False)[0]\n",
    "\n",
    "#Ploting normalization\n",
    "vp_min_s = np.min(slice_surf)\n",
    "vp_max_s = np.max(slice_surf)\n",
    "mynorm_slice = Normalize(vp_min_s,vp_max_s)\n",
    "\n",
    "#plot background NAM as white\n",
    "bgbox_x = np.array([xc[0],xc[0],xc[-1],xc[-1],xc[0]])\n",
    "bgbox_y = np.array([yc[0],yc[-1],yc[-1],yc[0],yc[0]])\n",
    "\n",
    "print('bbox before pickle:\\n',sgf_bbox)\n",
    "f = open('./model_bbox.pickle', 'wb')\n",
    "pickle.dump(sgf_bbox, f)\n",
    "f.close()\n",
    "\n",
    "f = open('./model_bbox.pickle', 'rb')\n",
    "dill_bbox = pickle.load(f)\n",
    "f.close()\n",
    "print('bbox after pickle :\\n',dill_bbox)\n",
    "\n",
    "#Plot\n",
    "fig, ax = plt.subplots(1,figsize=(8,8))\n",
    "ax.fill(bgbox_x,bgbox_y,c='white',zorder=0)\n",
    "sc = ax.scatter(rxy[:,0],rxy[:,1],s=1,c=slice_surf,cmap=plt.cm.jet,norm=mynorm_slice,zorder=1)\n",
    "ax.scatter(mypoints[:,0],mypoints[:,1],s=1,c='black',zorder=2)\n",
    "#ax.scatter(rec_x,rec_y,s=50,c='black',marker='v',zorder=2)\n",
    "ax.scatter(irec[:,0],irec[:,1],s=50,c='black',marker='v',zorder=3)\n",
    "ax.plot(new_box_x,new_box_y,c='black',zorder=4)\n",
    "ax.set_title('Overlay of Bounding Box for Slicing')\n",
    "fig.colorbar(sc)\n",
    "plt.show()"
   ]
  },
  {
   "cell_type": "markdown",
   "metadata": {},
   "source": [
    "### We put it all together."
   ]
  },
  {
   "cell_type": "code",
   "execution_count": null,
   "metadata": {
    "scrolled": false
   },
   "outputs": [],
   "source": [
    "%matplotlib notebook\n",
    "#Plot\n",
    "fig, ax = plt.subplots(1,figsize=(5,5))\n",
    "ax.scatter(xyc[:,0],xyc[:,1],s=1,c=surf.flatten(),cmap=plt.cm.jet,norm=surf_norm,zorder=0)\n",
    "ax.fill(new_box_x,new_box_y,c='white',zorder=1)\n",
    "#ax.fill(bgbox_x,bgbox_y,c='white',zorder=1)\n",
    "ax.scatter(rxy[:,0],rxy[:,1],s=1,c=slice_surf,cmap=plt.cm.jet,norm=surf_norm,zorder=2)\n",
    "ax.scatter(mypoints[:,0],mypoints[:,1],s=1,c='black',zorder=3)\n",
    "#ax.scatter(rec_x,rec_y,s=50,c='black',marker='v',zorder=3)\n",
    "ax.scatter(irec[:,0],irec[:,1],s=50,c='black',marker='v',zorder=4)\n",
    "ax.plot(new_box_x,new_box_y,c='black',zorder=5)\n",
    "ax.set_title('Overlay of Bounding Box for Slicing')\n",
    "plt.ion()\n",
    "plt.show()"
   ]
  },
  {
   "cell_type": "markdown",
   "metadata": {},
   "source": [
    "### Interpolate Subsurface Volume"
   ]
  },
  {
   "cell_type": "code",
   "execution_count": null,
   "metadata": {
    "scrolled": true
   },
   "outputs": [],
   "source": [
    "import time\n",
    "\n",
    "#get sliced subsurface volume\n",
    "start = time.time()\n",
    "slice_props = gm3d.sliceVolumeValsFromCoordsXY(x,y,rxy,local=False)\n",
    "end = time.time()\n",
    "\n",
    "print('runtime:', end - start)"
   ]
  },
  {
   "cell_type": "markdown",
   "metadata": {},
   "source": [
    "### Compress and pickle sliced Volume"
   ]
  },
  {
   "cell_type": "code",
   "execution_count": null,
   "metadata": {},
   "outputs": [],
   "source": [
    "print('len(x):',len(x))\n",
    "print('len(y):',len(y))\n",
    "# compress and pickle new volume\n",
    "orrssslfqn = './rect_rot_subsamp_smooth_z' + str(int(sub_dz*dz)) + 'm_nam_model_vp_vs_rho_Q_props.npz'\n",
    "print(orrssslfqn)\n",
    "np.savez_compressed(orrssslfqn,props=slice_props,xc=x,yc=y,rxyc=rxy)"
   ]
  },
  {
   "cell_type": "code",
   "execution_count": null,
   "metadata": {},
   "outputs": [],
   "source": [
    "slice_props[3,100,100,0]"
   ]
  },
  {
   "cell_type": "markdown",
   "metadata": {},
   "source": [
    "### Unpickle the more sparse sliced volume"
   ]
  },
  {
   "cell_type": "code",
   "execution_count": null,
   "metadata": {},
   "outputs": [],
   "source": [
    "ifilename = './rect_rot_subsamp_smooth_z200.0m_nam_model_vp_vs_rho_Q_props.npz'\n",
    "\n",
    "#Unpickle\n",
    "data = np.load(ifilename)\n",
    "slice_props2 = data['props'] #4D ndarray\n",
    "xc2=data['xc']\n",
    "yc2=data['yc']\n",
    "rsxy2=data['rxyc']"
   ]
  },
  {
   "cell_type": "markdown",
   "metadata": {},
   "source": [
    "### Unpickle the less sparse sliced volume"
   ]
  },
  {
   "cell_type": "code",
   "execution_count": null,
   "metadata": {},
   "outputs": [],
   "source": [
    "ifilename = './rect_rot_subsamp_smooth_z10m_nam_model_vp_vs_rho_Q_props.npz'\n",
    "\n",
    "#Unpickle\n",
    "data = np.load(ifilename)\n",
    "slice_props = data['props'] #4D ndarray\n",
    "xc=data['xc']\n",
    "yc=data['yc']\n",
    "rsxy=data['rxyc']\n",
    "\n",
    "print('slice_props.shape:',slice_props.shape)"
   ]
  },
  {
   "cell_type": "code",
   "execution_count": null,
   "metadata": {},
   "outputs": [],
   "source": [
    "sprops = np.copy(slice_props.reshape((4,61, 386, 291)),order='C')\n",
    "np.min(sprops[2,0,:,:])\n",
    "#rdep_surf = sprops[0,20,:,:].copy()\n",
    "#sprops2 = np.copy(slice_props2.reshape((4,31, 193, 146)),order='C')\n",
    "#rdep_surf2 = sprops2[0,10,:,:].copy()"
   ]
  },
  {
   "cell_type": "code",
   "execution_count": null,
   "metadata": {
    "scrolled": false
   },
   "outputs": [],
   "source": [
    "#%matplotlib notebook\n",
    "#sprops = np.copy(slice_props.reshape((4,61, 386, 291)),order='C')\n",
    "#rdep_surf = sprops[0,20,:,:].copy()\n",
    "#sprops2 = np.copy(slice_props2.reshape((4,31, 193, 146)),order='C')\n",
    "#rdep_surf2 = sprops2[0,10,:,:].copy()\n",
    "\n",
    "#print('is C contig:',sprops[0,:,:,:].flatten().flags['C_CONTIGUOUS'])\n",
    "#print('is C contig:',sprops[0,:,:,:].flatten().flags['F_CONTIGUOUS'])\n",
    "\n",
    "#Plot\n",
    "fig, ax = plt.subplots(1,figsize=(6,6))\n",
    "ax.scatter(xyc[:,0],xyc[:,1],s=1,c=surf.flatten(),cmap=plt.cm.jet,norm=mynorm_slice,zorder=0)\n",
    "ax.fill(bgbox_x,bgbox_y,c='white',zorder=1)\n",
    "#ax.fill(new_box_x,new_box_y,c='white',zorder=1)\n",
    "#ax.scatter(rxy[:,0],rxy[:,1],s=1,c=slice_surf,cmap=plt.cm.jet,norm=mynorm_slice,zorder=2)\n",
    "#ax.scatter(rxy[:,0],rxy[:,1],s=1,c='black',zorder=2)\n",
    "#ax.scatter(rsxy2[:,0],rsxy2[:,1],s=1,c=rdep_surf2.flatten(),cmap=plt.cm.jet,norm=mynorm_slice,zorder=2)\n",
    "ax.scatter(rsxy2[:,0],rsxy2[:,1],s=1,c='white',zorder=3)\n",
    "ax.scatter(rsxy[:,0],rsxy[:,1],s=1,c=rdep_surf.flatten(),cmap=plt.cm.jet,norm=mynorm_slice,zorder=2)\n",
    "#ax.scatter(rsxy[:,0],rsxy[:,1],s=1,c='white',zorder=2)\n",
    "ax.scatter(mypoints[:,0],mypoints[:,1],s=1,c='black',zorder=4)\n",
    "#ax.scatter(rec_x,rec_y,s=50,c='black',marker='v',zorder=4)\n",
    "ax.scatter(irec[:,0],irec[:,1],s=50,c='black',marker='v',zorder=5)\n",
    "#ax.plot(new_box_x,new_box_y,c='black',zorder=6)\n",
    "ax.set_title('Overlay of Bounding Box for Slicing')\n",
    "plt.ion()\n",
    "plt.show()"
   ]
  },
  {
   "cell_type": "markdown",
   "metadata": {},
   "source": [
    "### Write VTK file"
   ]
  },
  {
   "cell_type": "code",
   "execution_count": null,
   "metadata": {},
   "outputs": [],
   "source": [
    "from gnam.vtkutils.write import write_vtk_gridded_model_3d\n",
    "\n",
    "rs_props = sprops.transpose(0,3,2,1).copy()\n",
    "print('rs_props.shape:',rs_props.shape)\n",
    "rxdata = np.zeros((3))\n",
    "rydata = np.zeros((3))\n",
    "rzdata = np.zeros((3))\n",
    "rxdata[1] = gm3d.get_deltas()[0]\n",
    "rydata[1] = gm3d.get_deltas()[1]\n",
    "rzdata[1] = gm3d.get_deltas()[2]\n",
    "rxdata[2] = rs_props.shape[1]\n",
    "rydata[2] = rs_props.shape[2]\n",
    "rzdata[2] = rs_props.shape[3]\n",
    "print('rxdata:',rxdata)\n",
    "print('rydata:',rydata)\n",
    "print('rzdata:',rzdata)\n",
    "vtkfqpname = './rect_rot_wQ_z100m'\n",
    "print('vtkfqpname:',vtkfqpname)\n",
    "write_vtk_gridded_model_3d(vtkfqpname,rs_props,rxdata,rydata,rzdata)"
   ]
  },
  {
   "cell_type": "code",
   "execution_count": null,
   "metadata": {},
   "outputs": [],
   "source": []
  }
 ],
 "metadata": {
  "kernelspec": {
   "display_name": "Python 3",
   "language": "python",
   "name": "python3"
  },
  "language_info": {
   "codemirror_mode": {
    "name": "ipython",
    "version": 3
   },
   "file_extension": ".py",
   "mimetype": "text/x-python",
   "name": "python",
   "nbconvert_exporter": "python",
   "pygments_lexer": "ipython3",
   "version": "3.6.10"
  }
 },
 "nbformat": 4,
 "nbformat_minor": 4
}
