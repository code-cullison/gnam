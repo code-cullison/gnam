{
 "cells": [
  {
   "cell_type": "markdown",
   "metadata": {
    "ExecuteTime": {
     "end_time": "2021-06-07T10:12:15.336048Z",
     "start_time": "2021-06-07T10:12:07.231528Z"
    },
    "code_folding": [
     0
    ]
   },
   "source": [
    "# Slicing volume, smoothing & subsampling\n",
    "\n",
    "\n",
    "Model preparation for Specfem's input using precomputed cubes. Only for rectangular area. To include rotation, check folder (Notebooks)"
   ]
  },
  {
   "cell_type": "code",
   "execution_count": 3,
   "metadata": {
    "ExecuteTime": {
     "end_time": "2021-06-07T14:07:19.352630Z",
     "start_time": "2021-06-07T14:07:11.918029Z"
    },
    "code_folding": []
   },
   "outputs": [],
   "source": [
    "#load all necessary module\n",
    "#SET PATH TO MODULE\n",
    "\n",
    "from sys import argv\n",
    "from sys import path\n",
    "path.append(\"../..\")\n",
    "import numpy as np\n",
    "import pandas as pd\n",
    "import scipy as sp\n",
    "from scipy import ndimage\n",
    "from scipy import signal\n",
    "import matplotlib.pyplot as plt \n",
    "from matplotlib.colors import Normalize\n",
    "from scipy.interpolate import RegularGridInterpolator\n",
    "from gnam.model.gridmod3d import gridmod3d as gm\n",
    "from gnam.model.bbox import bbox as bb\n",
    "import numpy as np\n",
    "from scipy.interpolate import RegularGridInterpolator\n",
    "from scipy.ndimage import gaussian_filter1d\n",
    "import time\n",
    "import copy\n",
    "from tqdm import tqdm_notebook\n",
    "from time import sleep\n",
    "import matplotlib.pyplot as plt #add to module\n",
    "import matplotlib.patches as patches#add to module\n"
   ]
  },
  {
   "cell_type": "code",
   "execution_count": null,
   "metadata": {
    "ExecuteTime": {
     "end_time": "2021-06-07T14:07:32.364499Z",
     "start_time": "2021-06-07T14:07:19.455529Z"
    },
    "code_folding": [
     0
    ]
   },
   "outputs": [],
   "source": [
    "#load data pregenerated data (for details see notebooks folder)\n",
    "ifilename = '../ready_cubes/z10m_nam_model_vp_vs_rho_Q_props_Iban.npz'\n",
    "\n",
    "#unpickle the data above\n",
    "data = np.load(ifilename)\n",
    "props = data['props'] #4D ndarray\n",
    "\n",
    "#meta data arrays\n",
    "xdata = data['xd'] \n",
    "ydata = data['yd']\n",
    "zdata = data['zd']\n",
    "\n",
    "print('xd:\\n',xdata)\n",
    "print('yd:\\n',ydata)\n",
    "print('zd:\\n',zdata)\n",
    "\n",
    "# Setup Coordinate related vars\n",
    "xmin = xdata[0]\n",
    "dx   = xdata[1]\n",
    "nx   = int(xdata[2])\n",
    "xmax = xmin + (nx-1)*dx\n",
    "\n",
    "ymin = ydata[0]\n",
    "dy   = ydata[1]\n",
    "ny   = int(ydata[2])\n",
    "ymax = ymin + (ny-1)*dy\n",
    "\n",
    "zmin = zdata[0]\n",
    "dz   = zdata[1]\n",
    "nz   = int(zdata[2])\n",
    "zmax = (-zmin) + (nz-1)*dz"
   ]
  },
  {
   "cell_type": "code",
   "execution_count": null,
   "metadata": {
    "ExecuteTime": {
     "end_time": "2021-06-07T14:07:32.741860Z",
     "start_time": "2021-06-07T14:07:32.425230Z"
    },
    "code_folding": [
     0
    ]
   },
   "outputs": [],
   "source": [
    "#take all fields and put to gm \n",
    "nsub_props = props.shape[0]\n",
    "axes_order = {'X':0,'Y':1,'Z':2} #this dict keeps track of axes order\n",
    "gm3d = gm(props,nsub_props,axes_order,(nx,ny,nz),(dx,dy,dz),(xmin,ymin,zmin))\n",
    "print(gm3d)"
   ]
  },
  {
   "cell_type": "code",
   "execution_count": null,
   "metadata": {
    "ExecuteTime": {
     "end_time": "2021-06-07T14:07:36.928350Z",
     "start_time": "2021-06-07T14:07:32.804839Z"
    },
    "code_folding": [
     0
    ]
   },
   "outputs": [],
   "source": [
    "#QC the volume and plot the slice \n",
    "gm3d.QCvolume(xslice=250000,yslice=580000,zslice=2000)"
   ]
  },
  {
   "cell_type": "code",
   "execution_count": null,
   "metadata": {
    "ExecuteTime": {
     "end_time": "2021-06-07T14:07:36.990729Z",
     "start_time": "2021-06-07T14:07:36.987811Z"
    }
   },
   "outputs": [],
   "source": [
    "print(gm3d)"
   ]
  },
  {
   "cell_type": "markdown",
   "metadata": {},
   "source": [
    "## Slicing volume based on rectangle"
   ]
  },
  {
   "cell_type": "code",
   "execution_count": null,
   "metadata": {
    "ExecuteTime": {
     "end_time": "2021-06-07T14:07:37.052308Z",
     "start_time": "2021-06-07T14:07:37.050102Z"
    },
    "code_folding": [
     0
    ]
   },
   "outputs": [],
   "source": [
    "#create rectangle for volume slice \n",
    "#x1,x2,y1,y2\n",
    "bound = (226000,250000,580000,600000)\n"
   ]
  },
  {
   "cell_type": "code",
   "execution_count": null,
   "metadata": {
    "ExecuteTime": {
     "end_time": "2021-06-07T14:07:54.961961Z",
     "start_time": "2021-06-07T14:07:52.401882Z"
    },
    "code_folding": [
     0
    ]
   },
   "outputs": [],
   "source": [
    "#Slice volume\n",
    "#turn slicenow to false for just QC the rectangle\n",
    "slgm3d = gm3d.QCslicerectangular(boundingbox=bound,zslice = 0,slicenow=True)\n",
    "\n",
    "#delete gm3d\n",
    "del gm3d"
   ]
  },
  {
   "cell_type": "markdown",
   "metadata": {},
   "source": [
    "## Smoothing sliced volume"
   ]
  },
  {
   "cell_type": "code",
   "execution_count": null,
   "metadata": {
    "ExecuteTime": {
     "end_time": "2021-06-07T14:08:02.962925Z",
     "start_time": "2021-06-07T14:08:02.956821Z"
    },
    "code_folding": [
     0
    ]
   },
   "outputs": [],
   "source": [
    "#get the lenght of smoothing kernel\n",
    "sigma = slgm3d.get_sigma(100)"
   ]
  },
  {
   "cell_type": "code",
   "execution_count": null,
   "metadata": {
    "ExecuteTime": {
     "end_time": "2021-06-07T14:10:06.312701Z",
     "start_time": "2021-06-07T14:08:06.101947Z"
    },
    "code_folding": [
     0
    ]
   },
   "outputs": [],
   "source": [
    "#smoothing\n",
    "slgm3d.smoothXYZ(sigma[0],sigma[1],sigma[2])"
   ]
  },
  {
   "cell_type": "code",
   "execution_count": null,
   "metadata": {
    "ExecuteTime": {
     "end_time": "2021-06-07T14:10:10.182188Z",
     "start_time": "2021-06-07T14:10:06.373466Z"
    },
    "code_folding": [
     0
    ]
   },
   "outputs": [],
   "source": [
    "#QC the result\n",
    "slgm3d.QCvolume(xslice=240000,yslice=590000,zslice=2000)"
   ]
  },
  {
   "cell_type": "markdown",
   "metadata": {},
   "source": [
    "## Subsampling sliced volume"
   ]
  },
  {
   "cell_type": "code",
   "execution_count": null,
   "metadata": {
    "ExecuteTime": {
     "end_time": "2021-06-07T14:10:10.278172Z",
     "start_time": "2021-06-07T14:10:10.274919Z"
    },
    "code_folding": [
     0
    ]
   },
   "outputs": [],
   "source": [
    "#prepare spacing for subsampling\n",
    "newdelta = slgm3d.get_deltasubsamp(100)"
   ]
  },
  {
   "cell_type": "code",
   "execution_count": null,
   "metadata": {
    "ExecuteTime": {
     "end_time": "2021-06-07T14:10:10.461077Z",
     "start_time": "2021-06-07T14:10:10.371330Z"
    },
    "code_folding": [
     0
    ]
   },
   "outputs": [],
   "source": [
    "#subsampling\n",
    "#isz must half delta z \n",
    "slgm3d.subsample(isz=newdelta[2]/2,idx=newdelta[0],idy=newdelta[1],idz=newdelta[2]) "
   ]
  },
  {
   "cell_type": "code",
   "execution_count": null,
   "metadata": {
    "ExecuteTime": {
     "end_time": "2021-06-07T14:10:13.697205Z",
     "start_time": "2021-06-07T14:10:10.529402Z"
    },
    "code_folding": [
     0
    ]
   },
   "outputs": [],
   "source": [
    "#QC the result\n",
    "slgm3d.QCvolume(xslice=240000,yslice=590000,zslice=2000)"
   ]
  },
  {
   "cell_type": "markdown",
   "metadata": {},
   "source": [
    "# Writing for SPECFEM MESH"
   ]
  },
  {
   "cell_type": "code",
   "execution_count": null,
   "metadata": {
    "ExecuteTime": {
     "end_time": "2021-06-07T14:11:05.022957Z",
     "start_time": "2021-06-07T14:10:13.753156Z"
    },
    "code_folding": [
     0
    ]
   },
   "outputs": [],
   "source": [
    "#write the mesh\n",
    "from gnam.specutils.gmutil import gmutil\n",
    "\n",
    "gmu = gmutil()\n",
    "gmu.writeSpecfem3DMesh('specfemmesh/', slgm3d)"
   ]
  },
  {
   "cell_type": "code",
   "execution_count": null,
   "metadata": {},
   "outputs": [],
   "source": []
  },
  {
   "cell_type": "code",
   "execution_count": null,
   "metadata": {},
   "outputs": [],
   "source": []
  },
  {
   "cell_type": "code",
   "execution_count": null,
   "metadata": {},
   "outputs": [],
   "source": []
  },
  {
   "cell_type": "code",
   "execution_count": null,
   "metadata": {},
   "outputs": [],
   "source": []
  },
  {
   "cell_type": "code",
   "execution_count": null,
   "metadata": {},
   "outputs": [],
   "source": []
  },
  {
   "cell_type": "code",
   "execution_count": null,
   "metadata": {},
   "outputs": [],
   "source": []
  },
  {
   "cell_type": "code",
   "execution_count": null,
   "metadata": {},
   "outputs": [],
   "source": []
  },
  {
   "cell_type": "code",
   "execution_count": null,
   "metadata": {},
   "outputs": [],
   "source": []
  },
  {
   "cell_type": "code",
   "execution_count": null,
   "metadata": {},
   "outputs": [],
   "source": []
  },
  {
   "cell_type": "code",
   "execution_count": null,
   "metadata": {},
   "outputs": [],
   "source": []
  },
  {
   "cell_type": "code",
   "execution_count": null,
   "metadata": {},
   "outputs": [],
   "source": []
  }
 ],
 "metadata": {
  "kernelspec": {
   "display_name": "Python 3 (ipykernel)",
   "language": "python",
   "name": "python3"
  },
  "language_info": {
   "codemirror_mode": {
    "name": "ipython",
    "version": 3
   },
   "file_extension": ".py",
   "mimetype": "text/x-python",
   "name": "python",
   "nbconvert_exporter": "python",
   "pygments_lexer": "ipython3",
   "version": "3.9.7"
  },
  "varInspector": {
   "cols": {
    "lenName": 16,
    "lenType": 16,
    "lenVar": 40
   },
   "kernels_config": {
    "python": {
     "delete_cmd_postfix": "",
     "delete_cmd_prefix": "del ",
     "library": "var_list.py",
     "varRefreshCmd": "print(var_dic_list())"
    },
    "r": {
     "delete_cmd_postfix": ") ",
     "delete_cmd_prefix": "rm(",
     "library": "var_list.r",
     "varRefreshCmd": "cat(var_dic_list()) "
    }
   },
   "types_to_exclude": [
    "module",
    "function",
    "builtin_function_or_method",
    "instance",
    "_Feature"
   ],
   "window_display": false
  }
 },
 "nbformat": 4,
 "nbformat_minor": 2
}
